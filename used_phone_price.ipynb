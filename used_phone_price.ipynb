{
 "cells": [
  {
   "cell_type": "code",
   "execution_count": 59,
   "id": "d4380d1e-d2a1-470d-95cc-ae835c7ce083",
   "metadata": {},
   "outputs": [],
   "source": [
    "import pandas as pd\n",
    "import numpy as np"
   ]
  },
  {
   "cell_type": "code",
   "execution_count": 60,
   "id": "39fd3fdf-aa68-4f1b-82e9-b5578d1d493e",
   "metadata": {},
   "outputs": [],
   "source": [
    "data = pd.read_csv(\"Dataset/used_device_data.csv\")"
   ]
  },
  {
   "cell_type": "code",
   "execution_count": 61,
   "id": "2a983a3b-1f33-437f-b98d-f4262772c2c9",
   "metadata": {},
   "outputs": [],
   "source": [
    "df = data.copy()"
   ]
  },
  {
   "cell_type": "code",
   "execution_count": 62,
   "id": "7af16452-a0bb-46a3-afb7-2f7114862005",
   "metadata": {},
   "outputs": [
    {
     "data": {
      "text/html": [
       "<div>\n",
       "<style scoped>\n",
       "    .dataframe tbody tr th:only-of-type {\n",
       "        vertical-align: middle;\n",
       "    }\n",
       "\n",
       "    .dataframe tbody tr th {\n",
       "        vertical-align: top;\n",
       "    }\n",
       "\n",
       "    .dataframe thead th {\n",
       "        text-align: right;\n",
       "    }\n",
       "</style>\n",
       "<table border=\"1\" class=\"dataframe\">\n",
       "  <thead>\n",
       "    <tr style=\"text-align: right;\">\n",
       "      <th></th>\n",
       "      <th>brand_name</th>\n",
       "      <th>os</th>\n",
       "      <th>screen_size</th>\n",
       "      <th>4g</th>\n",
       "      <th>5g</th>\n",
       "      <th>main_camera_mp</th>\n",
       "      <th>selfie_camera_mp</th>\n",
       "      <th>int_memory</th>\n",
       "      <th>ram</th>\n",
       "      <th>battery</th>\n",
       "      <th>weight</th>\n",
       "      <th>release_year</th>\n",
       "      <th>days_used</th>\n",
       "      <th>new_price</th>\n",
       "      <th>used_price</th>\n",
       "    </tr>\n",
       "  </thead>\n",
       "  <tbody>\n",
       "    <tr>\n",
       "      <th>0</th>\n",
       "      <td>Honor</td>\n",
       "      <td>Android</td>\n",
       "      <td>14.50</td>\n",
       "      <td>yes</td>\n",
       "      <td>no</td>\n",
       "      <td>13.0</td>\n",
       "      <td>5.0</td>\n",
       "      <td>64.0</td>\n",
       "      <td>3.0</td>\n",
       "      <td>3020.0</td>\n",
       "      <td>146.0</td>\n",
       "      <td>2020</td>\n",
       "      <td>127</td>\n",
       "      <td>111.62</td>\n",
       "      <td>74.26</td>\n",
       "    </tr>\n",
       "    <tr>\n",
       "      <th>1</th>\n",
       "      <td>Honor</td>\n",
       "      <td>Android</td>\n",
       "      <td>17.30</td>\n",
       "      <td>yes</td>\n",
       "      <td>yes</td>\n",
       "      <td>13.0</td>\n",
       "      <td>16.0</td>\n",
       "      <td>128.0</td>\n",
       "      <td>8.0</td>\n",
       "      <td>4300.0</td>\n",
       "      <td>213.0</td>\n",
       "      <td>2020</td>\n",
       "      <td>325</td>\n",
       "      <td>249.39</td>\n",
       "      <td>174.53</td>\n",
       "    </tr>\n",
       "    <tr>\n",
       "      <th>2</th>\n",
       "      <td>Honor</td>\n",
       "      <td>Android</td>\n",
       "      <td>16.69</td>\n",
       "      <td>yes</td>\n",
       "      <td>yes</td>\n",
       "      <td>13.0</td>\n",
       "      <td>8.0</td>\n",
       "      <td>128.0</td>\n",
       "      <td>8.0</td>\n",
       "      <td>4200.0</td>\n",
       "      <td>213.0</td>\n",
       "      <td>2020</td>\n",
       "      <td>162</td>\n",
       "      <td>359.47</td>\n",
       "      <td>165.85</td>\n",
       "    </tr>\n",
       "    <tr>\n",
       "      <th>3</th>\n",
       "      <td>Honor</td>\n",
       "      <td>Android</td>\n",
       "      <td>25.50</td>\n",
       "      <td>yes</td>\n",
       "      <td>yes</td>\n",
       "      <td>13.0</td>\n",
       "      <td>8.0</td>\n",
       "      <td>64.0</td>\n",
       "      <td>6.0</td>\n",
       "      <td>7250.0</td>\n",
       "      <td>480.0</td>\n",
       "      <td>2020</td>\n",
       "      <td>345</td>\n",
       "      <td>278.93</td>\n",
       "      <td>169.93</td>\n",
       "    </tr>\n",
       "    <tr>\n",
       "      <th>4</th>\n",
       "      <td>Honor</td>\n",
       "      <td>Android</td>\n",
       "      <td>15.32</td>\n",
       "      <td>yes</td>\n",
       "      <td>no</td>\n",
       "      <td>13.0</td>\n",
       "      <td>8.0</td>\n",
       "      <td>64.0</td>\n",
       "      <td>3.0</td>\n",
       "      <td>5000.0</td>\n",
       "      <td>185.0</td>\n",
       "      <td>2020</td>\n",
       "      <td>293</td>\n",
       "      <td>140.87</td>\n",
       "      <td>80.64</td>\n",
       "    </tr>\n",
       "  </tbody>\n",
       "</table>\n",
       "</div>"
      ],
      "text/plain": [
       "  brand_name       os  screen_size   4g   5g  main_camera_mp  \\\n",
       "0      Honor  Android        14.50  yes   no            13.0   \n",
       "1      Honor  Android        17.30  yes  yes            13.0   \n",
       "2      Honor  Android        16.69  yes  yes            13.0   \n",
       "3      Honor  Android        25.50  yes  yes            13.0   \n",
       "4      Honor  Android        15.32  yes   no            13.0   \n",
       "\n",
       "   selfie_camera_mp  int_memory  ram  battery  weight  release_year  \\\n",
       "0               5.0        64.0  3.0   3020.0   146.0          2020   \n",
       "1              16.0       128.0  8.0   4300.0   213.0          2020   \n",
       "2               8.0       128.0  8.0   4200.0   213.0          2020   \n",
       "3               8.0        64.0  6.0   7250.0   480.0          2020   \n",
       "4               8.0        64.0  3.0   5000.0   185.0          2020   \n",
       "\n",
       "   days_used  new_price  used_price  \n",
       "0        127     111.62       74.26  \n",
       "1        325     249.39      174.53  \n",
       "2        162     359.47      165.85  \n",
       "3        345     278.93      169.93  \n",
       "4        293     140.87       80.64  "
      ]
     },
     "execution_count": 62,
     "metadata": {},
     "output_type": "execute_result"
    }
   ],
   "source": [
    "df.head(5)"
   ]
  },
  {
   "cell_type": "markdown",
   "id": "d9ae1722-5d0a-4620-a54d-3ce9757eeecf",
   "metadata": {},
   "source": [
    "## Data Processing"
   ]
  },
  {
   "cell_type": "code",
   "execution_count": 63,
   "id": "37c31aa3-4399-43cc-96c6-b7fa7aa3ccf5",
   "metadata": {},
   "outputs": [
    {
     "data": {
      "text/plain": [
       "(3454, 15)"
      ]
     },
     "execution_count": 63,
     "metadata": {},
     "output_type": "execute_result"
    }
   ],
   "source": [
    "df.shape"
   ]
  },
  {
   "cell_type": "code",
   "execution_count": 64,
   "id": "fd60d731-b759-4864-a918-64ff10d00dae",
   "metadata": {},
   "outputs": [
    {
     "name": "stdout",
     "output_type": "stream",
     "text": [
      "<class 'pandas.core.frame.DataFrame'>\n",
      "RangeIndex: 3454 entries, 0 to 3453\n",
      "Data columns (total 15 columns):\n",
      " #   Column            Non-Null Count  Dtype  \n",
      "---  ------            --------------  -----  \n",
      " 0   brand_name        3454 non-null   object \n",
      " 1   os                3454 non-null   object \n",
      " 2   screen_size       3454 non-null   float64\n",
      " 3   4g                3454 non-null   object \n",
      " 4   5g                3454 non-null   object \n",
      " 5   main_camera_mp    3275 non-null   float64\n",
      " 6   selfie_camera_mp  3452 non-null   float64\n",
      " 7   int_memory        3450 non-null   float64\n",
      " 8   ram               3450 non-null   float64\n",
      " 9   battery           3448 non-null   float64\n",
      " 10  weight            3447 non-null   float64\n",
      " 11  release_year      3454 non-null   int64  \n",
      " 12  days_used         3454 non-null   int64  \n",
      " 13  new_price         3454 non-null   float64\n",
      " 14  used_price        3454 non-null   float64\n",
      "dtypes: float64(9), int64(2), object(4)\n",
      "memory usage: 404.9+ KB\n"
     ]
    }
   ],
   "source": [
    "df.info()"
   ]
  },
  {
   "cell_type": "code",
   "execution_count": 65,
   "id": "05365da2-8275-4fc0-ad5d-ba5bc8059bc7",
   "metadata": {},
   "outputs": [
    {
     "data": {
      "text/html": [
       "<div>\n",
       "<style scoped>\n",
       "    .dataframe tbody tr th:only-of-type {\n",
       "        vertical-align: middle;\n",
       "    }\n",
       "\n",
       "    .dataframe tbody tr th {\n",
       "        vertical-align: top;\n",
       "    }\n",
       "\n",
       "    .dataframe thead th {\n",
       "        text-align: right;\n",
       "    }\n",
       "</style>\n",
       "<table border=\"1\" class=\"dataframe\">\n",
       "  <thead>\n",
       "    <tr style=\"text-align: right;\">\n",
       "      <th></th>\n",
       "      <th>screen_size</th>\n",
       "      <th>main_camera_mp</th>\n",
       "      <th>selfie_camera_mp</th>\n",
       "      <th>int_memory</th>\n",
       "      <th>ram</th>\n",
       "      <th>battery</th>\n",
       "      <th>weight</th>\n",
       "      <th>release_year</th>\n",
       "      <th>days_used</th>\n",
       "      <th>new_price</th>\n",
       "      <th>used_price</th>\n",
       "    </tr>\n",
       "  </thead>\n",
       "  <tbody>\n",
       "    <tr>\n",
       "      <th>count</th>\n",
       "      <td>3454.000000</td>\n",
       "      <td>3275.000000</td>\n",
       "      <td>3452.000000</td>\n",
       "      <td>3450.000000</td>\n",
       "      <td>3450.000000</td>\n",
       "      <td>3448.000000</td>\n",
       "      <td>3447.000000</td>\n",
       "      <td>3454.000000</td>\n",
       "      <td>3454.000000</td>\n",
       "      <td>3454.000000</td>\n",
       "      <td>3454.000000</td>\n",
       "    </tr>\n",
       "    <tr>\n",
       "      <th>mean</th>\n",
       "      <td>13.713115</td>\n",
       "      <td>9.460208</td>\n",
       "      <td>6.554229</td>\n",
       "      <td>54.573099</td>\n",
       "      <td>4.036122</td>\n",
       "      <td>3133.402697</td>\n",
       "      <td>182.751871</td>\n",
       "      <td>2015.965258</td>\n",
       "      <td>674.869716</td>\n",
       "      <td>237.038848</td>\n",
       "      <td>92.302936</td>\n",
       "    </tr>\n",
       "    <tr>\n",
       "      <th>std</th>\n",
       "      <td>3.805280</td>\n",
       "      <td>4.815461</td>\n",
       "      <td>6.970372</td>\n",
       "      <td>84.972371</td>\n",
       "      <td>1.365105</td>\n",
       "      <td>1299.682844</td>\n",
       "      <td>88.413228</td>\n",
       "      <td>2.298455</td>\n",
       "      <td>248.580166</td>\n",
       "      <td>194.302782</td>\n",
       "      <td>54.701648</td>\n",
       "    </tr>\n",
       "    <tr>\n",
       "      <th>min</th>\n",
       "      <td>5.080000</td>\n",
       "      <td>0.080000</td>\n",
       "      <td>0.000000</td>\n",
       "      <td>0.010000</td>\n",
       "      <td>0.020000</td>\n",
       "      <td>500.000000</td>\n",
       "      <td>69.000000</td>\n",
       "      <td>2013.000000</td>\n",
       "      <td>91.000000</td>\n",
       "      <td>18.200000</td>\n",
       "      <td>4.650000</td>\n",
       "    </tr>\n",
       "    <tr>\n",
       "      <th>25%</th>\n",
       "      <td>12.700000</td>\n",
       "      <td>5.000000</td>\n",
       "      <td>2.000000</td>\n",
       "      <td>16.000000</td>\n",
       "      <td>4.000000</td>\n",
       "      <td>2100.000000</td>\n",
       "      <td>142.000000</td>\n",
       "      <td>2014.000000</td>\n",
       "      <td>533.500000</td>\n",
       "      <td>120.342500</td>\n",
       "      <td>56.482500</td>\n",
       "    </tr>\n",
       "    <tr>\n",
       "      <th>50%</th>\n",
       "      <td>12.830000</td>\n",
       "      <td>8.000000</td>\n",
       "      <td>5.000000</td>\n",
       "      <td>32.000000</td>\n",
       "      <td>4.000000</td>\n",
       "      <td>3000.000000</td>\n",
       "      <td>160.000000</td>\n",
       "      <td>2015.500000</td>\n",
       "      <td>690.500000</td>\n",
       "      <td>189.785000</td>\n",
       "      <td>81.870000</td>\n",
       "    </tr>\n",
       "    <tr>\n",
       "      <th>75%</th>\n",
       "      <td>15.340000</td>\n",
       "      <td>13.000000</td>\n",
       "      <td>8.000000</td>\n",
       "      <td>64.000000</td>\n",
       "      <td>4.000000</td>\n",
       "      <td>4000.000000</td>\n",
       "      <td>185.000000</td>\n",
       "      <td>2018.000000</td>\n",
       "      <td>868.750000</td>\n",
       "      <td>291.115000</td>\n",
       "      <td>116.245000</td>\n",
       "    </tr>\n",
       "    <tr>\n",
       "      <th>max</th>\n",
       "      <td>30.710000</td>\n",
       "      <td>48.000000</td>\n",
       "      <td>32.000000</td>\n",
       "      <td>1024.000000</td>\n",
       "      <td>12.000000</td>\n",
       "      <td>9720.000000</td>\n",
       "      <td>855.000000</td>\n",
       "      <td>2020.000000</td>\n",
       "      <td>1094.000000</td>\n",
       "      <td>2560.200000</td>\n",
       "      <td>749.520000</td>\n",
       "    </tr>\n",
       "  </tbody>\n",
       "</table>\n",
       "</div>"
      ],
      "text/plain": [
       "       screen_size  main_camera_mp  selfie_camera_mp   int_memory  \\\n",
       "count  3454.000000     3275.000000       3452.000000  3450.000000   \n",
       "mean     13.713115        9.460208          6.554229    54.573099   \n",
       "std       3.805280        4.815461          6.970372    84.972371   \n",
       "min       5.080000        0.080000          0.000000     0.010000   \n",
       "25%      12.700000        5.000000          2.000000    16.000000   \n",
       "50%      12.830000        8.000000          5.000000    32.000000   \n",
       "75%      15.340000       13.000000          8.000000    64.000000   \n",
       "max      30.710000       48.000000         32.000000  1024.000000   \n",
       "\n",
       "               ram      battery       weight  release_year    days_used  \\\n",
       "count  3450.000000  3448.000000  3447.000000   3454.000000  3454.000000   \n",
       "mean      4.036122  3133.402697   182.751871   2015.965258   674.869716   \n",
       "std       1.365105  1299.682844    88.413228      2.298455   248.580166   \n",
       "min       0.020000   500.000000    69.000000   2013.000000    91.000000   \n",
       "25%       4.000000  2100.000000   142.000000   2014.000000   533.500000   \n",
       "50%       4.000000  3000.000000   160.000000   2015.500000   690.500000   \n",
       "75%       4.000000  4000.000000   185.000000   2018.000000   868.750000   \n",
       "max      12.000000  9720.000000   855.000000   2020.000000  1094.000000   \n",
       "\n",
       "         new_price   used_price  \n",
       "count  3454.000000  3454.000000  \n",
       "mean    237.038848    92.302936  \n",
       "std     194.302782    54.701648  \n",
       "min      18.200000     4.650000  \n",
       "25%     120.342500    56.482500  \n",
       "50%     189.785000    81.870000  \n",
       "75%     291.115000   116.245000  \n",
       "max    2560.200000   749.520000  "
      ]
     },
     "execution_count": 65,
     "metadata": {},
     "output_type": "execute_result"
    }
   ],
   "source": [
    "df.describe()"
   ]
  },
  {
   "cell_type": "code",
   "execution_count": 66,
   "id": "231fa830-75d9-4b99-badd-34878008bcfd",
   "metadata": {},
   "outputs": [
    {
     "data": {
      "text/plain": [
       "brand_name            0\n",
       "os                    0\n",
       "screen_size           0\n",
       "4g                    0\n",
       "5g                    0\n",
       "main_camera_mp      179\n",
       "selfie_camera_mp      2\n",
       "int_memory            4\n",
       "ram                   4\n",
       "battery               6\n",
       "weight                7\n",
       "release_year          0\n",
       "days_used             0\n",
       "new_price             0\n",
       "used_price            0\n",
       "dtype: int64"
      ]
     },
     "execution_count": 66,
     "metadata": {},
     "output_type": "execute_result"
    }
   ],
   "source": [
    "# checking for null values\n",
    "df.isna().sum()"
   ]
  },
  {
   "cell_type": "code",
   "execution_count": 67,
   "id": "7ae583c8-fc81-40ef-b760-cfad36767309",
   "metadata": {},
   "outputs": [
    {
     "data": {
      "text/plain": [
       "brand_name          0.000000\n",
       "os                  0.000000\n",
       "screen_size         0.000000\n",
       "4g                  0.000000\n",
       "5g                  0.000000\n",
       "main_camera_mp      5.182397\n",
       "selfie_camera_mp    0.057904\n",
       "int_memory          0.115808\n",
       "ram                 0.115808\n",
       "battery             0.173712\n",
       "weight              0.202664\n",
       "release_year        0.000000\n",
       "days_used           0.000000\n",
       "new_price           0.000000\n",
       "used_price          0.000000\n",
       "dtype: float64"
      ]
     },
     "execution_count": 67,
     "metadata": {},
     "output_type": "execute_result"
    }
   ],
   "source": [
    "df.isna().sum() * 100 / len(df)"
   ]
  },
  {
   "cell_type": "code",
   "execution_count": 68,
   "id": "3388bcf2-653c-446a-b8f4-5907f1df9375",
   "metadata": {},
   "outputs": [],
   "source": [
    "below_cols = [\"selfie_camera_mp\", \"int_memory\" , \"ram\", \"battery\", \"weight\"]"
   ]
  },
  {
   "cell_type": "code",
   "execution_count": 69,
   "id": "97a2b063-6206-4523-9f53-93efb276f1a5",
   "metadata": {},
   "outputs": [],
   "source": [
    "df =df.dropna(subset = below_cols)"
   ]
  },
  {
   "cell_type": "code",
   "execution_count": 70,
   "id": "e68bacc7-c2f9-4002-bdc9-2f7b2231b1bb",
   "metadata": {},
   "outputs": [
    {
     "data": {
      "text/plain": [
       "brand_name          0.000000\n",
       "os                  0.000000\n",
       "screen_size         0.000000\n",
       "4g                  0.000000\n",
       "5g                  0.000000\n",
       "main_camera_mp      5.215618\n",
       "selfie_camera_mp    0.000000\n",
       "int_memory          0.000000\n",
       "ram                 0.000000\n",
       "battery             0.000000\n",
       "weight              0.000000\n",
       "release_year        0.000000\n",
       "days_used           0.000000\n",
       "new_price           0.000000\n",
       "used_price          0.000000\n",
       "dtype: float64"
      ]
     },
     "execution_count": 70,
     "metadata": {},
     "output_type": "execute_result"
    }
   ],
   "source": [
    "df.isna().sum() * 100 / len(df)"
   ]
  },
  {
   "cell_type": "code",
   "execution_count": 71,
   "id": "9b04e827-d180-4731-99c6-0d5e5b0bced7",
   "metadata": {},
   "outputs": [],
   "source": [
    "df[\"main_camera_mp\"] = df[\"main_camera_mp\"].fillna(df[\"main_camera_mp\"].mode()[0])"
   ]
  },
  {
   "cell_type": "code",
   "execution_count": 72,
   "id": "62fef4da-fac4-47c5-a313-33d43428c831",
   "metadata": {},
   "outputs": [
    {
     "data": {
      "text/plain": [
       "brand_name          0.0\n",
       "os                  0.0\n",
       "screen_size         0.0\n",
       "4g                  0.0\n",
       "5g                  0.0\n",
       "main_camera_mp      0.0\n",
       "selfie_camera_mp    0.0\n",
       "int_memory          0.0\n",
       "ram                 0.0\n",
       "battery             0.0\n",
       "weight              0.0\n",
       "release_year        0.0\n",
       "days_used           0.0\n",
       "new_price           0.0\n",
       "used_price          0.0\n",
       "dtype: float64"
      ]
     },
     "execution_count": 72,
     "metadata": {},
     "output_type": "execute_result"
    }
   ],
   "source": [
    "df.isna().sum() * 100 / len(df)"
   ]
  },
  {
   "cell_type": "code",
   "execution_count": 73,
   "id": "181d8fa3-66e1-419f-bb43-09b6ea6b2596",
   "metadata": {},
   "outputs": [
    {
     "data": {
      "text/html": [
       "<div>\n",
       "<style scoped>\n",
       "    .dataframe tbody tr th:only-of-type {\n",
       "        vertical-align: middle;\n",
       "    }\n",
       "\n",
       "    .dataframe tbody tr th {\n",
       "        vertical-align: top;\n",
       "    }\n",
       "\n",
       "    .dataframe thead th {\n",
       "        text-align: right;\n",
       "    }\n",
       "</style>\n",
       "<table border=\"1\" class=\"dataframe\">\n",
       "  <thead>\n",
       "    <tr style=\"text-align: right;\">\n",
       "      <th></th>\n",
       "      <th>brand_name</th>\n",
       "      <th>os</th>\n",
       "      <th>screen_size</th>\n",
       "      <th>4g</th>\n",
       "      <th>5g</th>\n",
       "      <th>main_camera_mp</th>\n",
       "      <th>selfie_camera_mp</th>\n",
       "      <th>int_memory</th>\n",
       "      <th>ram</th>\n",
       "      <th>battery</th>\n",
       "      <th>weight</th>\n",
       "      <th>release_year</th>\n",
       "      <th>days_used</th>\n",
       "      <th>new_price</th>\n",
       "      <th>used_price</th>\n",
       "    </tr>\n",
       "  </thead>\n",
       "  <tbody>\n",
       "    <tr>\n",
       "      <th>0</th>\n",
       "      <td>Honor</td>\n",
       "      <td>Android</td>\n",
       "      <td>14.50</td>\n",
       "      <td>yes</td>\n",
       "      <td>no</td>\n",
       "      <td>13.0</td>\n",
       "      <td>5.0</td>\n",
       "      <td>64.0</td>\n",
       "      <td>3.0</td>\n",
       "      <td>3020.0</td>\n",
       "      <td>146.0</td>\n",
       "      <td>2020</td>\n",
       "      <td>127</td>\n",
       "      <td>111.62</td>\n",
       "      <td>74.26</td>\n",
       "    </tr>\n",
       "    <tr>\n",
       "      <th>1</th>\n",
       "      <td>Honor</td>\n",
       "      <td>Android</td>\n",
       "      <td>17.30</td>\n",
       "      <td>yes</td>\n",
       "      <td>yes</td>\n",
       "      <td>13.0</td>\n",
       "      <td>16.0</td>\n",
       "      <td>128.0</td>\n",
       "      <td>8.0</td>\n",
       "      <td>4300.0</td>\n",
       "      <td>213.0</td>\n",
       "      <td>2020</td>\n",
       "      <td>325</td>\n",
       "      <td>249.39</td>\n",
       "      <td>174.53</td>\n",
       "    </tr>\n",
       "    <tr>\n",
       "      <th>2</th>\n",
       "      <td>Honor</td>\n",
       "      <td>Android</td>\n",
       "      <td>16.69</td>\n",
       "      <td>yes</td>\n",
       "      <td>yes</td>\n",
       "      <td>13.0</td>\n",
       "      <td>8.0</td>\n",
       "      <td>128.0</td>\n",
       "      <td>8.0</td>\n",
       "      <td>4200.0</td>\n",
       "      <td>213.0</td>\n",
       "      <td>2020</td>\n",
       "      <td>162</td>\n",
       "      <td>359.47</td>\n",
       "      <td>165.85</td>\n",
       "    </tr>\n",
       "    <tr>\n",
       "      <th>3</th>\n",
       "      <td>Honor</td>\n",
       "      <td>Android</td>\n",
       "      <td>25.50</td>\n",
       "      <td>yes</td>\n",
       "      <td>yes</td>\n",
       "      <td>13.0</td>\n",
       "      <td>8.0</td>\n",
       "      <td>64.0</td>\n",
       "      <td>6.0</td>\n",
       "      <td>7250.0</td>\n",
       "      <td>480.0</td>\n",
       "      <td>2020</td>\n",
       "      <td>345</td>\n",
       "      <td>278.93</td>\n",
       "      <td>169.93</td>\n",
       "    </tr>\n",
       "    <tr>\n",
       "      <th>4</th>\n",
       "      <td>Honor</td>\n",
       "      <td>Android</td>\n",
       "      <td>15.32</td>\n",
       "      <td>yes</td>\n",
       "      <td>no</td>\n",
       "      <td>13.0</td>\n",
       "      <td>8.0</td>\n",
       "      <td>64.0</td>\n",
       "      <td>3.0</td>\n",
       "      <td>5000.0</td>\n",
       "      <td>185.0</td>\n",
       "      <td>2020</td>\n",
       "      <td>293</td>\n",
       "      <td>140.87</td>\n",
       "      <td>80.64</td>\n",
       "    </tr>\n",
       "  </tbody>\n",
       "</table>\n",
       "</div>"
      ],
      "text/plain": [
       "  brand_name       os  screen_size   4g   5g  main_camera_mp  \\\n",
       "0      Honor  Android        14.50  yes   no            13.0   \n",
       "1      Honor  Android        17.30  yes  yes            13.0   \n",
       "2      Honor  Android        16.69  yes  yes            13.0   \n",
       "3      Honor  Android        25.50  yes  yes            13.0   \n",
       "4      Honor  Android        15.32  yes   no            13.0   \n",
       "\n",
       "   selfie_camera_mp  int_memory  ram  battery  weight  release_year  \\\n",
       "0               5.0        64.0  3.0   3020.0   146.0          2020   \n",
       "1              16.0       128.0  8.0   4300.0   213.0          2020   \n",
       "2               8.0       128.0  8.0   4200.0   213.0          2020   \n",
       "3               8.0        64.0  6.0   7250.0   480.0          2020   \n",
       "4               8.0        64.0  3.0   5000.0   185.0          2020   \n",
       "\n",
       "   days_used  new_price  used_price  \n",
       "0        127     111.62       74.26  \n",
       "1        325     249.39      174.53  \n",
       "2        162     359.47      165.85  \n",
       "3        345     278.93      169.93  \n",
       "4        293     140.87       80.64  "
      ]
     },
     "execution_count": 73,
     "metadata": {},
     "output_type": "execute_result"
    }
   ],
   "source": [
    "df.head(5)"
   ]
  },
  {
   "cell_type": "code",
   "execution_count": 74,
   "id": "7d194dc3-7901-46b6-8956-83cede2c5982",
   "metadata": {},
   "outputs": [
    {
     "data": {
      "text/plain": [
       "np.int64(0)"
      ]
     },
     "execution_count": 74,
     "metadata": {},
     "output_type": "execute_result"
    }
   ],
   "source": [
    "df.duplicated().sum()"
   ]
  },
  {
   "cell_type": "markdown",
   "id": "68bc1639-39f2-46d1-b337-4e6ab9bd3c84",
   "metadata": {},
   "source": [
    "## EDA"
   ]
  },
  {
   "cell_type": "code",
   "execution_count": 75,
   "id": "54c04166-b61b-4279-84a6-2bd90e2909ff",
   "metadata": {},
   "outputs": [],
   "source": [
    "import matplotlib.pyplot as plt\n",
    "import seaborn as sns\n",
    "import plotly.express as px"
   ]
  },
  {
   "cell_type": "code",
   "execution_count": 76,
   "id": "c173e51d-07da-45e0-bdec-ee7e77a72689",
   "metadata": {},
   "outputs": [
    {
     "data": {
      "text/plain": [
       "brand_name\n",
       "Others        502\n",
       "Samsung       341\n",
       "Huawei        251\n",
       "LG            201\n",
       "Lenovo        171\n",
       "ZTE           140\n",
       "Xiaomi        132\n",
       "Oppo          129\n",
       "Asus          122\n",
       "Alcatel       121\n",
       "Micromax      117\n",
       "Vivo          117\n",
       "Honor         116\n",
       "HTC           110\n",
       "Motorola      106\n",
       "Nokia          97\n",
       "Sony           86\n",
       "Meizu          59\n",
       "Gionee         56\n",
       "Acer           51\n",
       "Panasonic      47\n",
       "XOLO           42\n",
       "Realme         41\n",
       "Apple          39\n",
       "Lava           36\n",
       "Celkon         33\n",
       "Spice          30\n",
       "Karbonn        29\n",
       "BlackBerry     22\n",
       "OnePlus        22\n",
       "Coolpad        22\n",
       "Microsoft      21\n",
       "Google         13\n",
       "Infinix        10\n",
       "Name: count, dtype: int64"
      ]
     },
     "execution_count": 76,
     "metadata": {},
     "output_type": "execute_result"
    }
   ],
   "source": [
    "usage_plot = df[\"brand_name\"].value_counts()\n",
    "usage_plot"
   ]
  },
  {
   "cell_type": "code",
   "execution_count": 77,
   "id": "b63f3f93-631b-43c3-a9e0-66bd2c82a0b6",
   "metadata": {},
   "outputs": [
    {
     "data": {
      "application/vnd.plotly.v1+json": {
       "config": {
        "plotlyServerURL": "https://plot.ly"
       },
       "data": [
        {
         "alignmentgroup": "True",
         "hovertemplate": "brand_name=%{x}<br>Usage Count=%{y}<extra></extra>",
         "legendgroup": "Others",
         "marker": {
          "color": "#636efa",
          "pattern": {
           "shape": ""
          }
         },
         "name": "Others",
         "offsetgroup": "Others",
         "orientation": "v",
         "showlegend": true,
         "textposition": "auto",
         "type": "bar",
         "x": [
          "Others"
         ],
         "xaxis": "x",
         "y": [
          502
         ],
         "yaxis": "y"
        },
        {
         "alignmentgroup": "True",
         "hovertemplate": "brand_name=%{x}<br>Usage Count=%{y}<extra></extra>",
         "legendgroup": "Samsung",
         "marker": {
          "color": "#EF553B",
          "pattern": {
           "shape": ""
          }
         },
         "name": "Samsung",
         "offsetgroup": "Samsung",
         "orientation": "v",
         "showlegend": true,
         "textposition": "auto",
         "type": "bar",
         "x": [
          "Samsung"
         ],
         "xaxis": "x",
         "y": [
          341
         ],
         "yaxis": "y"
        },
        {
         "alignmentgroup": "True",
         "hovertemplate": "brand_name=%{x}<br>Usage Count=%{y}<extra></extra>",
         "legendgroup": "Huawei",
         "marker": {
          "color": "#00cc96",
          "pattern": {
           "shape": ""
          }
         },
         "name": "Huawei",
         "offsetgroup": "Huawei",
         "orientation": "v",
         "showlegend": true,
         "textposition": "auto",
         "type": "bar",
         "x": [
          "Huawei"
         ],
         "xaxis": "x",
         "y": [
          251
         ],
         "yaxis": "y"
        },
        {
         "alignmentgroup": "True",
         "hovertemplate": "brand_name=%{x}<br>Usage Count=%{y}<extra></extra>",
         "legendgroup": "LG",
         "marker": {
          "color": "#ab63fa",
          "pattern": {
           "shape": ""
          }
         },
         "name": "LG",
         "offsetgroup": "LG",
         "orientation": "v",
         "showlegend": true,
         "textposition": "auto",
         "type": "bar",
         "x": [
          "LG"
         ],
         "xaxis": "x",
         "y": [
          201
         ],
         "yaxis": "y"
        },
        {
         "alignmentgroup": "True",
         "hovertemplate": "brand_name=%{x}<br>Usage Count=%{y}<extra></extra>",
         "legendgroup": "Lenovo",
         "marker": {
          "color": "#FFA15A",
          "pattern": {
           "shape": ""
          }
         },
         "name": "Lenovo",
         "offsetgroup": "Lenovo",
         "orientation": "v",
         "showlegend": true,
         "textposition": "auto",
         "type": "bar",
         "x": [
          "Lenovo"
         ],
         "xaxis": "x",
         "y": [
          171
         ],
         "yaxis": "y"
        },
        {
         "alignmentgroup": "True",
         "hovertemplate": "brand_name=%{x}<br>Usage Count=%{y}<extra></extra>",
         "legendgroup": "ZTE",
         "marker": {
          "color": "#19d3f3",
          "pattern": {
           "shape": ""
          }
         },
         "name": "ZTE",
         "offsetgroup": "ZTE",
         "orientation": "v",
         "showlegend": true,
         "textposition": "auto",
         "type": "bar",
         "x": [
          "ZTE"
         ],
         "xaxis": "x",
         "y": [
          140
         ],
         "yaxis": "y"
        },
        {
         "alignmentgroup": "True",
         "hovertemplate": "brand_name=%{x}<br>Usage Count=%{y}<extra></extra>",
         "legendgroup": "Xiaomi",
         "marker": {
          "color": "#FF6692",
          "pattern": {
           "shape": ""
          }
         },
         "name": "Xiaomi",
         "offsetgroup": "Xiaomi",
         "orientation": "v",
         "showlegend": true,
         "textposition": "auto",
         "type": "bar",
         "x": [
          "Xiaomi"
         ],
         "xaxis": "x",
         "y": [
          132
         ],
         "yaxis": "y"
        },
        {
         "alignmentgroup": "True",
         "hovertemplate": "brand_name=%{x}<br>Usage Count=%{y}<extra></extra>",
         "legendgroup": "Oppo",
         "marker": {
          "color": "#B6E880",
          "pattern": {
           "shape": ""
          }
         },
         "name": "Oppo",
         "offsetgroup": "Oppo",
         "orientation": "v",
         "showlegend": true,
         "textposition": "auto",
         "type": "bar",
         "x": [
          "Oppo"
         ],
         "xaxis": "x",
         "y": [
          129
         ],
         "yaxis": "y"
        },
        {
         "alignmentgroup": "True",
         "hovertemplate": "brand_name=%{x}<br>Usage Count=%{y}<extra></extra>",
         "legendgroup": "Asus",
         "marker": {
          "color": "#FF97FF",
          "pattern": {
           "shape": ""
          }
         },
         "name": "Asus",
         "offsetgroup": "Asus",
         "orientation": "v",
         "showlegend": true,
         "textposition": "auto",
         "type": "bar",
         "x": [
          "Asus"
         ],
         "xaxis": "x",
         "y": [
          122
         ],
         "yaxis": "y"
        },
        {
         "alignmentgroup": "True",
         "hovertemplate": "brand_name=%{x}<br>Usage Count=%{y}<extra></extra>",
         "legendgroup": "Alcatel",
         "marker": {
          "color": "#FECB52",
          "pattern": {
           "shape": ""
          }
         },
         "name": "Alcatel",
         "offsetgroup": "Alcatel",
         "orientation": "v",
         "showlegend": true,
         "textposition": "auto",
         "type": "bar",
         "x": [
          "Alcatel"
         ],
         "xaxis": "x",
         "y": [
          121
         ],
         "yaxis": "y"
        },
        {
         "alignmentgroup": "True",
         "hovertemplate": "brand_name=%{x}<br>Usage Count=%{y}<extra></extra>",
         "legendgroup": "Micromax",
         "marker": {
          "color": "#636efa",
          "pattern": {
           "shape": ""
          }
         },
         "name": "Micromax",
         "offsetgroup": "Micromax",
         "orientation": "v",
         "showlegend": true,
         "textposition": "auto",
         "type": "bar",
         "x": [
          "Micromax"
         ],
         "xaxis": "x",
         "y": [
          117
         ],
         "yaxis": "y"
        },
        {
         "alignmentgroup": "True",
         "hovertemplate": "brand_name=%{x}<br>Usage Count=%{y}<extra></extra>",
         "legendgroup": "Vivo",
         "marker": {
          "color": "#EF553B",
          "pattern": {
           "shape": ""
          }
         },
         "name": "Vivo",
         "offsetgroup": "Vivo",
         "orientation": "v",
         "showlegend": true,
         "textposition": "auto",
         "type": "bar",
         "x": [
          "Vivo"
         ],
         "xaxis": "x",
         "y": [
          117
         ],
         "yaxis": "y"
        },
        {
         "alignmentgroup": "True",
         "hovertemplate": "brand_name=%{x}<br>Usage Count=%{y}<extra></extra>",
         "legendgroup": "Honor",
         "marker": {
          "color": "#00cc96",
          "pattern": {
           "shape": ""
          }
         },
         "name": "Honor",
         "offsetgroup": "Honor",
         "orientation": "v",
         "showlegend": true,
         "textposition": "auto",
         "type": "bar",
         "x": [
          "Honor"
         ],
         "xaxis": "x",
         "y": [
          116
         ],
         "yaxis": "y"
        },
        {
         "alignmentgroup": "True",
         "hovertemplate": "brand_name=%{x}<br>Usage Count=%{y}<extra></extra>",
         "legendgroup": "HTC",
         "marker": {
          "color": "#ab63fa",
          "pattern": {
           "shape": ""
          }
         },
         "name": "HTC",
         "offsetgroup": "HTC",
         "orientation": "v",
         "showlegend": true,
         "textposition": "auto",
         "type": "bar",
         "x": [
          "HTC"
         ],
         "xaxis": "x",
         "y": [
          110
         ],
         "yaxis": "y"
        },
        {
         "alignmentgroup": "True",
         "hovertemplate": "brand_name=%{x}<br>Usage Count=%{y}<extra></extra>",
         "legendgroup": "Motorola",
         "marker": {
          "color": "#FFA15A",
          "pattern": {
           "shape": ""
          }
         },
         "name": "Motorola",
         "offsetgroup": "Motorola",
         "orientation": "v",
         "showlegend": true,
         "textposition": "auto",
         "type": "bar",
         "x": [
          "Motorola"
         ],
         "xaxis": "x",
         "y": [
          106
         ],
         "yaxis": "y"
        },
        {
         "alignmentgroup": "True",
         "hovertemplate": "brand_name=%{x}<br>Usage Count=%{y}<extra></extra>",
         "legendgroup": "Nokia",
         "marker": {
          "color": "#19d3f3",
          "pattern": {
           "shape": ""
          }
         },
         "name": "Nokia",
         "offsetgroup": "Nokia",
         "orientation": "v",
         "showlegend": true,
         "textposition": "auto",
         "type": "bar",
         "x": [
          "Nokia"
         ],
         "xaxis": "x",
         "y": [
          97
         ],
         "yaxis": "y"
        },
        {
         "alignmentgroup": "True",
         "hovertemplate": "brand_name=%{x}<br>Usage Count=%{y}<extra></extra>",
         "legendgroup": "Sony",
         "marker": {
          "color": "#FF6692",
          "pattern": {
           "shape": ""
          }
         },
         "name": "Sony",
         "offsetgroup": "Sony",
         "orientation": "v",
         "showlegend": true,
         "textposition": "auto",
         "type": "bar",
         "x": [
          "Sony"
         ],
         "xaxis": "x",
         "y": [
          86
         ],
         "yaxis": "y"
        },
        {
         "alignmentgroup": "True",
         "hovertemplate": "brand_name=%{x}<br>Usage Count=%{y}<extra></extra>",
         "legendgroup": "Meizu",
         "marker": {
          "color": "#B6E880",
          "pattern": {
           "shape": ""
          }
         },
         "name": "Meizu",
         "offsetgroup": "Meizu",
         "orientation": "v",
         "showlegend": true,
         "textposition": "auto",
         "type": "bar",
         "x": [
          "Meizu"
         ],
         "xaxis": "x",
         "y": [
          59
         ],
         "yaxis": "y"
        },
        {
         "alignmentgroup": "True",
         "hovertemplate": "brand_name=%{x}<br>Usage Count=%{y}<extra></extra>",
         "legendgroup": "Gionee",
         "marker": {
          "color": "#FF97FF",
          "pattern": {
           "shape": ""
          }
         },
         "name": "Gionee",
         "offsetgroup": "Gionee",
         "orientation": "v",
         "showlegend": true,
         "textposition": "auto",
         "type": "bar",
         "x": [
          "Gionee"
         ],
         "xaxis": "x",
         "y": [
          56
         ],
         "yaxis": "y"
        },
        {
         "alignmentgroup": "True",
         "hovertemplate": "brand_name=%{x}<br>Usage Count=%{y}<extra></extra>",
         "legendgroup": "Acer",
         "marker": {
          "color": "#FECB52",
          "pattern": {
           "shape": ""
          }
         },
         "name": "Acer",
         "offsetgroup": "Acer",
         "orientation": "v",
         "showlegend": true,
         "textposition": "auto",
         "type": "bar",
         "x": [
          "Acer"
         ],
         "xaxis": "x",
         "y": [
          51
         ],
         "yaxis": "y"
        },
        {
         "alignmentgroup": "True",
         "hovertemplate": "brand_name=%{x}<br>Usage Count=%{y}<extra></extra>",
         "legendgroup": "Panasonic",
         "marker": {
          "color": "#636efa",
          "pattern": {
           "shape": ""
          }
         },
         "name": "Panasonic",
         "offsetgroup": "Panasonic",
         "orientation": "v",
         "showlegend": true,
         "textposition": "auto",
         "type": "bar",
         "x": [
          "Panasonic"
         ],
         "xaxis": "x",
         "y": [
          47
         ],
         "yaxis": "y"
        },
        {
         "alignmentgroup": "True",
         "hovertemplate": "brand_name=%{x}<br>Usage Count=%{y}<extra></extra>",
         "legendgroup": "XOLO",
         "marker": {
          "color": "#EF553B",
          "pattern": {
           "shape": ""
          }
         },
         "name": "XOLO",
         "offsetgroup": "XOLO",
         "orientation": "v",
         "showlegend": true,
         "textposition": "auto",
         "type": "bar",
         "x": [
          "XOLO"
         ],
         "xaxis": "x",
         "y": [
          42
         ],
         "yaxis": "y"
        },
        {
         "alignmentgroup": "True",
         "hovertemplate": "brand_name=%{x}<br>Usage Count=%{y}<extra></extra>",
         "legendgroup": "Realme",
         "marker": {
          "color": "#00cc96",
          "pattern": {
           "shape": ""
          }
         },
         "name": "Realme",
         "offsetgroup": "Realme",
         "orientation": "v",
         "showlegend": true,
         "textposition": "auto",
         "type": "bar",
         "x": [
          "Realme"
         ],
         "xaxis": "x",
         "y": [
          41
         ],
         "yaxis": "y"
        },
        {
         "alignmentgroup": "True",
         "hovertemplate": "brand_name=%{x}<br>Usage Count=%{y}<extra></extra>",
         "legendgroup": "Apple",
         "marker": {
          "color": "#ab63fa",
          "pattern": {
           "shape": ""
          }
         },
         "name": "Apple",
         "offsetgroup": "Apple",
         "orientation": "v",
         "showlegend": true,
         "textposition": "auto",
         "type": "bar",
         "x": [
          "Apple"
         ],
         "xaxis": "x",
         "y": [
          39
         ],
         "yaxis": "y"
        },
        {
         "alignmentgroup": "True",
         "hovertemplate": "brand_name=%{x}<br>Usage Count=%{y}<extra></extra>",
         "legendgroup": "Lava",
         "marker": {
          "color": "#FFA15A",
          "pattern": {
           "shape": ""
          }
         },
         "name": "Lava",
         "offsetgroup": "Lava",
         "orientation": "v",
         "showlegend": true,
         "textposition": "auto",
         "type": "bar",
         "x": [
          "Lava"
         ],
         "xaxis": "x",
         "y": [
          36
         ],
         "yaxis": "y"
        },
        {
         "alignmentgroup": "True",
         "hovertemplate": "brand_name=%{x}<br>Usage Count=%{y}<extra></extra>",
         "legendgroup": "Celkon",
         "marker": {
          "color": "#19d3f3",
          "pattern": {
           "shape": ""
          }
         },
         "name": "Celkon",
         "offsetgroup": "Celkon",
         "orientation": "v",
         "showlegend": true,
         "textposition": "auto",
         "type": "bar",
         "x": [
          "Celkon"
         ],
         "xaxis": "x",
         "y": [
          33
         ],
         "yaxis": "y"
        },
        {
         "alignmentgroup": "True",
         "hovertemplate": "brand_name=%{x}<br>Usage Count=%{y}<extra></extra>",
         "legendgroup": "Spice",
         "marker": {
          "color": "#FF6692",
          "pattern": {
           "shape": ""
          }
         },
         "name": "Spice",
         "offsetgroup": "Spice",
         "orientation": "v",
         "showlegend": true,
         "textposition": "auto",
         "type": "bar",
         "x": [
          "Spice"
         ],
         "xaxis": "x",
         "y": [
          30
         ],
         "yaxis": "y"
        },
        {
         "alignmentgroup": "True",
         "hovertemplate": "brand_name=%{x}<br>Usage Count=%{y}<extra></extra>",
         "legendgroup": "Karbonn",
         "marker": {
          "color": "#B6E880",
          "pattern": {
           "shape": ""
          }
         },
         "name": "Karbonn",
         "offsetgroup": "Karbonn",
         "orientation": "v",
         "showlegend": true,
         "textposition": "auto",
         "type": "bar",
         "x": [
          "Karbonn"
         ],
         "xaxis": "x",
         "y": [
          29
         ],
         "yaxis": "y"
        },
        {
         "alignmentgroup": "True",
         "hovertemplate": "brand_name=%{x}<br>Usage Count=%{y}<extra></extra>",
         "legendgroup": "BlackBerry",
         "marker": {
          "color": "#FF97FF",
          "pattern": {
           "shape": ""
          }
         },
         "name": "BlackBerry",
         "offsetgroup": "BlackBerry",
         "orientation": "v",
         "showlegend": true,
         "textposition": "auto",
         "type": "bar",
         "x": [
          "BlackBerry"
         ],
         "xaxis": "x",
         "y": [
          22
         ],
         "yaxis": "y"
        },
        {
         "alignmentgroup": "True",
         "hovertemplate": "brand_name=%{x}<br>Usage Count=%{y}<extra></extra>",
         "legendgroup": "OnePlus",
         "marker": {
          "color": "#FECB52",
          "pattern": {
           "shape": ""
          }
         },
         "name": "OnePlus",
         "offsetgroup": "OnePlus",
         "orientation": "v",
         "showlegend": true,
         "textposition": "auto",
         "type": "bar",
         "x": [
          "OnePlus"
         ],
         "xaxis": "x",
         "y": [
          22
         ],
         "yaxis": "y"
        },
        {
         "alignmentgroup": "True",
         "hovertemplate": "brand_name=%{x}<br>Usage Count=%{y}<extra></extra>",
         "legendgroup": "Coolpad",
         "marker": {
          "color": "#636efa",
          "pattern": {
           "shape": ""
          }
         },
         "name": "Coolpad",
         "offsetgroup": "Coolpad",
         "orientation": "v",
         "showlegend": true,
         "textposition": "auto",
         "type": "bar",
         "x": [
          "Coolpad"
         ],
         "xaxis": "x",
         "y": [
          22
         ],
         "yaxis": "y"
        },
        {
         "alignmentgroup": "True",
         "hovertemplate": "brand_name=%{x}<br>Usage Count=%{y}<extra></extra>",
         "legendgroup": "Microsoft",
         "marker": {
          "color": "#EF553B",
          "pattern": {
           "shape": ""
          }
         },
         "name": "Microsoft",
         "offsetgroup": "Microsoft",
         "orientation": "v",
         "showlegend": true,
         "textposition": "auto",
         "type": "bar",
         "x": [
          "Microsoft"
         ],
         "xaxis": "x",
         "y": [
          21
         ],
         "yaxis": "y"
        },
        {
         "alignmentgroup": "True",
         "hovertemplate": "brand_name=%{x}<br>Usage Count=%{y}<extra></extra>",
         "legendgroup": "Google",
         "marker": {
          "color": "#00cc96",
          "pattern": {
           "shape": ""
          }
         },
         "name": "Google",
         "offsetgroup": "Google",
         "orientation": "v",
         "showlegend": true,
         "textposition": "auto",
         "type": "bar",
         "x": [
          "Google"
         ],
         "xaxis": "x",
         "y": [
          13
         ],
         "yaxis": "y"
        },
        {
         "alignmentgroup": "True",
         "hovertemplate": "brand_name=%{x}<br>Usage Count=%{y}<extra></extra>",
         "legendgroup": "Infinix",
         "marker": {
          "color": "#ab63fa",
          "pattern": {
           "shape": ""
          }
         },
         "name": "Infinix",
         "offsetgroup": "Infinix",
         "orientation": "v",
         "showlegend": true,
         "textposition": "auto",
         "type": "bar",
         "x": [
          "Infinix"
         ],
         "xaxis": "x",
         "y": [
          10
         ],
         "yaxis": "y"
        }
       ],
       "layout": {
        "autosize": true,
        "barmode": "relative",
        "legend": {
         "title": {
          "text": "brand_name"
         },
         "tracegroupgap": 0
        },
        "template": {
         "data": {
          "bar": [
           {
            "error_x": {
             "color": "#2a3f5f"
            },
            "error_y": {
             "color": "#2a3f5f"
            },
            "marker": {
             "line": {
              "color": "#E5ECF6",
              "width": 0.5
             },
             "pattern": {
              "fillmode": "overlay",
              "size": 10,
              "solidity": 0.2
             }
            },
            "type": "bar"
           }
          ],
          "barpolar": [
           {
            "marker": {
             "line": {
              "color": "#E5ECF6",
              "width": 0.5
             },
             "pattern": {
              "fillmode": "overlay",
              "size": 10,
              "solidity": 0.2
             }
            },
            "type": "barpolar"
           }
          ],
          "carpet": [
           {
            "aaxis": {
             "endlinecolor": "#2a3f5f",
             "gridcolor": "white",
             "linecolor": "white",
             "minorgridcolor": "white",
             "startlinecolor": "#2a3f5f"
            },
            "baxis": {
             "endlinecolor": "#2a3f5f",
             "gridcolor": "white",
             "linecolor": "white",
             "minorgridcolor": "white",
             "startlinecolor": "#2a3f5f"
            },
            "type": "carpet"
           }
          ],
          "choropleth": [
           {
            "colorbar": {
             "outlinewidth": 0,
             "ticks": ""
            },
            "type": "choropleth"
           }
          ],
          "contour": [
           {
            "colorbar": {
             "outlinewidth": 0,
             "ticks": ""
            },
            "colorscale": [
             [
              0,
              "#0d0887"
             ],
             [
              0.1111111111111111,
              "#46039f"
             ],
             [
              0.2222222222222222,
              "#7201a8"
             ],
             [
              0.3333333333333333,
              "#9c179e"
             ],
             [
              0.4444444444444444,
              "#bd3786"
             ],
             [
              0.5555555555555556,
              "#d8576b"
             ],
             [
              0.6666666666666666,
              "#ed7953"
             ],
             [
              0.7777777777777778,
              "#fb9f3a"
             ],
             [
              0.8888888888888888,
              "#fdca26"
             ],
             [
              1,
              "#f0f921"
             ]
            ],
            "type": "contour"
           }
          ],
          "contourcarpet": [
           {
            "colorbar": {
             "outlinewidth": 0,
             "ticks": ""
            },
            "type": "contourcarpet"
           }
          ],
          "heatmap": [
           {
            "colorbar": {
             "outlinewidth": 0,
             "ticks": ""
            },
            "colorscale": [
             [
              0,
              "#0d0887"
             ],
             [
              0.1111111111111111,
              "#46039f"
             ],
             [
              0.2222222222222222,
              "#7201a8"
             ],
             [
              0.3333333333333333,
              "#9c179e"
             ],
             [
              0.4444444444444444,
              "#bd3786"
             ],
             [
              0.5555555555555556,
              "#d8576b"
             ],
             [
              0.6666666666666666,
              "#ed7953"
             ],
             [
              0.7777777777777778,
              "#fb9f3a"
             ],
             [
              0.8888888888888888,
              "#fdca26"
             ],
             [
              1,
              "#f0f921"
             ]
            ],
            "type": "heatmap"
           }
          ],
          "heatmapgl": [
           {
            "colorbar": {
             "outlinewidth": 0,
             "ticks": ""
            },
            "colorscale": [
             [
              0,
              "#0d0887"
             ],
             [
              0.1111111111111111,
              "#46039f"
             ],
             [
              0.2222222222222222,
              "#7201a8"
             ],
             [
              0.3333333333333333,
              "#9c179e"
             ],
             [
              0.4444444444444444,
              "#bd3786"
             ],
             [
              0.5555555555555556,
              "#d8576b"
             ],
             [
              0.6666666666666666,
              "#ed7953"
             ],
             [
              0.7777777777777778,
              "#fb9f3a"
             ],
             [
              0.8888888888888888,
              "#fdca26"
             ],
             [
              1,
              "#f0f921"
             ]
            ],
            "type": "heatmapgl"
           }
          ],
          "histogram": [
           {
            "marker": {
             "pattern": {
              "fillmode": "overlay",
              "size": 10,
              "solidity": 0.2
             }
            },
            "type": "histogram"
           }
          ],
          "histogram2d": [
           {
            "colorbar": {
             "outlinewidth": 0,
             "ticks": ""
            },
            "colorscale": [
             [
              0,
              "#0d0887"
             ],
             [
              0.1111111111111111,
              "#46039f"
             ],
             [
              0.2222222222222222,
              "#7201a8"
             ],
             [
              0.3333333333333333,
              "#9c179e"
             ],
             [
              0.4444444444444444,
              "#bd3786"
             ],
             [
              0.5555555555555556,
              "#d8576b"
             ],
             [
              0.6666666666666666,
              "#ed7953"
             ],
             [
              0.7777777777777778,
              "#fb9f3a"
             ],
             [
              0.8888888888888888,
              "#fdca26"
             ],
             [
              1,
              "#f0f921"
             ]
            ],
            "type": "histogram2d"
           }
          ],
          "histogram2dcontour": [
           {
            "colorbar": {
             "outlinewidth": 0,
             "ticks": ""
            },
            "colorscale": [
             [
              0,
              "#0d0887"
             ],
             [
              0.1111111111111111,
              "#46039f"
             ],
             [
              0.2222222222222222,
              "#7201a8"
             ],
             [
              0.3333333333333333,
              "#9c179e"
             ],
             [
              0.4444444444444444,
              "#bd3786"
             ],
             [
              0.5555555555555556,
              "#d8576b"
             ],
             [
              0.6666666666666666,
              "#ed7953"
             ],
             [
              0.7777777777777778,
              "#fb9f3a"
             ],
             [
              0.8888888888888888,
              "#fdca26"
             ],
             [
              1,
              "#f0f921"
             ]
            ],
            "type": "histogram2dcontour"
           }
          ],
          "mesh3d": [
           {
            "colorbar": {
             "outlinewidth": 0,
             "ticks": ""
            },
            "type": "mesh3d"
           }
          ],
          "parcoords": [
           {
            "line": {
             "colorbar": {
              "outlinewidth": 0,
              "ticks": ""
             }
            },
            "type": "parcoords"
           }
          ],
          "pie": [
           {
            "automargin": true,
            "type": "pie"
           }
          ],
          "scatter": [
           {
            "fillpattern": {
             "fillmode": "overlay",
             "size": 10,
             "solidity": 0.2
            },
            "type": "scatter"
           }
          ],
          "scatter3d": [
           {
            "line": {
             "colorbar": {
              "outlinewidth": 0,
              "ticks": ""
             }
            },
            "marker": {
             "colorbar": {
              "outlinewidth": 0,
              "ticks": ""
             }
            },
            "type": "scatter3d"
           }
          ],
          "scattercarpet": [
           {
            "marker": {
             "colorbar": {
              "outlinewidth": 0,
              "ticks": ""
             }
            },
            "type": "scattercarpet"
           }
          ],
          "scattergeo": [
           {
            "marker": {
             "colorbar": {
              "outlinewidth": 0,
              "ticks": ""
             }
            },
            "type": "scattergeo"
           }
          ],
          "scattergl": [
           {
            "marker": {
             "colorbar": {
              "outlinewidth": 0,
              "ticks": ""
             }
            },
            "type": "scattergl"
           }
          ],
          "scattermapbox": [
           {
            "marker": {
             "colorbar": {
              "outlinewidth": 0,
              "ticks": ""
             }
            },
            "type": "scattermapbox"
           }
          ],
          "scatterpolar": [
           {
            "marker": {
             "colorbar": {
              "outlinewidth": 0,
              "ticks": ""
             }
            },
            "type": "scatterpolar"
           }
          ],
          "scatterpolargl": [
           {
            "marker": {
             "colorbar": {
              "outlinewidth": 0,
              "ticks": ""
             }
            },
            "type": "scatterpolargl"
           }
          ],
          "scatterternary": [
           {
            "marker": {
             "colorbar": {
              "outlinewidth": 0,
              "ticks": ""
             }
            },
            "type": "scatterternary"
           }
          ],
          "surface": [
           {
            "colorbar": {
             "outlinewidth": 0,
             "ticks": ""
            },
            "colorscale": [
             [
              0,
              "#0d0887"
             ],
             [
              0.1111111111111111,
              "#46039f"
             ],
             [
              0.2222222222222222,
              "#7201a8"
             ],
             [
              0.3333333333333333,
              "#9c179e"
             ],
             [
              0.4444444444444444,
              "#bd3786"
             ],
             [
              0.5555555555555556,
              "#d8576b"
             ],
             [
              0.6666666666666666,
              "#ed7953"
             ],
             [
              0.7777777777777778,
              "#fb9f3a"
             ],
             [
              0.8888888888888888,
              "#fdca26"
             ],
             [
              1,
              "#f0f921"
             ]
            ],
            "type": "surface"
           }
          ],
          "table": [
           {
            "cells": {
             "fill": {
              "color": "#EBF0F8"
             },
             "line": {
              "color": "white"
             }
            },
            "header": {
             "fill": {
              "color": "#C8D4E3"
             },
             "line": {
              "color": "white"
             }
            },
            "type": "table"
           }
          ]
         },
         "layout": {
          "annotationdefaults": {
           "arrowcolor": "#2a3f5f",
           "arrowhead": 0,
           "arrowwidth": 1
          },
          "autotypenumbers": "strict",
          "coloraxis": {
           "colorbar": {
            "outlinewidth": 0,
            "ticks": ""
           }
          },
          "colorscale": {
           "diverging": [
            [
             0,
             "#8e0152"
            ],
            [
             0.1,
             "#c51b7d"
            ],
            [
             0.2,
             "#de77ae"
            ],
            [
             0.3,
             "#f1b6da"
            ],
            [
             0.4,
             "#fde0ef"
            ],
            [
             0.5,
             "#f7f7f7"
            ],
            [
             0.6,
             "#e6f5d0"
            ],
            [
             0.7,
             "#b8e186"
            ],
            [
             0.8,
             "#7fbc41"
            ],
            [
             0.9,
             "#4d9221"
            ],
            [
             1,
             "#276419"
            ]
           ],
           "sequential": [
            [
             0,
             "#0d0887"
            ],
            [
             0.1111111111111111,
             "#46039f"
            ],
            [
             0.2222222222222222,
             "#7201a8"
            ],
            [
             0.3333333333333333,
             "#9c179e"
            ],
            [
             0.4444444444444444,
             "#bd3786"
            ],
            [
             0.5555555555555556,
             "#d8576b"
            ],
            [
             0.6666666666666666,
             "#ed7953"
            ],
            [
             0.7777777777777778,
             "#fb9f3a"
            ],
            [
             0.8888888888888888,
             "#fdca26"
            ],
            [
             1,
             "#f0f921"
            ]
           ],
           "sequentialminus": [
            [
             0,
             "#0d0887"
            ],
            [
             0.1111111111111111,
             "#46039f"
            ],
            [
             0.2222222222222222,
             "#7201a8"
            ],
            [
             0.3333333333333333,
             "#9c179e"
            ],
            [
             0.4444444444444444,
             "#bd3786"
            ],
            [
             0.5555555555555556,
             "#d8576b"
            ],
            [
             0.6666666666666666,
             "#ed7953"
            ],
            [
             0.7777777777777778,
             "#fb9f3a"
            ],
            [
             0.8888888888888888,
             "#fdca26"
            ],
            [
             1,
             "#f0f921"
            ]
           ]
          },
          "colorway": [
           "#636efa",
           "#EF553B",
           "#00cc96",
           "#ab63fa",
           "#FFA15A",
           "#19d3f3",
           "#FF6692",
           "#B6E880",
           "#FF97FF",
           "#FECB52"
          ],
          "font": {
           "color": "#2a3f5f"
          },
          "geo": {
           "bgcolor": "white",
           "lakecolor": "white",
           "landcolor": "#E5ECF6",
           "showlakes": true,
           "showland": true,
           "subunitcolor": "white"
          },
          "hoverlabel": {
           "align": "left"
          },
          "hovermode": "closest",
          "mapbox": {
           "style": "light"
          },
          "paper_bgcolor": "white",
          "plot_bgcolor": "#E5ECF6",
          "polar": {
           "angularaxis": {
            "gridcolor": "white",
            "linecolor": "white",
            "ticks": ""
           },
           "bgcolor": "#E5ECF6",
           "radialaxis": {
            "gridcolor": "white",
            "linecolor": "white",
            "ticks": ""
           }
          },
          "scene": {
           "xaxis": {
            "backgroundcolor": "#E5ECF6",
            "gridcolor": "white",
            "gridwidth": 2,
            "linecolor": "white",
            "showbackground": true,
            "ticks": "",
            "zerolinecolor": "white"
           },
           "yaxis": {
            "backgroundcolor": "#E5ECF6",
            "gridcolor": "white",
            "gridwidth": 2,
            "linecolor": "white",
            "showbackground": true,
            "ticks": "",
            "zerolinecolor": "white"
           },
           "zaxis": {
            "backgroundcolor": "#E5ECF6",
            "gridcolor": "white",
            "gridwidth": 2,
            "linecolor": "white",
            "showbackground": true,
            "ticks": "",
            "zerolinecolor": "white"
           }
          },
          "shapedefaults": {
           "line": {
            "color": "#2a3f5f"
           }
          },
          "ternary": {
           "aaxis": {
            "gridcolor": "white",
            "linecolor": "white",
            "ticks": ""
           },
           "baxis": {
            "gridcolor": "white",
            "linecolor": "white",
            "ticks": ""
           },
           "bgcolor": "#E5ECF6",
           "caxis": {
            "gridcolor": "white",
            "linecolor": "white",
            "ticks": ""
           }
          },
          "title": {
           "x": 0.05
          },
          "xaxis": {
           "automargin": true,
           "gridcolor": "white",
           "linecolor": "white",
           "ticks": "",
           "title": {
            "standoff": 15
           },
           "zerolinecolor": "white",
           "zerolinewidth": 2
          },
          "yaxis": {
           "automargin": true,
           "gridcolor": "white",
           "linecolor": "white",
           "ticks": "",
           "title": {
            "standoff": 15
           },
           "zerolinecolor": "white",
           "zerolinewidth": 2
          }
         }
        },
        "title": {
         "text": "Brand Usage Count"
        },
        "xaxis": {
         "anchor": "y",
         "autorange": true,
         "categoryarray": [
          "Others",
          "Samsung",
          "Huawei",
          "LG",
          "Lenovo",
          "ZTE",
          "Xiaomi",
          "Oppo",
          "Asus",
          "Alcatel",
          "Micromax",
          "Vivo",
          "Honor",
          "HTC",
          "Motorola",
          "Nokia",
          "Sony",
          "Meizu",
          "Gionee",
          "Acer",
          "Panasonic",
          "XOLO",
          "Realme",
          "Apple",
          "Lava",
          "Celkon",
          "Spice",
          "Karbonn",
          "BlackBerry",
          "OnePlus",
          "Coolpad",
          "Microsoft",
          "Google",
          "Infinix"
         ],
         "categoryorder": "array",
         "domain": [
          0,
          1
         ],
         "range": [
          -0.5,
          33.5
         ],
         "title": {
          "text": "brand_name"
         },
         "type": "category"
        },
        "yaxis": {
         "anchor": "x",
         "autorange": true,
         "domain": [
          0,
          1
         ],
         "range": [
          0,
          528.421052631579
         ],
         "title": {
          "text": "Usage Count"
         },
         "type": "linear"
        }
       }
      },
      "text/html": [
       "<div>                            <div id=\"81703a8e-4d0b-4bd2-bde3-890499aa25e6\" class=\"plotly-graph-div\" style=\"height:525px; width:100%;\"></div>            <script type=\"text/javascript\">                require([\"plotly\"], function(Plotly) {                    window.PLOTLYENV=window.PLOTLYENV || {};                                    if (document.getElementById(\"81703a8e-4d0b-4bd2-bde3-890499aa25e6\")) {                    Plotly.newPlot(                        \"81703a8e-4d0b-4bd2-bde3-890499aa25e6\",                        [{\"alignmentgroup\":\"True\",\"hovertemplate\":\"brand_name=%{x}\\u003cbr\\u003eUsage Count=%{y}\\u003cextra\\u003e\\u003c\\u002fextra\\u003e\",\"legendgroup\":\"Others\",\"marker\":{\"color\":\"#636efa\",\"pattern\":{\"shape\":\"\"}},\"name\":\"Others\",\"offsetgroup\":\"Others\",\"orientation\":\"v\",\"showlegend\":true,\"textposition\":\"auto\",\"x\":[\"Others\"],\"xaxis\":\"x\",\"y\":[502],\"yaxis\":\"y\",\"type\":\"bar\"},{\"alignmentgroup\":\"True\",\"hovertemplate\":\"brand_name=%{x}\\u003cbr\\u003eUsage Count=%{y}\\u003cextra\\u003e\\u003c\\u002fextra\\u003e\",\"legendgroup\":\"Samsung\",\"marker\":{\"color\":\"#EF553B\",\"pattern\":{\"shape\":\"\"}},\"name\":\"Samsung\",\"offsetgroup\":\"Samsung\",\"orientation\":\"v\",\"showlegend\":true,\"textposition\":\"auto\",\"x\":[\"Samsung\"],\"xaxis\":\"x\",\"y\":[341],\"yaxis\":\"y\",\"type\":\"bar\"},{\"alignmentgroup\":\"True\",\"hovertemplate\":\"brand_name=%{x}\\u003cbr\\u003eUsage Count=%{y}\\u003cextra\\u003e\\u003c\\u002fextra\\u003e\",\"legendgroup\":\"Huawei\",\"marker\":{\"color\":\"#00cc96\",\"pattern\":{\"shape\":\"\"}},\"name\":\"Huawei\",\"offsetgroup\":\"Huawei\",\"orientation\":\"v\",\"showlegend\":true,\"textposition\":\"auto\",\"x\":[\"Huawei\"],\"xaxis\":\"x\",\"y\":[251],\"yaxis\":\"y\",\"type\":\"bar\"},{\"alignmentgroup\":\"True\",\"hovertemplate\":\"brand_name=%{x}\\u003cbr\\u003eUsage Count=%{y}\\u003cextra\\u003e\\u003c\\u002fextra\\u003e\",\"legendgroup\":\"LG\",\"marker\":{\"color\":\"#ab63fa\",\"pattern\":{\"shape\":\"\"}},\"name\":\"LG\",\"offsetgroup\":\"LG\",\"orientation\":\"v\",\"showlegend\":true,\"textposition\":\"auto\",\"x\":[\"LG\"],\"xaxis\":\"x\",\"y\":[201],\"yaxis\":\"y\",\"type\":\"bar\"},{\"alignmentgroup\":\"True\",\"hovertemplate\":\"brand_name=%{x}\\u003cbr\\u003eUsage Count=%{y}\\u003cextra\\u003e\\u003c\\u002fextra\\u003e\",\"legendgroup\":\"Lenovo\",\"marker\":{\"color\":\"#FFA15A\",\"pattern\":{\"shape\":\"\"}},\"name\":\"Lenovo\",\"offsetgroup\":\"Lenovo\",\"orientation\":\"v\",\"showlegend\":true,\"textposition\":\"auto\",\"x\":[\"Lenovo\"],\"xaxis\":\"x\",\"y\":[171],\"yaxis\":\"y\",\"type\":\"bar\"},{\"alignmentgroup\":\"True\",\"hovertemplate\":\"brand_name=%{x}\\u003cbr\\u003eUsage Count=%{y}\\u003cextra\\u003e\\u003c\\u002fextra\\u003e\",\"legendgroup\":\"ZTE\",\"marker\":{\"color\":\"#19d3f3\",\"pattern\":{\"shape\":\"\"}},\"name\":\"ZTE\",\"offsetgroup\":\"ZTE\",\"orientation\":\"v\",\"showlegend\":true,\"textposition\":\"auto\",\"x\":[\"ZTE\"],\"xaxis\":\"x\",\"y\":[140],\"yaxis\":\"y\",\"type\":\"bar\"},{\"alignmentgroup\":\"True\",\"hovertemplate\":\"brand_name=%{x}\\u003cbr\\u003eUsage Count=%{y}\\u003cextra\\u003e\\u003c\\u002fextra\\u003e\",\"legendgroup\":\"Xiaomi\",\"marker\":{\"color\":\"#FF6692\",\"pattern\":{\"shape\":\"\"}},\"name\":\"Xiaomi\",\"offsetgroup\":\"Xiaomi\",\"orientation\":\"v\",\"showlegend\":true,\"textposition\":\"auto\",\"x\":[\"Xiaomi\"],\"xaxis\":\"x\",\"y\":[132],\"yaxis\":\"y\",\"type\":\"bar\"},{\"alignmentgroup\":\"True\",\"hovertemplate\":\"brand_name=%{x}\\u003cbr\\u003eUsage Count=%{y}\\u003cextra\\u003e\\u003c\\u002fextra\\u003e\",\"legendgroup\":\"Oppo\",\"marker\":{\"color\":\"#B6E880\",\"pattern\":{\"shape\":\"\"}},\"name\":\"Oppo\",\"offsetgroup\":\"Oppo\",\"orientation\":\"v\",\"showlegend\":true,\"textposition\":\"auto\",\"x\":[\"Oppo\"],\"xaxis\":\"x\",\"y\":[129],\"yaxis\":\"y\",\"type\":\"bar\"},{\"alignmentgroup\":\"True\",\"hovertemplate\":\"brand_name=%{x}\\u003cbr\\u003eUsage Count=%{y}\\u003cextra\\u003e\\u003c\\u002fextra\\u003e\",\"legendgroup\":\"Asus\",\"marker\":{\"color\":\"#FF97FF\",\"pattern\":{\"shape\":\"\"}},\"name\":\"Asus\",\"offsetgroup\":\"Asus\",\"orientation\":\"v\",\"showlegend\":true,\"textposition\":\"auto\",\"x\":[\"Asus\"],\"xaxis\":\"x\",\"y\":[122],\"yaxis\":\"y\",\"type\":\"bar\"},{\"alignmentgroup\":\"True\",\"hovertemplate\":\"brand_name=%{x}\\u003cbr\\u003eUsage Count=%{y}\\u003cextra\\u003e\\u003c\\u002fextra\\u003e\",\"legendgroup\":\"Alcatel\",\"marker\":{\"color\":\"#FECB52\",\"pattern\":{\"shape\":\"\"}},\"name\":\"Alcatel\",\"offsetgroup\":\"Alcatel\",\"orientation\":\"v\",\"showlegend\":true,\"textposition\":\"auto\",\"x\":[\"Alcatel\"],\"xaxis\":\"x\",\"y\":[121],\"yaxis\":\"y\",\"type\":\"bar\"},{\"alignmentgroup\":\"True\",\"hovertemplate\":\"brand_name=%{x}\\u003cbr\\u003eUsage Count=%{y}\\u003cextra\\u003e\\u003c\\u002fextra\\u003e\",\"legendgroup\":\"Micromax\",\"marker\":{\"color\":\"#636efa\",\"pattern\":{\"shape\":\"\"}},\"name\":\"Micromax\",\"offsetgroup\":\"Micromax\",\"orientation\":\"v\",\"showlegend\":true,\"textposition\":\"auto\",\"x\":[\"Micromax\"],\"xaxis\":\"x\",\"y\":[117],\"yaxis\":\"y\",\"type\":\"bar\"},{\"alignmentgroup\":\"True\",\"hovertemplate\":\"brand_name=%{x}\\u003cbr\\u003eUsage Count=%{y}\\u003cextra\\u003e\\u003c\\u002fextra\\u003e\",\"legendgroup\":\"Vivo\",\"marker\":{\"color\":\"#EF553B\",\"pattern\":{\"shape\":\"\"}},\"name\":\"Vivo\",\"offsetgroup\":\"Vivo\",\"orientation\":\"v\",\"showlegend\":true,\"textposition\":\"auto\",\"x\":[\"Vivo\"],\"xaxis\":\"x\",\"y\":[117],\"yaxis\":\"y\",\"type\":\"bar\"},{\"alignmentgroup\":\"True\",\"hovertemplate\":\"brand_name=%{x}\\u003cbr\\u003eUsage Count=%{y}\\u003cextra\\u003e\\u003c\\u002fextra\\u003e\",\"legendgroup\":\"Honor\",\"marker\":{\"color\":\"#00cc96\",\"pattern\":{\"shape\":\"\"}},\"name\":\"Honor\",\"offsetgroup\":\"Honor\",\"orientation\":\"v\",\"showlegend\":true,\"textposition\":\"auto\",\"x\":[\"Honor\"],\"xaxis\":\"x\",\"y\":[116],\"yaxis\":\"y\",\"type\":\"bar\"},{\"alignmentgroup\":\"True\",\"hovertemplate\":\"brand_name=%{x}\\u003cbr\\u003eUsage Count=%{y}\\u003cextra\\u003e\\u003c\\u002fextra\\u003e\",\"legendgroup\":\"HTC\",\"marker\":{\"color\":\"#ab63fa\",\"pattern\":{\"shape\":\"\"}},\"name\":\"HTC\",\"offsetgroup\":\"HTC\",\"orientation\":\"v\",\"showlegend\":true,\"textposition\":\"auto\",\"x\":[\"HTC\"],\"xaxis\":\"x\",\"y\":[110],\"yaxis\":\"y\",\"type\":\"bar\"},{\"alignmentgroup\":\"True\",\"hovertemplate\":\"brand_name=%{x}\\u003cbr\\u003eUsage Count=%{y}\\u003cextra\\u003e\\u003c\\u002fextra\\u003e\",\"legendgroup\":\"Motorola\",\"marker\":{\"color\":\"#FFA15A\",\"pattern\":{\"shape\":\"\"}},\"name\":\"Motorola\",\"offsetgroup\":\"Motorola\",\"orientation\":\"v\",\"showlegend\":true,\"textposition\":\"auto\",\"x\":[\"Motorola\"],\"xaxis\":\"x\",\"y\":[106],\"yaxis\":\"y\",\"type\":\"bar\"},{\"alignmentgroup\":\"True\",\"hovertemplate\":\"brand_name=%{x}\\u003cbr\\u003eUsage Count=%{y}\\u003cextra\\u003e\\u003c\\u002fextra\\u003e\",\"legendgroup\":\"Nokia\",\"marker\":{\"color\":\"#19d3f3\",\"pattern\":{\"shape\":\"\"}},\"name\":\"Nokia\",\"offsetgroup\":\"Nokia\",\"orientation\":\"v\",\"showlegend\":true,\"textposition\":\"auto\",\"x\":[\"Nokia\"],\"xaxis\":\"x\",\"y\":[97],\"yaxis\":\"y\",\"type\":\"bar\"},{\"alignmentgroup\":\"True\",\"hovertemplate\":\"brand_name=%{x}\\u003cbr\\u003eUsage Count=%{y}\\u003cextra\\u003e\\u003c\\u002fextra\\u003e\",\"legendgroup\":\"Sony\",\"marker\":{\"color\":\"#FF6692\",\"pattern\":{\"shape\":\"\"}},\"name\":\"Sony\",\"offsetgroup\":\"Sony\",\"orientation\":\"v\",\"showlegend\":true,\"textposition\":\"auto\",\"x\":[\"Sony\"],\"xaxis\":\"x\",\"y\":[86],\"yaxis\":\"y\",\"type\":\"bar\"},{\"alignmentgroup\":\"True\",\"hovertemplate\":\"brand_name=%{x}\\u003cbr\\u003eUsage Count=%{y}\\u003cextra\\u003e\\u003c\\u002fextra\\u003e\",\"legendgroup\":\"Meizu\",\"marker\":{\"color\":\"#B6E880\",\"pattern\":{\"shape\":\"\"}},\"name\":\"Meizu\",\"offsetgroup\":\"Meizu\",\"orientation\":\"v\",\"showlegend\":true,\"textposition\":\"auto\",\"x\":[\"Meizu\"],\"xaxis\":\"x\",\"y\":[59],\"yaxis\":\"y\",\"type\":\"bar\"},{\"alignmentgroup\":\"True\",\"hovertemplate\":\"brand_name=%{x}\\u003cbr\\u003eUsage Count=%{y}\\u003cextra\\u003e\\u003c\\u002fextra\\u003e\",\"legendgroup\":\"Gionee\",\"marker\":{\"color\":\"#FF97FF\",\"pattern\":{\"shape\":\"\"}},\"name\":\"Gionee\",\"offsetgroup\":\"Gionee\",\"orientation\":\"v\",\"showlegend\":true,\"textposition\":\"auto\",\"x\":[\"Gionee\"],\"xaxis\":\"x\",\"y\":[56],\"yaxis\":\"y\",\"type\":\"bar\"},{\"alignmentgroup\":\"True\",\"hovertemplate\":\"brand_name=%{x}\\u003cbr\\u003eUsage Count=%{y}\\u003cextra\\u003e\\u003c\\u002fextra\\u003e\",\"legendgroup\":\"Acer\",\"marker\":{\"color\":\"#FECB52\",\"pattern\":{\"shape\":\"\"}},\"name\":\"Acer\",\"offsetgroup\":\"Acer\",\"orientation\":\"v\",\"showlegend\":true,\"textposition\":\"auto\",\"x\":[\"Acer\"],\"xaxis\":\"x\",\"y\":[51],\"yaxis\":\"y\",\"type\":\"bar\"},{\"alignmentgroup\":\"True\",\"hovertemplate\":\"brand_name=%{x}\\u003cbr\\u003eUsage Count=%{y}\\u003cextra\\u003e\\u003c\\u002fextra\\u003e\",\"legendgroup\":\"Panasonic\",\"marker\":{\"color\":\"#636efa\",\"pattern\":{\"shape\":\"\"}},\"name\":\"Panasonic\",\"offsetgroup\":\"Panasonic\",\"orientation\":\"v\",\"showlegend\":true,\"textposition\":\"auto\",\"x\":[\"Panasonic\"],\"xaxis\":\"x\",\"y\":[47],\"yaxis\":\"y\",\"type\":\"bar\"},{\"alignmentgroup\":\"True\",\"hovertemplate\":\"brand_name=%{x}\\u003cbr\\u003eUsage Count=%{y}\\u003cextra\\u003e\\u003c\\u002fextra\\u003e\",\"legendgroup\":\"XOLO\",\"marker\":{\"color\":\"#EF553B\",\"pattern\":{\"shape\":\"\"}},\"name\":\"XOLO\",\"offsetgroup\":\"XOLO\",\"orientation\":\"v\",\"showlegend\":true,\"textposition\":\"auto\",\"x\":[\"XOLO\"],\"xaxis\":\"x\",\"y\":[42],\"yaxis\":\"y\",\"type\":\"bar\"},{\"alignmentgroup\":\"True\",\"hovertemplate\":\"brand_name=%{x}\\u003cbr\\u003eUsage Count=%{y}\\u003cextra\\u003e\\u003c\\u002fextra\\u003e\",\"legendgroup\":\"Realme\",\"marker\":{\"color\":\"#00cc96\",\"pattern\":{\"shape\":\"\"}},\"name\":\"Realme\",\"offsetgroup\":\"Realme\",\"orientation\":\"v\",\"showlegend\":true,\"textposition\":\"auto\",\"x\":[\"Realme\"],\"xaxis\":\"x\",\"y\":[41],\"yaxis\":\"y\",\"type\":\"bar\"},{\"alignmentgroup\":\"True\",\"hovertemplate\":\"brand_name=%{x}\\u003cbr\\u003eUsage Count=%{y}\\u003cextra\\u003e\\u003c\\u002fextra\\u003e\",\"legendgroup\":\"Apple\",\"marker\":{\"color\":\"#ab63fa\",\"pattern\":{\"shape\":\"\"}},\"name\":\"Apple\",\"offsetgroup\":\"Apple\",\"orientation\":\"v\",\"showlegend\":true,\"textposition\":\"auto\",\"x\":[\"Apple\"],\"xaxis\":\"x\",\"y\":[39],\"yaxis\":\"y\",\"type\":\"bar\"},{\"alignmentgroup\":\"True\",\"hovertemplate\":\"brand_name=%{x}\\u003cbr\\u003eUsage Count=%{y}\\u003cextra\\u003e\\u003c\\u002fextra\\u003e\",\"legendgroup\":\"Lava\",\"marker\":{\"color\":\"#FFA15A\",\"pattern\":{\"shape\":\"\"}},\"name\":\"Lava\",\"offsetgroup\":\"Lava\",\"orientation\":\"v\",\"showlegend\":true,\"textposition\":\"auto\",\"x\":[\"Lava\"],\"xaxis\":\"x\",\"y\":[36],\"yaxis\":\"y\",\"type\":\"bar\"},{\"alignmentgroup\":\"True\",\"hovertemplate\":\"brand_name=%{x}\\u003cbr\\u003eUsage Count=%{y}\\u003cextra\\u003e\\u003c\\u002fextra\\u003e\",\"legendgroup\":\"Celkon\",\"marker\":{\"color\":\"#19d3f3\",\"pattern\":{\"shape\":\"\"}},\"name\":\"Celkon\",\"offsetgroup\":\"Celkon\",\"orientation\":\"v\",\"showlegend\":true,\"textposition\":\"auto\",\"x\":[\"Celkon\"],\"xaxis\":\"x\",\"y\":[33],\"yaxis\":\"y\",\"type\":\"bar\"},{\"alignmentgroup\":\"True\",\"hovertemplate\":\"brand_name=%{x}\\u003cbr\\u003eUsage Count=%{y}\\u003cextra\\u003e\\u003c\\u002fextra\\u003e\",\"legendgroup\":\"Spice\",\"marker\":{\"color\":\"#FF6692\",\"pattern\":{\"shape\":\"\"}},\"name\":\"Spice\",\"offsetgroup\":\"Spice\",\"orientation\":\"v\",\"showlegend\":true,\"textposition\":\"auto\",\"x\":[\"Spice\"],\"xaxis\":\"x\",\"y\":[30],\"yaxis\":\"y\",\"type\":\"bar\"},{\"alignmentgroup\":\"True\",\"hovertemplate\":\"brand_name=%{x}\\u003cbr\\u003eUsage Count=%{y}\\u003cextra\\u003e\\u003c\\u002fextra\\u003e\",\"legendgroup\":\"Karbonn\",\"marker\":{\"color\":\"#B6E880\",\"pattern\":{\"shape\":\"\"}},\"name\":\"Karbonn\",\"offsetgroup\":\"Karbonn\",\"orientation\":\"v\",\"showlegend\":true,\"textposition\":\"auto\",\"x\":[\"Karbonn\"],\"xaxis\":\"x\",\"y\":[29],\"yaxis\":\"y\",\"type\":\"bar\"},{\"alignmentgroup\":\"True\",\"hovertemplate\":\"brand_name=%{x}\\u003cbr\\u003eUsage Count=%{y}\\u003cextra\\u003e\\u003c\\u002fextra\\u003e\",\"legendgroup\":\"BlackBerry\",\"marker\":{\"color\":\"#FF97FF\",\"pattern\":{\"shape\":\"\"}},\"name\":\"BlackBerry\",\"offsetgroup\":\"BlackBerry\",\"orientation\":\"v\",\"showlegend\":true,\"textposition\":\"auto\",\"x\":[\"BlackBerry\"],\"xaxis\":\"x\",\"y\":[22],\"yaxis\":\"y\",\"type\":\"bar\"},{\"alignmentgroup\":\"True\",\"hovertemplate\":\"brand_name=%{x}\\u003cbr\\u003eUsage Count=%{y}\\u003cextra\\u003e\\u003c\\u002fextra\\u003e\",\"legendgroup\":\"OnePlus\",\"marker\":{\"color\":\"#FECB52\",\"pattern\":{\"shape\":\"\"}},\"name\":\"OnePlus\",\"offsetgroup\":\"OnePlus\",\"orientation\":\"v\",\"showlegend\":true,\"textposition\":\"auto\",\"x\":[\"OnePlus\"],\"xaxis\":\"x\",\"y\":[22],\"yaxis\":\"y\",\"type\":\"bar\"},{\"alignmentgroup\":\"True\",\"hovertemplate\":\"brand_name=%{x}\\u003cbr\\u003eUsage Count=%{y}\\u003cextra\\u003e\\u003c\\u002fextra\\u003e\",\"legendgroup\":\"Coolpad\",\"marker\":{\"color\":\"#636efa\",\"pattern\":{\"shape\":\"\"}},\"name\":\"Coolpad\",\"offsetgroup\":\"Coolpad\",\"orientation\":\"v\",\"showlegend\":true,\"textposition\":\"auto\",\"x\":[\"Coolpad\"],\"xaxis\":\"x\",\"y\":[22],\"yaxis\":\"y\",\"type\":\"bar\"},{\"alignmentgroup\":\"True\",\"hovertemplate\":\"brand_name=%{x}\\u003cbr\\u003eUsage Count=%{y}\\u003cextra\\u003e\\u003c\\u002fextra\\u003e\",\"legendgroup\":\"Microsoft\",\"marker\":{\"color\":\"#EF553B\",\"pattern\":{\"shape\":\"\"}},\"name\":\"Microsoft\",\"offsetgroup\":\"Microsoft\",\"orientation\":\"v\",\"showlegend\":true,\"textposition\":\"auto\",\"x\":[\"Microsoft\"],\"xaxis\":\"x\",\"y\":[21],\"yaxis\":\"y\",\"type\":\"bar\"},{\"alignmentgroup\":\"True\",\"hovertemplate\":\"brand_name=%{x}\\u003cbr\\u003eUsage Count=%{y}\\u003cextra\\u003e\\u003c\\u002fextra\\u003e\",\"legendgroup\":\"Google\",\"marker\":{\"color\":\"#00cc96\",\"pattern\":{\"shape\":\"\"}},\"name\":\"Google\",\"offsetgroup\":\"Google\",\"orientation\":\"v\",\"showlegend\":true,\"textposition\":\"auto\",\"x\":[\"Google\"],\"xaxis\":\"x\",\"y\":[13],\"yaxis\":\"y\",\"type\":\"bar\"},{\"alignmentgroup\":\"True\",\"hovertemplate\":\"brand_name=%{x}\\u003cbr\\u003eUsage Count=%{y}\\u003cextra\\u003e\\u003c\\u002fextra\\u003e\",\"legendgroup\":\"Infinix\",\"marker\":{\"color\":\"#ab63fa\",\"pattern\":{\"shape\":\"\"}},\"name\":\"Infinix\",\"offsetgroup\":\"Infinix\",\"orientation\":\"v\",\"showlegend\":true,\"textposition\":\"auto\",\"x\":[\"Infinix\"],\"xaxis\":\"x\",\"y\":[10],\"yaxis\":\"y\",\"type\":\"bar\"}],                        {\"template\":{\"data\":{\"histogram2dcontour\":[{\"type\":\"histogram2dcontour\",\"colorbar\":{\"outlinewidth\":0,\"ticks\":\"\"},\"colorscale\":[[0.0,\"#0d0887\"],[0.1111111111111111,\"#46039f\"],[0.2222222222222222,\"#7201a8\"],[0.3333333333333333,\"#9c179e\"],[0.4444444444444444,\"#bd3786\"],[0.5555555555555556,\"#d8576b\"],[0.6666666666666666,\"#ed7953\"],[0.7777777777777778,\"#fb9f3a\"],[0.8888888888888888,\"#fdca26\"],[1.0,\"#f0f921\"]]}],\"choropleth\":[{\"type\":\"choropleth\",\"colorbar\":{\"outlinewidth\":0,\"ticks\":\"\"}}],\"histogram2d\":[{\"type\":\"histogram2d\",\"colorbar\":{\"outlinewidth\":0,\"ticks\":\"\"},\"colorscale\":[[0.0,\"#0d0887\"],[0.1111111111111111,\"#46039f\"],[0.2222222222222222,\"#7201a8\"],[0.3333333333333333,\"#9c179e\"],[0.4444444444444444,\"#bd3786\"],[0.5555555555555556,\"#d8576b\"],[0.6666666666666666,\"#ed7953\"],[0.7777777777777778,\"#fb9f3a\"],[0.8888888888888888,\"#fdca26\"],[1.0,\"#f0f921\"]]}],\"heatmap\":[{\"type\":\"heatmap\",\"colorbar\":{\"outlinewidth\":0,\"ticks\":\"\"},\"colorscale\":[[0.0,\"#0d0887\"],[0.1111111111111111,\"#46039f\"],[0.2222222222222222,\"#7201a8\"],[0.3333333333333333,\"#9c179e\"],[0.4444444444444444,\"#bd3786\"],[0.5555555555555556,\"#d8576b\"],[0.6666666666666666,\"#ed7953\"],[0.7777777777777778,\"#fb9f3a\"],[0.8888888888888888,\"#fdca26\"],[1.0,\"#f0f921\"]]}],\"heatmapgl\":[{\"type\":\"heatmapgl\",\"colorbar\":{\"outlinewidth\":0,\"ticks\":\"\"},\"colorscale\":[[0.0,\"#0d0887\"],[0.1111111111111111,\"#46039f\"],[0.2222222222222222,\"#7201a8\"],[0.3333333333333333,\"#9c179e\"],[0.4444444444444444,\"#bd3786\"],[0.5555555555555556,\"#d8576b\"],[0.6666666666666666,\"#ed7953\"],[0.7777777777777778,\"#fb9f3a\"],[0.8888888888888888,\"#fdca26\"],[1.0,\"#f0f921\"]]}],\"contourcarpet\":[{\"type\":\"contourcarpet\",\"colorbar\":{\"outlinewidth\":0,\"ticks\":\"\"}}],\"contour\":[{\"type\":\"contour\",\"colorbar\":{\"outlinewidth\":0,\"ticks\":\"\"},\"colorscale\":[[0.0,\"#0d0887\"],[0.1111111111111111,\"#46039f\"],[0.2222222222222222,\"#7201a8\"],[0.3333333333333333,\"#9c179e\"],[0.4444444444444444,\"#bd3786\"],[0.5555555555555556,\"#d8576b\"],[0.6666666666666666,\"#ed7953\"],[0.7777777777777778,\"#fb9f3a\"],[0.8888888888888888,\"#fdca26\"],[1.0,\"#f0f921\"]]}],\"surface\":[{\"type\":\"surface\",\"colorbar\":{\"outlinewidth\":0,\"ticks\":\"\"},\"colorscale\":[[0.0,\"#0d0887\"],[0.1111111111111111,\"#46039f\"],[0.2222222222222222,\"#7201a8\"],[0.3333333333333333,\"#9c179e\"],[0.4444444444444444,\"#bd3786\"],[0.5555555555555556,\"#d8576b\"],[0.6666666666666666,\"#ed7953\"],[0.7777777777777778,\"#fb9f3a\"],[0.8888888888888888,\"#fdca26\"],[1.0,\"#f0f921\"]]}],\"mesh3d\":[{\"type\":\"mesh3d\",\"colorbar\":{\"outlinewidth\":0,\"ticks\":\"\"}}],\"scatter\":[{\"fillpattern\":{\"fillmode\":\"overlay\",\"size\":10,\"solidity\":0.2},\"type\":\"scatter\"}],\"parcoords\":[{\"type\":\"parcoords\",\"line\":{\"colorbar\":{\"outlinewidth\":0,\"ticks\":\"\"}}}],\"scatterpolargl\":[{\"type\":\"scatterpolargl\",\"marker\":{\"colorbar\":{\"outlinewidth\":0,\"ticks\":\"\"}}}],\"bar\":[{\"error_x\":{\"color\":\"#2a3f5f\"},\"error_y\":{\"color\":\"#2a3f5f\"},\"marker\":{\"line\":{\"color\":\"#E5ECF6\",\"width\":0.5},\"pattern\":{\"fillmode\":\"overlay\",\"size\":10,\"solidity\":0.2}},\"type\":\"bar\"}],\"scattergeo\":[{\"type\":\"scattergeo\",\"marker\":{\"colorbar\":{\"outlinewidth\":0,\"ticks\":\"\"}}}],\"scatterpolar\":[{\"type\":\"scatterpolar\",\"marker\":{\"colorbar\":{\"outlinewidth\":0,\"ticks\":\"\"}}}],\"histogram\":[{\"marker\":{\"pattern\":{\"fillmode\":\"overlay\",\"size\":10,\"solidity\":0.2}},\"type\":\"histogram\"}],\"scattergl\":[{\"type\":\"scattergl\",\"marker\":{\"colorbar\":{\"outlinewidth\":0,\"ticks\":\"\"}}}],\"scatter3d\":[{\"type\":\"scatter3d\",\"line\":{\"colorbar\":{\"outlinewidth\":0,\"ticks\":\"\"}},\"marker\":{\"colorbar\":{\"outlinewidth\":0,\"ticks\":\"\"}}}],\"scattermapbox\":[{\"type\":\"scattermapbox\",\"marker\":{\"colorbar\":{\"outlinewidth\":0,\"ticks\":\"\"}}}],\"scatterternary\":[{\"type\":\"scatterternary\",\"marker\":{\"colorbar\":{\"outlinewidth\":0,\"ticks\":\"\"}}}],\"scattercarpet\":[{\"type\":\"scattercarpet\",\"marker\":{\"colorbar\":{\"outlinewidth\":0,\"ticks\":\"\"}}}],\"carpet\":[{\"aaxis\":{\"endlinecolor\":\"#2a3f5f\",\"gridcolor\":\"white\",\"linecolor\":\"white\",\"minorgridcolor\":\"white\",\"startlinecolor\":\"#2a3f5f\"},\"baxis\":{\"endlinecolor\":\"#2a3f5f\",\"gridcolor\":\"white\",\"linecolor\":\"white\",\"minorgridcolor\":\"white\",\"startlinecolor\":\"#2a3f5f\"},\"type\":\"carpet\"}],\"table\":[{\"cells\":{\"fill\":{\"color\":\"#EBF0F8\"},\"line\":{\"color\":\"white\"}},\"header\":{\"fill\":{\"color\":\"#C8D4E3\"},\"line\":{\"color\":\"white\"}},\"type\":\"table\"}],\"barpolar\":[{\"marker\":{\"line\":{\"color\":\"#E5ECF6\",\"width\":0.5},\"pattern\":{\"fillmode\":\"overlay\",\"size\":10,\"solidity\":0.2}},\"type\":\"barpolar\"}],\"pie\":[{\"automargin\":true,\"type\":\"pie\"}]},\"layout\":{\"autotypenumbers\":\"strict\",\"colorway\":[\"#636efa\",\"#EF553B\",\"#00cc96\",\"#ab63fa\",\"#FFA15A\",\"#19d3f3\",\"#FF6692\",\"#B6E880\",\"#FF97FF\",\"#FECB52\"],\"font\":{\"color\":\"#2a3f5f\"},\"hovermode\":\"closest\",\"hoverlabel\":{\"align\":\"left\"},\"paper_bgcolor\":\"white\",\"plot_bgcolor\":\"#E5ECF6\",\"polar\":{\"bgcolor\":\"#E5ECF6\",\"angularaxis\":{\"gridcolor\":\"white\",\"linecolor\":\"white\",\"ticks\":\"\"},\"radialaxis\":{\"gridcolor\":\"white\",\"linecolor\":\"white\",\"ticks\":\"\"}},\"ternary\":{\"bgcolor\":\"#E5ECF6\",\"aaxis\":{\"gridcolor\":\"white\",\"linecolor\":\"white\",\"ticks\":\"\"},\"baxis\":{\"gridcolor\":\"white\",\"linecolor\":\"white\",\"ticks\":\"\"},\"caxis\":{\"gridcolor\":\"white\",\"linecolor\":\"white\",\"ticks\":\"\"}},\"coloraxis\":{\"colorbar\":{\"outlinewidth\":0,\"ticks\":\"\"}},\"colorscale\":{\"sequential\":[[0.0,\"#0d0887\"],[0.1111111111111111,\"#46039f\"],[0.2222222222222222,\"#7201a8\"],[0.3333333333333333,\"#9c179e\"],[0.4444444444444444,\"#bd3786\"],[0.5555555555555556,\"#d8576b\"],[0.6666666666666666,\"#ed7953\"],[0.7777777777777778,\"#fb9f3a\"],[0.8888888888888888,\"#fdca26\"],[1.0,\"#f0f921\"]],\"sequentialminus\":[[0.0,\"#0d0887\"],[0.1111111111111111,\"#46039f\"],[0.2222222222222222,\"#7201a8\"],[0.3333333333333333,\"#9c179e\"],[0.4444444444444444,\"#bd3786\"],[0.5555555555555556,\"#d8576b\"],[0.6666666666666666,\"#ed7953\"],[0.7777777777777778,\"#fb9f3a\"],[0.8888888888888888,\"#fdca26\"],[1.0,\"#f0f921\"]],\"diverging\":[[0,\"#8e0152\"],[0.1,\"#c51b7d\"],[0.2,\"#de77ae\"],[0.3,\"#f1b6da\"],[0.4,\"#fde0ef\"],[0.5,\"#f7f7f7\"],[0.6,\"#e6f5d0\"],[0.7,\"#b8e186\"],[0.8,\"#7fbc41\"],[0.9,\"#4d9221\"],[1,\"#276419\"]]},\"xaxis\":{\"gridcolor\":\"white\",\"linecolor\":\"white\",\"ticks\":\"\",\"title\":{\"standoff\":15},\"zerolinecolor\":\"white\",\"automargin\":true,\"zerolinewidth\":2},\"yaxis\":{\"gridcolor\":\"white\",\"linecolor\":\"white\",\"ticks\":\"\",\"title\":{\"standoff\":15},\"zerolinecolor\":\"white\",\"automargin\":true,\"zerolinewidth\":2},\"scene\":{\"xaxis\":{\"backgroundcolor\":\"#E5ECF6\",\"gridcolor\":\"white\",\"linecolor\":\"white\",\"showbackground\":true,\"ticks\":\"\",\"zerolinecolor\":\"white\",\"gridwidth\":2},\"yaxis\":{\"backgroundcolor\":\"#E5ECF6\",\"gridcolor\":\"white\",\"linecolor\":\"white\",\"showbackground\":true,\"ticks\":\"\",\"zerolinecolor\":\"white\",\"gridwidth\":2},\"zaxis\":{\"backgroundcolor\":\"#E5ECF6\",\"gridcolor\":\"white\",\"linecolor\":\"white\",\"showbackground\":true,\"ticks\":\"\",\"zerolinecolor\":\"white\",\"gridwidth\":2}},\"shapedefaults\":{\"line\":{\"color\":\"#2a3f5f\"}},\"annotationdefaults\":{\"arrowcolor\":\"#2a3f5f\",\"arrowhead\":0,\"arrowwidth\":1},\"geo\":{\"bgcolor\":\"white\",\"landcolor\":\"#E5ECF6\",\"subunitcolor\":\"white\",\"showland\":true,\"showlakes\":true,\"lakecolor\":\"white\"},\"title\":{\"x\":0.05},\"mapbox\":{\"style\":\"light\"}}},\"xaxis\":{\"anchor\":\"y\",\"domain\":[0.0,1.0],\"title\":{\"text\":\"brand_name\"},\"categoryorder\":\"array\",\"categoryarray\":[\"Others\",\"Samsung\",\"Huawei\",\"LG\",\"Lenovo\",\"ZTE\",\"Xiaomi\",\"Oppo\",\"Asus\",\"Alcatel\",\"Micromax\",\"Vivo\",\"Honor\",\"HTC\",\"Motorola\",\"Nokia\",\"Sony\",\"Meizu\",\"Gionee\",\"Acer\",\"Panasonic\",\"XOLO\",\"Realme\",\"Apple\",\"Lava\",\"Celkon\",\"Spice\",\"Karbonn\",\"BlackBerry\",\"OnePlus\",\"Coolpad\",\"Microsoft\",\"Google\",\"Infinix\"]},\"yaxis\":{\"anchor\":\"x\",\"domain\":[0.0,1.0],\"title\":{\"text\":\"Usage Count\"}},\"legend\":{\"title\":{\"text\":\"brand_name\"},\"tracegroupgap\":0},\"title\":{\"text\":\"Brand Usage Count\"},\"barmode\":\"relative\"},                        {\"responsive\": true}                    ).then(function(){\n",
       "                            \n",
       "var gd = document.getElementById('81703a8e-4d0b-4bd2-bde3-890499aa25e6');\n",
       "var x = new MutationObserver(function (mutations, observer) {{\n",
       "        var display = window.getComputedStyle(gd).display;\n",
       "        if (!display || display === 'none') {{\n",
       "            console.log([gd, 'removed!']);\n",
       "            Plotly.purge(gd);\n",
       "            observer.disconnect();\n",
       "        }}\n",
       "}});\n",
       "\n",
       "// Listen for the removal of the full notebook cells\n",
       "var notebookContainer = gd.closest('#notebook-container');\n",
       "if (notebookContainer) {{\n",
       "    x.observe(notebookContainer, {childList: true});\n",
       "}}\n",
       "\n",
       "// Listen for the clearing of the current output cell\n",
       "var outputEl = gd.closest('.output');\n",
       "if (outputEl) {{\n",
       "    x.observe(outputEl, {childList: true});\n",
       "}}\n",
       "\n",
       "                        })                };                });            </script>        </div>"
      ]
     },
     "metadata": {},
     "output_type": "display_data"
    }
   ],
   "source": [
    "fig = px.bar(\n",
    "    usage_plot,\n",
    "    x=usage_plot.index,\n",
    "    y=usage_plot.values,\n",
    "    labels={\"x\": \"Brand Name\", \"y\": \"Usage Count\"},\n",
    "    title=\"Brand Usage Count\",\n",
    "    color = usage_plot.index\n",
    ")\n",
    "fig.show()"
   ]
  },
  {
   "cell_type": "code",
   "execution_count": 78,
   "id": "d78a24ed-a570-4219-b509-2e8b54c8dc9a",
   "metadata": {},
   "outputs": [
    {
     "data": {
      "image/png": "[encoded data removed]",
      "text/plain": [
       "<Figure size 1500x1500 with 15 Axes>"
      ]
     },
     "metadata": {},
     "output_type": "display_data"
    }
   ],
   "source": [
    "fig,axs= plt.subplots(5,3,figsize=(15, 15))\n",
    "# Flatten the 2D array of subplots to make them easier to access\n",
    "axs = axs.ravel()\n",
    "for i, feature in enumerate(df.columns):\n",
    "    # Plot a histogram of the feature in the current subplot\n",
    "    axs[i].hist(df[feature])\n",
    "    axs[i].set_title(feature)\n",
    "\n",
    "\n",
    "# Adjust the spacing between subplots\n",
    "plt.tight_layout()\n",
    "# Show the plot\n",
    "plt.show()"
   ]
  },
  {
   "cell_type": "markdown",
   "id": "afa7b972-1f6d-43f8-94ee-28373a8ac048",
   "metadata": {},
   "source": [
    "## Normalization"
   ]
  },
  {
   "cell_type": "code",
   "execution_count": 79,
   "id": "43c6c0ac-c1d3-4711-9ef6-7e6ded5219fe",
   "metadata": {},
   "outputs": [
    {
     "data": {
      "text/html": [
       "<div>\n",
       "<style scoped>\n",
       "    .dataframe tbody tr th:only-of-type {\n",
       "        vertical-align: middle;\n",
       "    }\n",
       "\n",
       "    .dataframe tbody tr th {\n",
       "        vertical-align: top;\n",
       "    }\n",
       "\n",
       "    .dataframe thead th {\n",
       "        text-align: right;\n",
       "    }\n",
       "</style>\n",
       "<table border=\"1\" class=\"dataframe\">\n",
       "  <thead>\n",
       "    <tr style=\"text-align: right;\">\n",
       "      <th></th>\n",
       "      <th>brand_name</th>\n",
       "      <th>os</th>\n",
       "      <th>screen_size</th>\n",
       "      <th>4g</th>\n",
       "      <th>5g</th>\n",
       "      <th>main_camera_mp</th>\n",
       "      <th>selfie_camera_mp</th>\n",
       "      <th>int_memory</th>\n",
       "      <th>ram</th>\n",
       "      <th>battery</th>\n",
       "      <th>weight</th>\n",
       "      <th>release_year</th>\n",
       "      <th>days_used</th>\n",
       "      <th>new_price</th>\n",
       "      <th>used_price</th>\n",
       "    </tr>\n",
       "  </thead>\n",
       "  <tbody>\n",
       "    <tr>\n",
       "      <th>0</th>\n",
       "      <td>Honor</td>\n",
       "      <td>Android</td>\n",
       "      <td>14.50</td>\n",
       "      <td>yes</td>\n",
       "      <td>no</td>\n",
       "      <td>13.0</td>\n",
       "      <td>5.0</td>\n",
       "      <td>64.0</td>\n",
       "      <td>3.0</td>\n",
       "      <td>3020.0</td>\n",
       "      <td>146.0</td>\n",
       "      <td>2020</td>\n",
       "      <td>127</td>\n",
       "      <td>111.62</td>\n",
       "      <td>74.26</td>\n",
       "    </tr>\n",
       "    <tr>\n",
       "      <th>1</th>\n",
       "      <td>Honor</td>\n",
       "      <td>Android</td>\n",
       "      <td>17.30</td>\n",
       "      <td>yes</td>\n",
       "      <td>yes</td>\n",
       "      <td>13.0</td>\n",
       "      <td>16.0</td>\n",
       "      <td>128.0</td>\n",
       "      <td>8.0</td>\n",
       "      <td>4300.0</td>\n",
       "      <td>213.0</td>\n",
       "      <td>2020</td>\n",
       "      <td>325</td>\n",
       "      <td>249.39</td>\n",
       "      <td>174.53</td>\n",
       "    </tr>\n",
       "    <tr>\n",
       "      <th>2</th>\n",
       "      <td>Honor</td>\n",
       "      <td>Android</td>\n",
       "      <td>16.69</td>\n",
       "      <td>yes</td>\n",
       "      <td>yes</td>\n",
       "      <td>13.0</td>\n",
       "      <td>8.0</td>\n",
       "      <td>128.0</td>\n",
       "      <td>8.0</td>\n",
       "      <td>4200.0</td>\n",
       "      <td>213.0</td>\n",
       "      <td>2020</td>\n",
       "      <td>162</td>\n",
       "      <td>359.47</td>\n",
       "      <td>165.85</td>\n",
       "    </tr>\n",
       "    <tr>\n",
       "      <th>3</th>\n",
       "      <td>Honor</td>\n",
       "      <td>Android</td>\n",
       "      <td>25.50</td>\n",
       "      <td>yes</td>\n",
       "      <td>yes</td>\n",
       "      <td>13.0</td>\n",
       "      <td>8.0</td>\n",
       "      <td>64.0</td>\n",
       "      <td>6.0</td>\n",
       "      <td>7250.0</td>\n",
       "      <td>480.0</td>\n",
       "      <td>2020</td>\n",
       "      <td>345</td>\n",
       "      <td>278.93</td>\n",
       "      <td>169.93</td>\n",
       "    </tr>\n",
       "    <tr>\n",
       "      <th>4</th>\n",
       "      <td>Honor</td>\n",
       "      <td>Android</td>\n",
       "      <td>15.32</td>\n",
       "      <td>yes</td>\n",
       "      <td>no</td>\n",
       "      <td>13.0</td>\n",
       "      <td>8.0</td>\n",
       "      <td>64.0</td>\n",
       "      <td>3.0</td>\n",
       "      <td>5000.0</td>\n",
       "      <td>185.0</td>\n",
       "      <td>2020</td>\n",
       "      <td>293</td>\n",
       "      <td>140.87</td>\n",
       "      <td>80.64</td>\n",
       "    </tr>\n",
       "  </tbody>\n",
       "</table>\n",
       "</div>"
      ],
      "text/plain": [
       "  brand_name       os  screen_size   4g   5g  main_camera_mp  \\\n",
       "0      Honor  Android        14.50  yes   no            13.0   \n",
       "1      Honor  Android        17.30  yes  yes            13.0   \n",
       "2      Honor  Android        16.69  yes  yes            13.0   \n",
       "3      Honor  Android        25.50  yes  yes            13.0   \n",
       "4      Honor  Android        15.32  yes   no            13.0   \n",
       "\n",
       "   selfie_camera_mp  int_memory  ram  battery  weight  release_year  \\\n",
       "0               5.0        64.0  3.0   3020.0   146.0          2020   \n",
       "1              16.0       128.0  8.0   4300.0   213.0          2020   \n",
       "2               8.0       128.0  8.0   4200.0   213.0          2020   \n",
       "3               8.0        64.0  6.0   7250.0   480.0          2020   \n",
       "4               8.0        64.0  3.0   5000.0   185.0          2020   \n",
       "\n",
       "   days_used  new_price  used_price  \n",
       "0        127     111.62       74.26  \n",
       "1        325     249.39      174.53  \n",
       "2        162     359.47      165.85  \n",
       "3        345     278.93      169.93  \n",
       "4        293     140.87       80.64  "
      ]
     },
     "execution_count": 79,
     "metadata": {},
     "output_type": "execute_result"
    }
   ],
   "source": [
    "df.head()"
   ]
  },
  {
   "cell_type": "code",
   "execution_count": 80,
   "id": "6daa9e72-5f0c-4111-bdd6-903777ab5bb4",
   "metadata": {},
   "outputs": [
    {
     "data": {
      "text/plain": [
       "array(['Honor', 'Others', 'HTC', 'Huawei', 'Infinix', 'Lava', 'Lenovo',\n",
       "       'LG', 'Meizu', 'Micromax', 'Motorola', 'Nokia', 'OnePlus', 'Oppo',\n",
       "       'Realme', 'Samsung', 'Vivo', 'Xiaomi', 'ZTE', 'Apple', 'Asus',\n",
       "       'Coolpad', 'Acer', 'Alcatel', 'BlackBerry', 'Celkon', 'Gionee',\n",
       "       'Google', 'Karbonn', 'Microsoft', 'Panasonic', 'Sony', 'Spice',\n",
       "       'XOLO'], dtype=object)"
      ]
     },
     "execution_count": 80,
     "metadata": {},
     "output_type": "execute_result"
    }
   ],
   "source": [
    "df[\"brand_name\"].unique()"
   ]
  },
  {
   "cell_type": "code",
   "execution_count": 81,
   "id": "c2af8d1d-861a-4095-84a8-8c65a9a741ef",
   "metadata": {},
   "outputs": [
    {
     "data": {
      "text/plain": [
       "array(['Android', 'Others', 'iOS', 'Windows'], dtype=object)"
      ]
     },
     "execution_count": 81,
     "metadata": {},
     "output_type": "execute_result"
    }
   ],
   "source": [
    "df[\"os\"].unique()"
   ]
  },
  {
   "cell_type": "code",
   "execution_count": 82,
   "id": "3585ba8b-3d93-4084-a54e-2679c5446660",
   "metadata": {},
   "outputs": [
    {
     "data": {
      "text/plain": [
       "array(['yes', 'no'], dtype=object)"
      ]
     },
     "execution_count": 82,
     "metadata": {},
     "output_type": "execute_result"
    }
   ],
   "source": [
    "df[\"4g\"].unique()"
   ]
  },
  {
   "cell_type": "code",
   "execution_count": 83,
   "id": "3a7c9cfe-81ae-4c5b-b278-b1ec2d253047",
   "metadata": {},
   "outputs": [
    {
     "data": {
      "text/plain": [
       "array(['no', 'yes'], dtype=object)"
      ]
     },
     "execution_count": 83,
     "metadata": {},
     "output_type": "execute_result"
    }
   ],
   "source": [
    "df[\"5g\"].unique()"
   ]
  },
  {
   "cell_type": "code",
   "execution_count": 84,
   "id": "035ec460-b2e9-4802-b7c9-2d4e9ee9280f",
   "metadata": {},
   "outputs": [],
   "source": [
    "df[\"brand_name\"] = df[\"brand_name\"].map({'Others':34, 'Honor':1, 'HTC':2, 'Huawei':3, 'Infinix':4, 'Lava':5, 'Lenovo':6,\n",
    "       'LG':7, 'Meizu':8, 'Micromax':9, 'Motorola':10, 'Nokia':11, 'OnePlus':12, 'Oppo':13,\n",
    "       'Realme':14, 'Samsung':15, 'Vivo':16, 'Xiaomi':17, 'ZTE':18, 'Apple':19, 'Asus':20,\n",
    "       'Coolpad':21, 'Acer':22, 'Alcatel':23, 'BlackBerry':24, 'Celkon':25, 'Gionee':26,\n",
    "       'Google':27, 'Karbonn':28, 'Microsoft':29, 'Panasonic':30, 'Sony':31, 'Spice':32,\n",
    "       'XOLO':33})"
   ]
  },
  {
   "cell_type": "code",
   "execution_count": 85,
   "id": "a1e841a8-9685-43a7-b040-4b5e12e15f5f",
   "metadata": {},
   "outputs": [
    {
     "data": {
      "text/plain": [
       "array([ 1, 34,  2,  3,  4,  5,  6,  7,  8,  9, 10, 11, 12, 13, 14, 15, 16,\n",
       "       17, 18, 19, 20, 21, 22, 23, 24, 25, 26, 27, 28, 29, 30, 31, 32, 33])"
      ]
     },
     "execution_count": 85,
     "metadata": {},
     "output_type": "execute_result"
    }
   ],
   "source": [
    "df[\"brand_name\"].unique()"
   ]
  },
  {
   "cell_type": "code",
   "execution_count": 86,
   "id": "b4cb8d47-d20b-4737-9cf6-b4f6c4587591",
   "metadata": {},
   "outputs": [],
   "source": [
    "# codes, uniques = pd.factorize(df[\"brand_name\"])\n",
    "\n",
    "# # Creating the mapping\n",
    "# brand_mapping = dict(enumerate(uniques))\n",
    "\n",
    "# # Display the mapping\n",
    "# brand_mapping"
   ]
  },
  {
   "cell_type": "code",
   "execution_count": 87,
   "id": "a7d1c052-631c-434a-9365-d389d68adfa8",
   "metadata": {},
   "outputs": [],
   "source": [
    "df[\"4g\"] = df[\"4g\"].map({'yes': 1 , 'no' : 0})\n",
    "df[\"5g\"] = df[\"5g\"].map({'yes': 1 , 'no' : 0})\n",
    "df[\"os\"] = df[\"os\"].map({'Android': 1 ,  'iOS' : 2, 'Windows' : 3,'Others' : 4})"
   ]
  },
  {
   "cell_type": "code",
   "execution_count": 88,
   "id": "9630c621-6759-4097-93f5-9f1137a457b8",
   "metadata": {},
   "outputs": [
    {
     "data": {
      "text/html": [
       "<div>\n",
       "<style scoped>\n",
       "    .dataframe tbody tr th:only-of-type {\n",
       "        vertical-align: middle;\n",
       "    }\n",
       "\n",
       "    .dataframe tbody tr th {\n",
       "        vertical-align: top;\n",
       "    }\n",
       "\n",
       "    .dataframe thead th {\n",
       "        text-align: right;\n",
       "    }\n",
       "</style>\n",
       "<table border=\"1\" class=\"dataframe\">\n",
       "  <thead>\n",
       "    <tr style=\"text-align: right;\">\n",
       "      <th></th>\n",
       "      <th>brand_name</th>\n",
       "      <th>os</th>\n",
       "      <th>screen_size</th>\n",
       "      <th>4g</th>\n",
       "      <th>5g</th>\n",
       "      <th>main_camera_mp</th>\n",
       "      <th>selfie_camera_mp</th>\n",
       "      <th>int_memory</th>\n",
       "      <th>ram</th>\n",
       "      <th>battery</th>\n",
       "      <th>weight</th>\n",
       "      <th>release_year</th>\n",
       "      <th>days_used</th>\n",
       "      <th>new_price</th>\n",
       "      <th>used_price</th>\n",
       "    </tr>\n",
       "  </thead>\n",
       "  <tbody>\n",
       "    <tr>\n",
       "      <th>0</th>\n",
       "      <td>1</td>\n",
       "      <td>1</td>\n",
       "      <td>14.50</td>\n",
       "      <td>1</td>\n",
       "      <td>0</td>\n",
       "      <td>13.0</td>\n",
       "      <td>5.0</td>\n",
       "      <td>64.0</td>\n",
       "      <td>3.0</td>\n",
       "      <td>3020.0</td>\n",
       "      <td>146.0</td>\n",
       "      <td>2020</td>\n",
       "      <td>127</td>\n",
       "      <td>111.62</td>\n",
       "      <td>74.26</td>\n",
       "    </tr>\n",
       "    <tr>\n",
       "      <th>1</th>\n",
       "      <td>1</td>\n",
       "      <td>1</td>\n",
       "      <td>17.30</td>\n",
       "      <td>1</td>\n",
       "      <td>1</td>\n",
       "      <td>13.0</td>\n",
       "      <td>16.0</td>\n",
       "      <td>128.0</td>\n",
       "      <td>8.0</td>\n",
       "      <td>4300.0</td>\n",
       "      <td>213.0</td>\n",
       "      <td>2020</td>\n",
       "      <td>325</td>\n",
       "      <td>249.39</td>\n",
       "      <td>174.53</td>\n",
       "    </tr>\n",
       "    <tr>\n",
       "      <th>2</th>\n",
       "      <td>1</td>\n",
       "      <td>1</td>\n",
       "      <td>16.69</td>\n",
       "      <td>1</td>\n",
       "      <td>1</td>\n",
       "      <td>13.0</td>\n",
       "      <td>8.0</td>\n",
       "      <td>128.0</td>\n",
       "      <td>8.0</td>\n",
       "      <td>4200.0</td>\n",
       "      <td>213.0</td>\n",
       "      <td>2020</td>\n",
       "      <td>162</td>\n",
       "      <td>359.47</td>\n",
       "      <td>165.85</td>\n",
       "    </tr>\n",
       "    <tr>\n",
       "      <th>3</th>\n",
       "      <td>1</td>\n",
       "      <td>1</td>\n",
       "      <td>25.50</td>\n",
       "      <td>1</td>\n",
       "      <td>1</td>\n",
       "      <td>13.0</td>\n",
       "      <td>8.0</td>\n",
       "      <td>64.0</td>\n",
       "      <td>6.0</td>\n",
       "      <td>7250.0</td>\n",
       "      <td>480.0</td>\n",
       "      <td>2020</td>\n",
       "      <td>345</td>\n",
       "      <td>278.93</td>\n",
       "      <td>169.93</td>\n",
       "    </tr>\n",
       "    <tr>\n",
       "      <th>4</th>\n",
       "      <td>1</td>\n",
       "      <td>1</td>\n",
       "      <td>15.32</td>\n",
       "      <td>1</td>\n",
       "      <td>0</td>\n",
       "      <td>13.0</td>\n",
       "      <td>8.0</td>\n",
       "      <td>64.0</td>\n",
       "      <td>3.0</td>\n",
       "      <td>5000.0</td>\n",
       "      <td>185.0</td>\n",
       "      <td>2020</td>\n",
       "      <td>293</td>\n",
       "      <td>140.87</td>\n",
       "      <td>80.64</td>\n",
       "    </tr>\n",
       "  </tbody>\n",
       "</table>\n",
       "</div>"
      ],
      "text/plain": [
       "   brand_name  os  screen_size  4g  5g  main_camera_mp  selfie_camera_mp  \\\n",
       "0           1   1        14.50   1   0            13.0               5.0   \n",
       "1           1   1        17.30   1   1            13.0              16.0   \n",
       "2           1   1        16.69   1   1            13.0               8.0   \n",
       "3           1   1        25.50   1   1            13.0               8.0   \n",
       "4           1   1        15.32   1   0            13.0               8.0   \n",
       "\n",
       "   int_memory  ram  battery  weight  release_year  days_used  new_price  \\\n",
       "0        64.0  3.0   3020.0   146.0          2020        127     111.62   \n",
       "1       128.0  8.0   4300.0   213.0          2020        325     249.39   \n",
       "2       128.0  8.0   4200.0   213.0          2020        162     359.47   \n",
       "3        64.0  6.0   7250.0   480.0          2020        345     278.93   \n",
       "4        64.0  3.0   5000.0   185.0          2020        293     140.87   \n",
       "\n",
       "   used_price  \n",
       "0       74.26  \n",
       "1      174.53  \n",
       "2      165.85  \n",
       "3      169.93  \n",
       "4       80.64  "
      ]
     },
     "execution_count": 88,
     "metadata": {},
     "output_type": "execute_result"
    }
   ],
   "source": [
    "df.head(5)"
   ]
  },
  {
   "cell_type": "markdown",
   "id": "0fd288d5-7abb-47c6-b107-88f05f9352a2",
   "metadata": {},
   "source": [
    "## Feature engineering"
   ]
  },
  {
   "cell_type": "code",
   "execution_count": 89,
   "id": "7ccfcfa0-06fa-44b5-aa1c-1a2e5cdc547e",
   "metadata": {},
   "outputs": [],
   "source": [
    "X = df.drop([\"used_price\"], axis = 1)"
   ]
  },
  {
   "cell_type": "code",
   "execution_count": 90,
   "id": "c3708778-8403-40ce-9879-4f398b05d362",
   "metadata": {},
   "outputs": [],
   "source": [
    "y = df[\"used_price\"]"
   ]
  },
  {
   "cell_type": "code",
   "execution_count": 91,
   "id": "ee455b34-02e3-49e0-8a2e-6fc73486ce09",
   "metadata": {},
   "outputs": [
    {
     "data": {
      "text/html": [
       "<div>\n",
       "<style scoped>\n",
       "    .dataframe tbody tr th:only-of-type {\n",
       "        vertical-align: middle;\n",
       "    }\n",
       "\n",
       "    .dataframe tbody tr th {\n",
       "        vertical-align: top;\n",
       "    }\n",
       "\n",
       "    .dataframe thead th {\n",
       "        text-align: right;\n",
       "    }\n",
       "</style>\n",
       "<table border=\"1\" class=\"dataframe\">\n",
       "  <thead>\n",
       "    <tr style=\"text-align: right;\">\n",
       "      <th></th>\n",
       "      <th>brand_name</th>\n",
       "      <th>os</th>\n",
       "      <th>screen_size</th>\n",
       "      <th>4g</th>\n",
       "      <th>5g</th>\n",
       "      <th>main_camera_mp</th>\n",
       "      <th>selfie_camera_mp</th>\n",
       "      <th>int_memory</th>\n",
       "      <th>ram</th>\n",
       "      <th>battery</th>\n",
       "      <th>weight</th>\n",
       "      <th>release_year</th>\n",
       "      <th>days_used</th>\n",
       "      <th>new_price</th>\n",
       "    </tr>\n",
       "  </thead>\n",
       "  <tbody>\n",
       "    <tr>\n",
       "      <th>0</th>\n",
       "      <td>1</td>\n",
       "      <td>1</td>\n",
       "      <td>14.50</td>\n",
       "      <td>1</td>\n",
       "      <td>0</td>\n",
       "      <td>13.0</td>\n",
       "      <td>5.0</td>\n",
       "      <td>64.0</td>\n",
       "      <td>3.0</td>\n",
       "      <td>3020.0</td>\n",
       "      <td>146.0</td>\n",
       "      <td>2020</td>\n",
       "      <td>127</td>\n",
       "      <td>111.62</td>\n",
       "    </tr>\n",
       "    <tr>\n",
       "      <th>1</th>\n",
       "      <td>1</td>\n",
       "      <td>1</td>\n",
       "      <td>17.30</td>\n",
       "      <td>1</td>\n",
       "      <td>1</td>\n",
       "      <td>13.0</td>\n",
       "      <td>16.0</td>\n",
       "      <td>128.0</td>\n",
       "      <td>8.0</td>\n",
       "      <td>4300.0</td>\n",
       "      <td>213.0</td>\n",
       "      <td>2020</td>\n",
       "      <td>325</td>\n",
       "      <td>249.39</td>\n",
       "    </tr>\n",
       "    <tr>\n",
       "      <th>2</th>\n",
       "      <td>1</td>\n",
       "      <td>1</td>\n",
       "      <td>16.69</td>\n",
       "      <td>1</td>\n",
       "      <td>1</td>\n",
       "      <td>13.0</td>\n",
       "      <td>8.0</td>\n",
       "      <td>128.0</td>\n",
       "      <td>8.0</td>\n",
       "      <td>4200.0</td>\n",
       "      <td>213.0</td>\n",
       "      <td>2020</td>\n",
       "      <td>162</td>\n",
       "      <td>359.47</td>\n",
       "    </tr>\n",
       "  </tbody>\n",
       "</table>\n",
       "</div>"
      ],
      "text/plain": [
       "   brand_name  os  screen_size  4g  5g  main_camera_mp  selfie_camera_mp  \\\n",
       "0           1   1        14.50   1   0            13.0               5.0   \n",
       "1           1   1        17.30   1   1            13.0              16.0   \n",
       "2           1   1        16.69   1   1            13.0               8.0   \n",
       "\n",
       "   int_memory  ram  battery  weight  release_year  days_used  new_price  \n",
       "0        64.0  3.0   3020.0   146.0          2020        127     111.62  \n",
       "1       128.0  8.0   4300.0   213.0          2020        325     249.39  \n",
       "2       128.0  8.0   4200.0   213.0          2020        162     359.47  "
      ]
     },
     "execution_count": 91,
     "metadata": {},
     "output_type": "execute_result"
    }
   ],
   "source": [
    "X.head(3)"
   ]
  },
  {
   "cell_type": "code",
   "execution_count": 92,
   "id": "e7657bd8-f705-4e1a-a781-4ac52fa7bfeb",
   "metadata": {},
   "outputs": [
    {
     "data": {
      "text/plain": [
       "0     74.26\n",
       "1    174.53\n",
       "2    165.85\n",
       "3    169.93\n",
       "4     80.64\n",
       "Name: used_price, dtype: float64"
      ]
     },
     "execution_count": 92,
     "metadata": {},
     "output_type": "execute_result"
    }
   ],
   "source": [
    "y.head(5)"
   ]
  },
  {
   "cell_type": "code",
   "execution_count": 93,
   "id": "1b6f11e1-e12d-4c64-adce-d1d409b323c8",
   "metadata": {},
   "outputs": [],
   "source": [
    "## checking for the mi scores\n",
    "from sklearn.feature_selection import mutual_info_regression"
   ]
  },
  {
   "cell_type": "code",
   "execution_count": 94,
   "id": "31d034fa-7da3-47a6-ab9f-d8236dd9563e",
   "metadata": {},
   "outputs": [
    {
     "data": {
      "text/plain": [
       "new_price           0.613169\n",
       "screen_size         0.498356\n",
       "battery             0.423579\n",
       "selfie_camera_mp    0.402436\n",
       "main_camera_mp      0.362896\n",
       "int_memory          0.356704\n",
       "weight              0.327465\n",
       "ram                 0.209278\n",
       "release_year        0.205471\n",
       "4g                  0.182376\n",
       "brand_name          0.161286\n",
       "days_used           0.073608\n",
       "5g                  0.067731\n",
       "os                  0.063777\n",
       "Name: MI Score, dtype: float64"
      ]
     },
     "execution_count": 94,
     "metadata": {},
     "output_type": "execute_result"
    }
   ],
   "source": [
    "mi_score = mutual_info_regression(X,y)\n",
    "mi_score = pd.Series(mi_score, name = \"MI Score\" , index= X.columns)\n",
    "mi_score = mi_score.sort_values(ascending = False)\n",
    "mi_score"
   ]
  },
  {
   "cell_type": "code",
   "execution_count": 95,
   "id": "5988513f-2388-4fde-99c8-6935b187c92d",
   "metadata": {},
   "outputs": [
    {
     "data": {
      "text/html": [
       "<div>\n",
       "<style scoped>\n",
       "    .dataframe tbody tr th:only-of-type {\n",
       "        vertical-align: middle;\n",
       "    }\n",
       "\n",
       "    .dataframe tbody tr th {\n",
       "        vertical-align: top;\n",
       "    }\n",
       "\n",
       "    .dataframe thead th {\n",
       "        text-align: right;\n",
       "    }\n",
       "</style>\n",
       "<table border=\"1\" class=\"dataframe\">\n",
       "  <thead>\n",
       "    <tr style=\"text-align: right;\">\n",
       "      <th></th>\n",
       "      <th>brand_name</th>\n",
       "      <th>os</th>\n",
       "      <th>screen_size</th>\n",
       "      <th>4g</th>\n",
       "      <th>5g</th>\n",
       "      <th>main_camera_mp</th>\n",
       "      <th>selfie_camera_mp</th>\n",
       "      <th>int_memory</th>\n",
       "      <th>ram</th>\n",
       "      <th>battery</th>\n",
       "      <th>weight</th>\n",
       "      <th>release_year</th>\n",
       "      <th>days_used</th>\n",
       "      <th>new_price</th>\n",
       "      <th>used_price</th>\n",
       "    </tr>\n",
       "  </thead>\n",
       "  <tbody>\n",
       "    <tr>\n",
       "      <th>0</th>\n",
       "      <td>1</td>\n",
       "      <td>1</td>\n",
       "      <td>14.50</td>\n",
       "      <td>1</td>\n",
       "      <td>0</td>\n",
       "      <td>13.0</td>\n",
       "      <td>5.0</td>\n",
       "      <td>64.0</td>\n",
       "      <td>3.0</td>\n",
       "      <td>3020.0</td>\n",
       "      <td>146.0</td>\n",
       "      <td>2020</td>\n",
       "      <td>127</td>\n",
       "      <td>111.62</td>\n",
       "      <td>74.26</td>\n",
       "    </tr>\n",
       "    <tr>\n",
       "      <th>1</th>\n",
       "      <td>1</td>\n",
       "      <td>1</td>\n",
       "      <td>17.30</td>\n",
       "      <td>1</td>\n",
       "      <td>1</td>\n",
       "      <td>13.0</td>\n",
       "      <td>16.0</td>\n",
       "      <td>128.0</td>\n",
       "      <td>8.0</td>\n",
       "      <td>4300.0</td>\n",
       "      <td>213.0</td>\n",
       "      <td>2020</td>\n",
       "      <td>325</td>\n",
       "      <td>249.39</td>\n",
       "      <td>174.53</td>\n",
       "    </tr>\n",
       "    <tr>\n",
       "      <th>2</th>\n",
       "      <td>1</td>\n",
       "      <td>1</td>\n",
       "      <td>16.69</td>\n",
       "      <td>1</td>\n",
       "      <td>1</td>\n",
       "      <td>13.0</td>\n",
       "      <td>8.0</td>\n",
       "      <td>128.0</td>\n",
       "      <td>8.0</td>\n",
       "      <td>4200.0</td>\n",
       "      <td>213.0</td>\n",
       "      <td>2020</td>\n",
       "      <td>162</td>\n",
       "      <td>359.47</td>\n",
       "      <td>165.85</td>\n",
       "    </tr>\n",
       "    <tr>\n",
       "      <th>3</th>\n",
       "      <td>1</td>\n",
       "      <td>1</td>\n",
       "      <td>25.50</td>\n",
       "      <td>1</td>\n",
       "      <td>1</td>\n",
       "      <td>13.0</td>\n",
       "      <td>8.0</td>\n",
       "      <td>64.0</td>\n",
       "      <td>6.0</td>\n",
       "      <td>7250.0</td>\n",
       "      <td>480.0</td>\n",
       "      <td>2020</td>\n",
       "      <td>345</td>\n",
       "      <td>278.93</td>\n",
       "      <td>169.93</td>\n",
       "    </tr>\n",
       "    <tr>\n",
       "      <th>4</th>\n",
       "      <td>1</td>\n",
       "      <td>1</td>\n",
       "      <td>15.32</td>\n",
       "      <td>1</td>\n",
       "      <td>0</td>\n",
       "      <td>13.0</td>\n",
       "      <td>8.0</td>\n",
       "      <td>64.0</td>\n",
       "      <td>3.0</td>\n",
       "      <td>5000.0</td>\n",
       "      <td>185.0</td>\n",
       "      <td>2020</td>\n",
       "      <td>293</td>\n",
       "      <td>140.87</td>\n",
       "      <td>80.64</td>\n",
       "    </tr>\n",
       "  </tbody>\n",
       "</table>\n",
       "</div>"
      ],
      "text/plain": [
       "   brand_name  os  screen_size  4g  5g  main_camera_mp  selfie_camera_mp  \\\n",
       "0           1   1        14.50   1   0            13.0               5.0   \n",
       "1           1   1        17.30   1   1            13.0              16.0   \n",
       "2           1   1        16.69   1   1            13.0               8.0   \n",
       "3           1   1        25.50   1   1            13.0               8.0   \n",
       "4           1   1        15.32   1   0            13.0               8.0   \n",
       "\n",
       "   int_memory  ram  battery  weight  release_year  days_used  new_price  \\\n",
       "0        64.0  3.0   3020.0   146.0          2020        127     111.62   \n",
       "1       128.0  8.0   4300.0   213.0          2020        325     249.39   \n",
       "2       128.0  8.0   4200.0   213.0          2020        162     359.47   \n",
       "3        64.0  6.0   7250.0   480.0          2020        345     278.93   \n",
       "4        64.0  3.0   5000.0   185.0          2020        293     140.87   \n",
       "\n",
       "   used_price  \n",
       "0       74.26  \n",
       "1      174.53  \n",
       "2      165.85  \n",
       "3      169.93  \n",
       "4       80.64  "
      ]
     },
     "execution_count": 95,
     "metadata": {},
     "output_type": "execute_result"
    }
   ],
   "source": [
    "df.head(5)"
   ]
  },
  {
   "cell_type": "markdown",
   "id": "d9af0320-ec7b-429c-a75c-d55a074584e5",
   "metadata": {},
   "source": [
    "## scaling"
   ]
  },
  {
   "cell_type": "code",
   "execution_count": 96,
   "id": "03ca56aa-e0d9-4a78-a39c-f432bfb9d050",
   "metadata": {},
   "outputs": [],
   "source": [
    "from sklearn.preprocessing import StandardScaler"
   ]
  },
  {
   "cell_type": "code",
   "execution_count": 97,
   "id": "dcd6ab72-8f7b-4964-a6de-1570e5f72210",
   "metadata": {},
   "outputs": [
    {
     "data": {
      "text/plain": [
       "['screen_size',\n",
       " 'main_camera_mp',\n",
       " 'selfie_camera_mp',\n",
       " 'int_memory',\n",
       " 'ram',\n",
       " 'battery',\n",
       " 'weight',\n",
       " 'release_year',\n",
       " 'days_used',\n",
       " 'new_price']"
      ]
     },
     "execution_count": 97,
     "metadata": {},
     "output_type": "execute_result"
    }
   ],
   "source": [
    "scale_col = [\"screen_size\", \"main_camera_mp\" , \"selfie_camera_mp\", \"int_memory\" , \"ram\", \"battery\", \"weight\", \"release_year\", \n",
    "            \"days_used\", \"new_price\"]\n",
    "scale_col"
   ]
  },
  {
   "cell_type": "code",
   "execution_count": 98,
   "id": "afaadb87-09ea-4f1f-ac9b-ee8f82f71c29",
   "metadata": {},
   "outputs": [
    {
     "data": {
      "text/plain": [
       "array([[ 0.20228748,  0.70464724, -0.22673613, ...,  1.75457565,\n",
       "        -2.20447379, -0.64857525],\n",
       "       [ 0.94141643,  0.70464724,  1.34961468, ...,  1.75457565,\n",
       "        -1.40707266,  0.06217795],\n",
       "       [ 0.78039191,  0.70464724,  0.20317772, ...,  1.75457565,\n",
       "        -2.06351904,  0.63007888],\n",
       "       ...,\n",
       "       [ 0.54545449,  0.70464724, -0.22673613, ...,  1.75457565,\n",
       "        -1.90645518, -0.74644117],\n",
       "       [ 0.54545449,  0.70464724, -0.22673613, ...,  1.75457565,\n",
       "        -2.11587366, -0.69861739],\n",
       "       [-0.23855015,  0.70464724, -0.22673613, ...,  1.75457565,\n",
       "        -2.00713715, -0.85173603]])"
      ]
     },
     "execution_count": 98,
     "metadata": {},
     "output_type": "execute_result"
    }
   ],
   "source": [
    "ss = StandardScaler()\n",
    "ss.fit_transform(X[scale_col])"
   ]
  },
  {
   "cell_type": "markdown",
   "id": "b3845574-6525-44ee-9371-cbfa56997b48",
   "metadata": {},
   "source": [
    "## Train / Test Split"
   ]
  },
  {
   "cell_type": "code",
   "execution_count": 99,
   "id": "dfe21bfa-9766-4067-9841-dae942710573",
   "metadata": {},
   "outputs": [],
   "source": [
    "from sklearn.model_selection import train_test_split"
   ]
  },
  {
   "cell_type": "code",
   "execution_count": 100,
   "id": "53927f53-0915-4c15-a321-c5a89887023c",
   "metadata": {},
   "outputs": [],
   "source": [
    "X_train,X_test,y_train,y_test = train_test_split(X,y,test_size = 0.2, random_state = 42)"
   ]
  },
  {
   "cell_type": "markdown",
   "id": "e2ec61a0-8372-4f73-9741-03879e38b8d6",
   "metadata": {},
   "source": [
    "## Model Selection and Evaluation"
   ]
  },
  {
   "cell_type": "code",
   "execution_count": 101,
   "id": "ae26c11f-9a42-444f-a662-218dcd9ee85b",
   "metadata": {},
   "outputs": [],
   "source": [
    "from sklearn.linear_model import LinearRegression\n",
    "from sklearn.svm import SVR\n",
    "from sklearn.ensemble import RandomForestRegressor\n",
    "from sklearn.ensemble import GradientBoostingRegressor"
   ]
  },
  {
   "cell_type": "code",
   "execution_count": 102,
   "id": "f08915d2-76e9-4aa8-bb78-f526a1346010",
   "metadata": {},
   "outputs": [
    {
     "data": {
      "text/html": [
       "<style>#sk-container-id-3 {\n",
       "  /* Definition of color scheme common for light and dark mode */\n",
       "  --sklearn-color-text: black;\n",
       "  --sklearn-color-line: gray;\n",
       "  /* Definition of color scheme for unfitted estimators */\n",
       "  --sklearn-color-unfitted-level-0: #fff5e6;\n",
       "  --sklearn-color-unfitted-level-1: #f6e4d2;\n",
       "  --sklearn-color-unfitted-level-2: #ffe0b3;\n",
       "  --sklearn-color-unfitted-level-3: chocolate;\n",
       "  /* Definition of color scheme for fitted estimators */\n",
       "  --sklearn-color-fitted-level-0: #f0f8ff;\n",
       "  --sklearn-color-fitted-level-1: #d4ebff;\n",
       "  --sklearn-color-fitted-level-2: #b3dbfd;\n",
       "  --sklearn-color-fitted-level-3: cornflowerblue;\n",
       "\n",
       "  /* Specific color for light theme */\n",
       "  --sklearn-color-text-on-default-background: var(--sg-text-color, var(--theme-code-foreground, var(--jp-content-font-color1, black)));\n",
       "  --sklearn-color-background: var(--sg-background-color, var(--theme-background, var(--jp-layout-color0, white)));\n",
       "  --sklearn-color-border-box: var(--sg-text-color, var(--theme-code-foreground, var(--jp-content-font-color1, black)));\n",
       "  --sklearn-color-icon: #696969;\n",
       "\n",
       "  @media (prefers-color-scheme: dark) {\n",
       "    /* Redefinition of color scheme for dark theme */\n",
       "    --sklearn-color-text-on-default-background: var(--sg-text-color, var(--theme-code-foreground, var(--jp-content-font-color1, white)));\n",
       "    --sklearn-color-background: var(--sg-background-color, var(--theme-background, var(--jp-layout-color0, #111)));\n",
       "    --sklearn-color-border-box: var(--sg-text-color, var(--theme-code-foreground, var(--jp-content-font-color1, white)));\n",
       "    --sklearn-color-icon: #878787;\n",
       "  }\n",
       "}\n",
       "\n",
       "#sk-container-id-3 {\n",
       "  color: var(--sklearn-color-text);\n",
       "}\n",
       "\n",
       "#sk-container-id-3 pre {\n",
       "  padding: 0;\n",
       "}\n",
       "\n",
       "#sk-container-id-3 input.sk-hidden--visually {\n",
       "  border: 0;\n",
       "  clip: rect(1px 1px 1px 1px);\n",
       "  clip: rect(1px, 1px, 1px, 1px);\n",
       "  height: 1px;\n",
       "  margin: -1px;\n",
       "  overflow: hidden;\n",
       "  padding: 0;\n",
       "  position: absolute;\n",
       "  width: 1px;\n",
       "}\n",
       "\n",
       "#sk-container-id-3 div.sk-dashed-wrapped {\n",
       "  border: 1px dashed var(--sklearn-color-line);\n",
       "  margin: 0 0.4em 0.5em 0.4em;\n",
       "  box-sizing: border-box;\n",
       "  padding-bottom: 0.4em;\n",
       "  background-color: var(--sklearn-color-background);\n",
       "}\n",
       "\n",
       "#sk-container-id-3 div.sk-container {\n",
       "  /* jupyter's `normalize.less` sets `[hidden] { display: none; }`\n",
       "     but bootstrap.min.css set `[hidden] { display: none !important; }`\n",
       "     so we also need the `!important` here to be able to override the\n",
       "     default hidden behavior on the sphinx rendered scikit-learn.org.\n",
       "     See: https://github.com/scikit-learn/scikit-learn/issues/21755 */\n",
       "  display: inline-block !important;\n",
       "  position: relative;\n",
       "}\n",
       "\n",
       "#sk-container-id-3 div.sk-text-repr-fallback {\n",
       "  display: none;\n",
       "}\n",
       "\n",
       "div.sk-parallel-item,\n",
       "div.sk-serial,\n",
       "div.sk-item {\n",
       "  /* draw centered vertical line to link estimators */\n",
       "  background-image: linear-gradient(var(--sklearn-color-text-on-default-background), var(--sklearn-color-text-on-default-background));\n",
       "  background-size: 2px 100%;\n",
       "  background-repeat: no-repeat;\n",
       "  background-position: center center;\n",
       "}\n",
       "\n",
       "/* Parallel-specific style estimator block */\n",
       "\n",
       "#sk-container-id-3 div.sk-parallel-item::after {\n",
       "  content: \"\";\n",
       "  width: 100%;\n",
       "  border-bottom: 2px solid var(--sklearn-color-text-on-default-background);\n",
       "  flex-grow: 1;\n",
       "}\n",
       "\n",
       "#sk-container-id-3 div.sk-parallel {\n",
       "  display: flex;\n",
       "  align-items: stretch;\n",
       "  justify-content: center;\n",
       "  background-color: var(--sklearn-color-background);\n",
       "  position: relative;\n",
       "}\n",
       "\n",
       "#sk-container-id-3 div.sk-parallel-item {\n",
       "  display: flex;\n",
       "  flex-direction: column;\n",
       "}\n",
       "\n",
       "#sk-container-id-3 div.sk-parallel-item:first-child::after {\n",
       "  align-self: flex-end;\n",
       "  width: 50%;\n",
       "}\n",
       "\n",
       "#sk-container-id-3 div.sk-parallel-item:last-child::after {\n",
       "  align-self: flex-start;\n",
       "  width: 50%;\n",
       "}\n",
       "\n",
       "#sk-container-id-3 div.sk-parallel-item:only-child::after {\n",
       "  width: 0;\n",
       "}\n",
       "\n",
       "/* Serial-specific style estimator block */\n",
       "\n",
       "#sk-container-id-3 div.sk-serial {\n",
       "  display: flex;\n",
       "  flex-direction: column;\n",
       "  align-items: center;\n",
       "  background-color: var(--sklearn-color-background);\n",
       "  padding-right: 1em;\n",
       "  padding-left: 1em;\n",
       "}\n",
       "\n",
       "\n",
       "/* Toggleable style: style used for estimator/Pipeline/ColumnTransformer box that is\n",
       "clickable and can be expanded/collapsed.\n",
       "- Pipeline and ColumnTransformer use this feature and define the default style\n",
       "- Estimators will overwrite some part of the style using the `sk-estimator` class\n",
       "*/\n",
       "\n",
       "/* Pipeline and ColumnTransformer style (default) */\n",
       "\n",
       "#sk-container-id-3 div.sk-toggleable {\n",
       "  /* Default theme specific background. It is overwritten whether we have a\n",
       "  specific estimator or a Pipeline/ColumnTransformer */\n",
       "  background-color: var(--sklearn-color-background);\n",
       "}\n",
       "\n",
       "/* Toggleable label */\n",
       "#sk-container-id-3 label.sk-toggleable__label {\n",
       "  cursor: pointer;\n",
       "  display: block;\n",
       "  width: 100%;\n",
       "  margin-bottom: 0;\n",
       "  padding: 0.5em;\n",
       "  box-sizing: border-box;\n",
       "  text-align: center;\n",
       "}\n",
       "\n",
       "#sk-container-id-3 label.sk-toggleable__label-arrow:before {\n",
       "  /* Arrow on the left of the label */\n",
       "  content: \"▸\";\n",
       "  float: left;\n",
       "  margin-right: 0.25em;\n",
       "  color: var(--sklearn-color-icon);\n",
       "}\n",
       "\n",
       "#sk-container-id-3 label.sk-toggleable__label-arrow:hover:before {\n",
       "  color: var(--sklearn-color-text);\n",
       "}\n",
       "\n",
       "/* Toggleable content - dropdown */\n",
       "\n",
       "#sk-container-id-3 div.sk-toggleable__content {\n",
       "  max-height: 0;\n",
       "  max-width: 0;\n",
       "  overflow: hidden;\n",
       "  text-align: left;\n",
       "  /* unfitted */\n",
       "  background-color: var(--sklearn-color-unfitted-level-0);\n",
       "}\n",
       "\n",
       "#sk-container-id-3 div.sk-toggleable__content.fitted {\n",
       "  /* fitted */\n",
       "  background-color: var(--sklearn-color-fitted-level-0);\n",
       "}\n",
       "\n",
       "#sk-container-id-3 div.sk-toggleable__content pre {\n",
       "  margin: 0.2em;\n",
       "  border-radius: 0.25em;\n",
       "  color: var(--sklearn-color-text);\n",
       "  /* unfitted */\n",
       "  background-color: var(--sklearn-color-unfitted-level-0);\n",
       "}\n",
       "\n",
       "#sk-container-id-3 div.sk-toggleable__content.fitted pre {\n",
       "  /* unfitted */\n",
       "  background-color: var(--sklearn-color-fitted-level-0);\n",
       "}\n",
       "\n",
       "#sk-container-id-3 input.sk-toggleable__control:checked~div.sk-toggleable__content {\n",
       "  /* Expand drop-down */\n",
       "  max-height: 200px;\n",
       "  max-width: 100%;\n",
       "  overflow: auto;\n",
       "}\n",
       "\n",
       "#sk-container-id-3 input.sk-toggleable__control:checked~label.sk-toggleable__label-arrow:before {\n",
       "  content: \"▾\";\n",
       "}\n",
       "\n",
       "/* Pipeline/ColumnTransformer-specific style */\n",
       "\n",
       "#sk-container-id-3 div.sk-label input.sk-toggleable__control:checked~label.sk-toggleable__label {\n",
       "  color: var(--sklearn-color-text);\n",
       "  background-color: var(--sklearn-color-unfitted-level-2);\n",
       "}\n",
       "\n",
       "#sk-container-id-3 div.sk-label.fitted input.sk-toggleable__control:checked~label.sk-toggleable__label {\n",
       "  background-color: var(--sklearn-color-fitted-level-2);\n",
       "}\n",
       "\n",
       "/* Estimator-specific style */\n",
       "\n",
       "/* Colorize estimator box */\n",
       "#sk-container-id-3 div.sk-estimator input.sk-toggleable__control:checked~label.sk-toggleable__label {\n",
       "  /* unfitted */\n",
       "  background-color: var(--sklearn-color-unfitted-level-2);\n",
       "}\n",
       "\n",
       "#sk-container-id-3 div.sk-estimator.fitted input.sk-toggleable__control:checked~label.sk-toggleable__label {\n",
       "  /* fitted */\n",
       "  background-color: var(--sklearn-color-fitted-level-2);\n",
       "}\n",
       "\n",
       "#sk-container-id-3 div.sk-label label.sk-toggleable__label,\n",
       "#sk-container-id-3 div.sk-label label {\n",
       "  /* The background is the default theme color */\n",
       "  color: var(--sklearn-color-text-on-default-background);\n",
       "}\n",
       "\n",
       "/* On hover, darken the color of the background */\n",
       "#sk-container-id-3 div.sk-label:hover label.sk-toggleable__label {\n",
       "  color: var(--sklearn-color-text);\n",
       "  background-color: var(--sklearn-color-unfitted-level-2);\n",
       "}\n",
       "\n",
       "/* Label box, darken color on hover, fitted */\n",
       "#sk-container-id-3 div.sk-label.fitted:hover label.sk-toggleable__label.fitted {\n",
       "  color: var(--sklearn-color-text);\n",
       "  background-color: var(--sklearn-color-fitted-level-2);\n",
       "}\n",
       "\n",
       "/* Estimator label */\n",
       "\n",
       "#sk-container-id-3 div.sk-label label {\n",
       "  font-family: monospace;\n",
       "  font-weight: bold;\n",
       "  display: inline-block;\n",
       "  line-height: 1.2em;\n",
       "}\n",
       "\n",
       "#sk-container-id-3 div.sk-label-container {\n",
       "  text-align: center;\n",
       "}\n",
       "\n",
       "/* Estimator-specific */\n",
       "#sk-container-id-3 div.sk-estimator {\n",
       "  font-family: monospace;\n",
       "  border: 1px dotted var(--sklearn-color-border-box);\n",
       "  border-radius: 0.25em;\n",
       "  box-sizing: border-box;\n",
       "  margin-bottom: 0.5em;\n",
       "  /* unfitted */\n",
       "  background-color: var(--sklearn-color-unfitted-level-0);\n",
       "}\n",
       "\n",
       "#sk-container-id-3 div.sk-estimator.fitted {\n",
       "  /* fitted */\n",
       "  background-color: var(--sklearn-color-fitted-level-0);\n",
       "}\n",
       "\n",
       "/* on hover */\n",
       "#sk-container-id-3 div.sk-estimator:hover {\n",
       "  /* unfitted */\n",
       "  background-color: var(--sklearn-color-unfitted-level-2);\n",
       "}\n",
       "\n",
       "#sk-container-id-3 div.sk-estimator.fitted:hover {\n",
       "  /* fitted */\n",
       "  background-color: var(--sklearn-color-fitted-level-2);\n",
       "}\n",
       "\n",
       "/* Specification for estimator info (e.g. \"i\" and \"?\") */\n",
       "\n",
       "/* Common style for \"i\" and \"?\" */\n",
       "\n",
       ".sk-estimator-doc-link,\n",
       "a:link.sk-estimator-doc-link,\n",
       "a:visited.sk-estimator-doc-link {\n",
       "  float: right;\n",
       "  font-size: smaller;\n",
       "  line-height: 1em;\n",
       "  font-family: monospace;\n",
       "  background-color: var(--sklearn-color-background);\n",
       "  border-radius: 1em;\n",
       "  height: 1em;\n",
       "  width: 1em;\n",
       "  text-decoration: none !important;\n",
       "  margin-left: 1ex;\n",
       "  /* unfitted */\n",
       "  border: var(--sklearn-color-unfitted-level-1) 1pt solid;\n",
       "  color: var(--sklearn-color-unfitted-level-1);\n",
       "}\n",
       "\n",
       ".sk-estimator-doc-link.fitted,\n",
       "a:link.sk-estimator-doc-link.fitted,\n",
       "a:visited.sk-estimator-doc-link.fitted {\n",
       "  /* fitted */\n",
       "  border: var(--sklearn-color-fitted-level-1) 1pt solid;\n",
       "  color: var(--sklearn-color-fitted-level-1);\n",
       "}\n",
       "\n",
       "/* On hover */\n",
       "div.sk-estimator:hover .sk-estimator-doc-link:hover,\n",
       ".sk-estimator-doc-link:hover,\n",
       "div.sk-label-container:hover .sk-estimator-doc-link:hover,\n",
       ".sk-estimator-doc-link:hover {\n",
       "  /* unfitted */\n",
       "  background-color: var(--sklearn-color-unfitted-level-3);\n",
       "  color: var(--sklearn-color-background);\n",
       "  text-decoration: none;\n",
       "}\n",
       "\n",
       "div.sk-estimator.fitted:hover .sk-estimator-doc-link.fitted:hover,\n",
       ".sk-estimator-doc-link.fitted:hover,\n",
       "div.sk-label-container:hover .sk-estimator-doc-link.fitted:hover,\n",
       ".sk-estimator-doc-link.fitted:hover {\n",
       "  /* fitted */\n",
       "  background-color: var(--sklearn-color-fitted-level-3);\n",
       "  color: var(--sklearn-color-background);\n",
       "  text-decoration: none;\n",
       "}\n",
       "\n",
       "/* Span, style for the box shown on hovering the info icon */\n",
       ".sk-estimator-doc-link span {\n",
       "  display: none;\n",
       "  z-index: 9999;\n",
       "  position: relative;\n",
       "  font-weight: normal;\n",
       "  right: .2ex;\n",
       "  padding: .5ex;\n",
       "  margin: .5ex;\n",
       "  width: min-content;\n",
       "  min-width: 20ex;\n",
       "  max-width: 50ex;\n",
       "  color: var(--sklearn-color-text);\n",
       "  box-shadow: 2pt 2pt 4pt #999;\n",
       "  /* unfitted */\n",
       "  background: var(--sklearn-color-unfitted-level-0);\n",
       "  border: .5pt solid var(--sklearn-color-unfitted-level-3);\n",
       "}\n",
       "\n",
       ".sk-estimator-doc-link.fitted span {\n",
       "  /* fitted */\n",
       "  background: var(--sklearn-color-fitted-level-0);\n",
       "  border: var(--sklearn-color-fitted-level-3);\n",
       "}\n",
       "\n",
       ".sk-estimator-doc-link:hover span {\n",
       "  display: block;\n",
       "}\n",
       "\n",
       "/* \"?\"-specific style due to the `<a>` HTML tag */\n",
       "\n",
       "#sk-container-id-3 a.estimator_doc_link {\n",
       "  float: right;\n",
       "  font-size: 1rem;\n",
       "  line-height: 1em;\n",
       "  font-family: monospace;\n",
       "  background-color: var(--sklearn-color-background);\n",
       "  border-radius: 1rem;\n",
       "  height: 1rem;\n",
       "  width: 1rem;\n",
       "  text-decoration: none;\n",
       "  /* unfitted */\n",
       "  color: var(--sklearn-color-unfitted-level-1);\n",
       "  border: var(--sklearn-color-unfitted-level-1) 1pt solid;\n",
       "}\n",
       "\n",
       "#sk-container-id-3 a.estimator_doc_link.fitted {\n",
       "  /* fitted */\n",
       "  border: var(--sklearn-color-fitted-level-1) 1pt solid;\n",
       "  color: var(--sklearn-color-fitted-level-1);\n",
       "}\n",
       "\n",
       "/* On hover */\n",
       "#sk-container-id-3 a.estimator_doc_link:hover {\n",
       "  /* unfitted */\n",
       "  background-color: var(--sklearn-color-unfitted-level-3);\n",
       "  color: var(--sklearn-color-background);\n",
       "  text-decoration: none;\n",
       "}\n",
       "\n",
       "#sk-container-id-3 a.estimator_doc_link.fitted:hover {\n",
       "  /* fitted */\n",
       "  background-color: var(--sklearn-color-fitted-level-3);\n",
       "}\n",
       "</style><div id=\"sk-container-id-3\" class=\"sk-top-container\"><div class=\"sk-text-repr-fallback\"><pre>GradientBoostingRegressor()</pre><b>In a Jupyter environment, please rerun this cell to show the HTML representation or trust the notebook. <br />On GitHub, the HTML representation is unable to render, please try loading this page with nbviewer.org.</b></div><div class=\"sk-container\" hidden><div class=\"sk-item\"><div class=\"sk-estimator fitted sk-toggleable\"><input class=\"sk-toggleable__control sk-hidden--visually\" id=\"sk-estimator-id-3\" type=\"checkbox\" checked><label for=\"sk-estimator-id-3\" class=\"sk-toggleable__label fitted sk-toggleable__label-arrow fitted\">&nbsp;&nbsp;GradientBoostingRegressor<a class=\"sk-estimator-doc-link fitted\" rel=\"noreferrer\" target=\"_blank\" href=\"https://scikit-learn.org/1.5/modules/generated/sklearn.ensemble.GradientBoostingRegressor.html\">?<span>Documentation for GradientBoostingRegressor</span></a><span class=\"sk-estimator-doc-link fitted\">i<span>Fitted</span></span></label><div class=\"sk-toggleable__content fitted\"><pre>GradientBoostingRegressor()</pre></div> </div></div></div></div>"
      ],
      "text/plain": [
       "GradientBoostingRegressor()"
      ]
     },
     "execution_count": 102,
     "metadata": {},
     "output_type": "execute_result"
    }
   ],
   "source": [
    "lr = LinearRegression()\n",
    "lr.fit(X_train,y_train)\n",
    "\n",
    "sv = SVR()\n",
    "sv.fit(X_train,y_train)\n",
    "\n",
    "rf = RandomForestRegressor()\n",
    "rf.fit(X_train,y_train)\n",
    "\n",
    "gb = GradientBoostingRegressor()\n",
    "gb.fit(X_train,y_train)"
   ]
  },
  {
   "cell_type": "raw",
   "id": "818afbf9-2d13-429c-ac6a-936a64ae17f9",
   "metadata": {},
   "source": [
    "checking prediction performance"
   ]
  },
  {
   "cell_type": "code",
   "execution_count": 103,
   "id": "2e74efb6-74bf-4d13-af72-37a9efaccc4c",
   "metadata": {},
   "outputs": [],
   "source": [
    "ypred1 = lr.predict(X_test)\n",
    "ypred2 = sv.predict(X_test)\n",
    "ypred3 = rf.predict(X_test)\n",
    "ypred4 = gb.predict(X_test)"
   ]
  },
  {
   "cell_type": "code",
   "execution_count": 104,
   "id": "4d28fd9c-0b8e-4f31-93d1-a092ddb957c7",
   "metadata": {},
   "outputs": [
    {
     "data": {
      "text/plain": [
       "(array([ 38.78526277,  44.11105119, 140.13817192,  52.90259142,\n",
       "         60.76094834, 172.45935054,  59.79230242,  44.51859771,\n",
       "        100.9464044 ,  70.37995252,  72.75082558,  80.90391498,\n",
       "         62.79110996,  75.71896615,  55.22110037, 112.24791702,\n",
       "        146.05891807,  69.00699332, 108.79861891,  79.37728347,\n",
       "        186.9066707 , 120.69038329,  39.01831835, 197.20415094,\n",
       "        130.85118858,  82.99814849,  67.28136589,  48.95382225,\n",
       "        121.82349867, 154.41548372, 115.83127794,  37.6943728 ,\n",
       "         74.60292047,  77.71299735, 124.75109356,  52.22343101,\n",
       "         58.45116576,  70.12729717, 130.19591417,  45.88822265,\n",
       "        134.42393765,  89.92108551, 206.47711248,  52.50944974,\n",
       "        147.01400222,  73.32174638,  36.36245963,  62.38781849,\n",
       "        104.64760731,  87.66555629, 137.10860272, 106.47907181,\n",
       "         78.68606815, 139.16566627,  56.25854078,  81.79474771,\n",
       "        135.49550986,  62.73866081,  35.50663942,  58.62209329,\n",
       "        185.96269737, 154.83432509, 142.97845691,  41.69085858,\n",
       "         48.89992017, 162.66181197, 123.54708083,  77.46803439,\n",
       "         86.56087854,  72.71707462, 138.13514312, 499.31478708,\n",
       "         66.14332659,  23.19615869,  55.77878028,  88.73406239,\n",
       "         76.57300995, 138.26418027,  57.30001334,  59.45502281,\n",
       "         37.01351519, 187.82351672, 145.62249645,  43.24765789,\n",
       "         78.82859936,  80.08189373,  90.20008812,  54.60404587,\n",
       "         91.77400936,  77.81102659,  65.910763  , 126.35198588,\n",
       "        116.67828853, 116.66770829,  74.15665874, 118.25630524,\n",
       "         77.17789738, 124.40434403,  46.10171143, 124.01332426,\n",
       "         53.3637461 ,  68.5792167 , 249.11930681,  89.23014862,\n",
       "        114.65924214,   4.62339625,  48.33411166,  84.5889985 ,\n",
       "        127.16913665,  11.78301656, 109.73576888, 102.70995816,\n",
       "         64.93657194,  67.92311967,  77.44987952, 126.21934187,\n",
       "        103.06460233,  30.08618496, 239.84156553, 112.55810651,\n",
       "        254.34658781,  79.77813725,  83.2672798 ,  96.64684291,\n",
       "        121.66017628, 222.49429102, 126.55498646,  89.05742731,\n",
       "         97.50421487, 119.30773476,  40.97880806, 113.78803897,\n",
       "        130.15828735, 136.94827917, 109.64262123, 213.40295578,\n",
       "         58.04373553,  81.47348803,  83.37955813,  12.13696291,\n",
       "        119.61413684,  55.576348  ,  79.08072266,  63.16740988,\n",
       "         66.62832069,  52.48018963,  46.32102699,  49.07842365,\n",
       "         85.17836743, 138.52420332,  90.14110492,  23.58038269,\n",
       "         79.14648446,  69.73939457,  80.14502867,  28.57866542,\n",
       "         78.2308172 ,  73.48438807, 187.77251393,  75.2835798 ,\n",
       "         45.56105491,  41.73734067, 127.88211243,  49.84038681,\n",
       "         42.28339616,  40.51161883,  81.6457522 , 131.11810685,\n",
       "         39.29534711,  64.69213412,  43.93661837,  43.75397468,\n",
       "         97.82979362, 119.52825065,  35.55491805, 132.50134828,\n",
       "        184.03066611,  29.57426138,  74.72878572,  27.49825424,\n",
       "         78.01511151,  87.36348578, 178.45025792, 180.47511327,\n",
       "         65.43993738,  74.42951   ,  90.06840278, 178.02760504,\n",
       "         51.11200477, 106.69924928, 118.11045845,  70.59229525,\n",
       "         37.17074052,  63.10696992,  99.81812246, 126.60943644,\n",
       "         90.49350793,  92.61017719, 125.98112442,  55.03584187,\n",
       "         82.20640047,  53.22293769,  83.53957632, 187.89987182,\n",
       "        124.08206479, 286.66581151, 107.60797723,  79.10203561,\n",
       "         86.0767778 ,  26.50175541,  43.22879832, 131.40357863,\n",
       "         63.56163069,  72.79715166,  60.95830288, 131.01856978,\n",
       "         75.03538804,  63.55825345, 114.491279  ,  44.9560302 ,\n",
       "         49.65161368, 178.52033864, 109.49282382, 103.69024805,\n",
       "         94.84019519,  71.07388571,  78.85835657, 158.28613232,\n",
       "        165.17246386,  23.96877884, 103.44571606,  71.09977953,\n",
       "         80.43729261,  50.4441786 , 166.28398426,  56.67353575,\n",
       "        141.23278157,  56.17932457, 107.69514875, 189.86036138,\n",
       "         21.6878751 , 502.36782994,  86.57184933, 161.16062271,\n",
       "         60.83846336, 185.07214039, 100.37480366, 107.43616941,\n",
       "         85.68250451,  68.82283433,  99.79940341,  41.39746188,\n",
       "         99.5692059 ,  90.94308056,  66.17953584, 188.37815667,\n",
       "        110.7731955 ,  54.70981732,  48.89345379, 104.00157621,\n",
       "        374.66654904,  74.98788201,  45.77959296, 287.60083487,\n",
       "         46.15579226, 117.65354617, 140.55160313, 115.83700371,\n",
       "         68.54320952,  81.25827802,  57.14312575,  96.58926364,\n",
       "         95.79255245,  56.5522309 , 287.65794128, 160.75754543,\n",
       "         44.02961639,  94.11750395, 124.72706147, 108.19923   ,\n",
       "        159.82687564, 155.49899519,  32.79014923, 118.99703039,\n",
       "         24.90708368,  84.23991026,  65.29754029, 107.3333347 ,\n",
       "         55.10813594, 108.95110355,  70.9802047 , 178.80892834,\n",
       "        135.11780814,  76.67447176,  84.9605059 ,  61.82509333,\n",
       "         52.7461084 , 135.15792206,  49.18695285,  83.19494735,\n",
       "         60.86656902,  62.37916265, 141.23971238,  36.90506149,\n",
       "        134.18517183,  41.34014341,  29.03979029, 198.19360248,\n",
       "         57.03874021, 121.94361663, 106.982604  ,  65.14702308,\n",
       "        108.96211465,  36.81208913,  63.6886191 ,  50.88186083,\n",
       "        117.22111016,  38.84136106,  25.3727812 ,  86.57850383,\n",
       "         74.14733714,  67.57495599,  44.29796958,  60.4793089 ,\n",
       "         36.19581424,  81.10601619, 168.09222138,  65.87906937,\n",
       "        130.31149477, 134.71929365,  58.83300435,  25.35481085,\n",
       "         59.99927013,  66.84283564, 146.21707886,  49.19709685,\n",
       "         98.12527815,  69.2504384 ,  39.14617611,  97.61036718,\n",
       "        162.92087881,  35.78653658,  74.16603342, 104.33218242,\n",
       "         85.5481552 ,  88.91199544,  61.30599196,  88.95038585,\n",
       "        121.00459121, 101.33542194,  78.60124561,  73.17173589,\n",
       "         84.83667242,  65.86855784, 176.88150815,  31.07299993,\n",
       "        112.61316319,  80.44420365,  91.77542829,  78.75606732,\n",
       "         54.05403154,  78.34159073, 100.92642373,  81.1490788 ,\n",
       "         90.19739624,  99.7821157 ,  53.6324459 ,  77.26348747,\n",
       "         40.66569304,  54.96604706,  75.75073758, 132.52280082,\n",
       "         53.90453468,  88.13022794, 201.44998603,  66.63490241,\n",
       "         67.58253016, 133.85776471,  85.51348581, 105.64865619,\n",
       "         39.5816322 ,  41.08896958,  98.56383002,  93.28784578,\n",
       "         95.40080362,  44.79888805, 309.11646344,  39.64465287,\n",
       "        122.93059644, 172.18518599,  31.0144998 ,  52.18448797,\n",
       "         40.42645552,  71.14402605, 167.72544903, 223.83051655,\n",
       "         31.32449847,  21.52649824, 126.42973614,  58.0130239 ,\n",
       "         49.94448778,  87.18247635, 105.46371454,  38.00162162,\n",
       "         35.58543032,  47.76326787, 193.28637811,  48.23648239,\n",
       "        173.22218499,  65.8579984 ,  27.54050443, 145.61190182,\n",
       "         95.41790961,  38.26127285,  59.59018765,  40.93500276,\n",
       "        105.38442896, 101.25614052, 166.69794733, 310.20308779,\n",
       "        117.12008633, 118.41654324,  94.08307247,  86.49559078,\n",
       "         66.75284543,  85.72811252, 145.08881748,  11.66607168,\n",
       "        136.80057416,  89.72593099,  76.90611197, 190.41841123,\n",
       "         54.692822  ,  61.01717551,  62.62274987, 117.03245513,\n",
       "         45.64958042,  59.9631536 ,  58.23670066,  95.38851124,\n",
       "        114.19983817,  75.84752883,  75.92394639,  94.14587428,\n",
       "        162.93365502, 126.64819701, 103.80735899,  96.91659536,\n",
       "         84.78579552,  60.02426995, 103.18012562,  91.60188262,\n",
       "         49.45387917, 125.45997624,  49.75919455,  46.40866013,\n",
       "         47.05066668, 143.30742168, 183.33447838, 211.55648349,\n",
       "        157.73419639, 103.99289668,  14.93335221, 122.02272326,\n",
       "         43.74180006, 118.33679352, 122.57140956,  78.6577475 ,\n",
       "         48.17386002,  64.08090891, 174.43355217, 103.24528121,\n",
       "         38.74637984,  58.89594687,  42.24428704, 142.17491618,\n",
       "        131.64489561,  76.97822352,  55.91965047, 150.76794321,\n",
       "         38.50287346,  74.15518685, 119.14641009,  65.66314098,\n",
       "         47.89654316,  85.23907296, 123.85881668,  74.51840506,\n",
       "         92.50851909, 106.6175921 ,  84.16199237,  10.96832397,\n",
       "        119.20939287,  40.82601888, 141.57968835,  41.41127478,\n",
       "        102.63089483, 128.90596572,  39.12812348, 234.74713979,\n",
       "         47.81527864,  51.00342689, 113.68075964,  86.08303245,\n",
       "         85.46566552,  53.86528454, 138.26949844,  65.60077609,\n",
       "        182.81153404,  77.82617047, 108.79953915, 156.40928293,\n",
       "        160.24855396,  52.61329269,  93.66060219, 112.55331751,\n",
       "        109.16668607, 122.17825679, 138.81498321, 142.53438291,\n",
       "         66.12686461,  73.54251504,  78.09580987,  97.71956944,\n",
       "         71.03877417, 104.38840502,  71.78264566,  23.83886007,\n",
       "         81.06202276,  41.9447379 , 165.32367254,  98.30474289,\n",
       "         81.00035172,  43.46130275,  45.79903904,  60.37256564,\n",
       "        103.05749714,  52.198366  ,  87.3773357 , 100.8437795 ,\n",
       "         97.93808073,  94.30109235,  49.63155461,  61.89000829,\n",
       "         38.7739116 ,  39.72810333, 102.45048604, 205.22139979,\n",
       "        178.18912269,  58.28054624,  98.26229687, 160.63704744,\n",
       "        102.40584065, 121.20673248,  42.56612298, 129.29112382,\n",
       "        109.51467354,  83.19094969,  70.39497262, 124.12152698,\n",
       "        147.73754613,  98.37573109,  85.09102476,  81.807023  ,\n",
       "        105.70353615, 152.06400713, 201.34058711,  52.99388072,\n",
       "         63.27952304,  65.94501769,  66.30714215,  81.78757927,\n",
       "        161.20096142,  82.7979502 ,  52.17560733,  37.76981513,\n",
       "         60.75395886,  96.38497412,  75.23856548,  63.72059518,\n",
       "         94.83653072,  39.35879568, 207.86147868, 191.13029589,\n",
       "         74.02885057,  54.01026492, 191.64878617, 140.92911495,\n",
       "         88.88099936, 154.18788532,  82.73227102,  66.25926157,\n",
       "         83.84346446, 140.09055942,  92.64153967, 133.19582308,\n",
       "         77.79178993,  27.88518745, 118.79055415,  63.52453685,\n",
       "         80.1974088 ,  64.43899058, 128.46500262,  84.54736579,\n",
       "         82.38959711, 116.78920432,  85.57250691,  56.73480955,\n",
       "         92.74315042,  52.93273853, 177.58085716, 140.93829248,\n",
       "         98.91776252,  33.33869812,  19.96042648, 103.81513194,\n",
       "        201.54734864, 150.53839671,  92.25878405,  79.91517289,\n",
       "         78.83717469,  64.21513012,  94.93207132,  25.58862508,\n",
       "         81.97675877, 143.1828952 ,  85.62787003, 125.12468518,\n",
       "        121.33716146,  41.50154302,  62.08423291, 103.85880395,\n",
       "        131.61577836, 200.3082448 ,  59.72215756, 148.74267624,\n",
       "        125.79279983,  81.69884514,  60.67036596, 157.2834666 ,\n",
       "        162.91452757,  43.14596154, 157.4786082 ,  36.0380996 ,\n",
       "         69.40497213,  63.2757891 ,  90.36000432, 177.20099173,\n",
       "         62.10277875,  77.25122142,  81.57183145,  36.14772532,\n",
       "        149.25519045, 125.9802681 , 122.91322211,  78.31854881,\n",
       "         89.50576472,  25.19162489,  47.978449  , 141.36158469,\n",
       "         50.81025916,  61.95738663,  64.52701476,  82.22417557,\n",
       "         91.74238949,  87.40468024, 106.36064521,  89.22563849,\n",
       "        133.66661433,  71.19552137,  59.96081146,  58.01978902,\n",
       "         95.516178  , 103.20348391,  83.03533202, 178.91429164,\n",
       "        117.23578971,  49.33456024,  78.5096868 ,  51.20760365,\n",
       "        124.86647619,  45.5053672 , 100.63671636,  85.27604734,\n",
       "        169.29519418, 114.8160971 ,  51.08957872]),\n",
       " array([ 41.08245062,  44.18020492, 118.15438795,  40.54221766,\n",
       "         83.33426506, 117.9254492 ,  83.68534665,  41.8368768 ,\n",
       "        111.01429847,  54.03272714,  57.6801768 ,  84.83624103,\n",
       "         67.61526401,  84.50638063,  54.21919651, 107.45656639,\n",
       "        113.44522354,  80.19478028, 120.89477768, 117.73649671,\n",
       "        121.27844587,  90.67954233,  45.98371456, 126.13782494,\n",
       "        121.79887811,  87.95443767,  46.89628396,  49.58674716,\n",
       "        120.97208686, 119.88770462,  90.27080024,  52.52737716,\n",
       "         67.14462173,  63.24171834, 115.83744617,  53.61900462,\n",
       "         57.21037999,  79.00775915, 121.42041554,  56.73646766,\n",
       "         89.86360129,  84.46751509, 130.92676422,  85.16619228,\n",
       "        113.64604908, 105.50684892,  51.03110568,  55.61915393,\n",
       "        118.28818885,  74.96373208, 107.39706504,  83.65222042,\n",
       "         93.35921831, 121.53552373,  64.75547841,  57.93049463,\n",
       "        118.16880416,  54.42676734,  38.72219102,  55.62432564,\n",
       "         89.12604012, 115.02803474, 100.45309838,  53.25777818,\n",
       "        108.26824689, 124.21225036, 115.40350996, 117.01458757,\n",
       "        108.27677366,  69.99167219, 119.20299127, 146.57386464,\n",
       "         58.18397761,  43.41714386,  87.88922297, 106.47221293,\n",
       "         96.28141182, 120.89946689,  83.53961315,  83.07108383,\n",
       "         39.04618602, 104.98966482, 109.49403746,  45.6714831 ,\n",
       "         89.21700326,  71.67282511,  88.09645518,  52.40728006,\n",
       "        103.05172091,  56.29791906, 106.0850487 , 102.13776758,\n",
       "        111.51600632, 103.80420771,  65.43971611, 108.21467377,\n",
       "         55.28036191, 120.89339311,  34.53938093,  92.8296264 ,\n",
       "         46.35462658,  81.9808889 , 131.22616885,  83.12476626,\n",
       "        113.34771702,  41.41244716,  68.76841451,  86.53090987,\n",
       "        117.77588598,  36.12208147,  92.4859551 , 117.50407668,\n",
       "         72.04737618,  58.43687112,  66.42220735, 107.64482575,\n",
       "         96.20715205,  40.4982769 , 130.81008865, 119.9838861 ,\n",
       "        128.57393775,  95.2547806 ,  85.87478633,  70.81913057,\n",
       "        112.58916241, 129.61984754,  99.67935384,  65.16575526,\n",
       "        106.42954407, 110.78058384,  41.99666181,  82.91558352,\n",
       "        117.32797932,  94.97178016,  86.87243165, 114.94208056,\n",
       "         67.75864186, 104.36474718, 104.6575277 ,  54.72202769,\n",
       "        111.47863283,  60.29959593,  67.54806133,  83.37570421,\n",
       "         70.40606853,  80.78519869,  57.80136928,  53.58436402,\n",
       "         88.29286463, 123.21028958, 107.58714189,  44.5466315 ,\n",
       "         85.28464425,  56.68901893, 107.14237077,  39.11099198,\n",
       "         66.81228365,  97.13231993, 120.30909062,  67.89543115,\n",
       "         58.87590263,  49.03320198, 112.16284435,  60.31608319,\n",
       "         48.15089149,  50.5440173 ,  97.84667517, 117.40408432,\n",
       "         54.4980704 ,  92.75755417,  44.93719288,  43.20116253,\n",
       "        118.51515572, 118.34559455,  40.51947869,  98.59914136,\n",
       "        110.89022341,  38.38584896,  95.70320018,  89.03840612,\n",
       "         68.28113901,  95.64046404, 104.70330582, 131.33800938,\n",
       "         74.05675453,  97.42631329, 100.4142893 , 122.33720255,\n",
       "         82.41707324,  87.47229563, 109.95412851,  96.79494424,\n",
       "         47.50236068,  57.25497362, 113.13390189,  90.31965334,\n",
       "         67.97156479, 118.16076776,  85.29965738,  54.51149887,\n",
       "         70.62396951,  57.10366235,  84.37278048, 125.97367295,\n",
       "        108.90967482, 119.61987254, 106.9301267 ,  55.90903384,\n",
       "        117.74323051,  41.8766582 ,  48.96540547, 117.85060216,\n",
       "         57.32008052,  74.5898281 ,  58.75319682,  89.16125411,\n",
       "         62.82402836,  72.71178291,  89.1998283 ,  52.27282002,\n",
       "         55.99502188, 117.4648984 ,  96.20501907,  99.05935357,\n",
       "        105.04592689, 105.73860722, 116.54188271,  99.09314116,\n",
       "        115.8786112 ,  36.56655373,  73.53229575,  89.60696456,\n",
       "         84.22633978,  43.94911188, 118.82528644,  63.43629528,\n",
       "        123.3519527 ,  83.86575487,  61.05775758, 117.0397629 ,\n",
       "         41.05131477, 144.0853887 ,  84.31858132, 107.8824379 ,\n",
       "         68.65847203, 110.43635119, 120.3900174 , 106.94030704,\n",
       "         92.47733414,  83.03897672,  85.01574972,  48.84516427,\n",
       "        108.41315732, 105.65431346,  70.90272104, 124.10770996,\n",
       "        107.87649082,  56.65323801,  54.09709939,  69.37002558,\n",
       "        144.4068104 ,  50.57120267,  42.82174531, 131.68578891,\n",
       "         56.78674841, 112.73915418, 101.3155534 , 116.56715686,\n",
       "        105.78243265,  83.48170749,  63.52340016,  86.83153492,\n",
       "         85.17624772,  54.97066179, 131.53733399, 100.2039886 ,\n",
       "         50.46955115, 109.38424781, 120.00022448,  93.76663094,\n",
       "         89.5005863 , 119.56978778,  76.75730034,  84.70114914,\n",
       "         42.28711731,  80.41819441,  70.37832416,  89.72871142,\n",
       "         66.65040961,  67.57059911, 107.85006667, 121.69398168,\n",
       "        105.91681717,  97.58766236,  78.04122021,  56.73402601,\n",
       "         56.61033234, 121.77678419,  54.67817238,  81.98299322,\n",
       "         61.85910816,  68.32901388, 113.47230616,  66.67641432,\n",
       "         93.26456449,  39.41746781,  32.98824474, 119.76497359,\n",
       "         48.27505973,  85.77575833,  92.39853733,  71.71636768,\n",
       "         85.92213469,  44.54026214,  76.79898336,  60.83174852,\n",
       "         83.73025736,  42.3380256 ,  36.88233091,  81.52151806,\n",
       "         98.63336997,  85.92770166,  40.74964397, 105.82553366,\n",
       "         43.95057664, 107.06722739, 114.03225547,  61.63290148,\n",
       "         91.46571595,  62.96055272,  70.23386406,  80.54238582,\n",
       "         83.56077105,  71.11266279, 117.08190267,  51.89977037,\n",
       "        119.95910546,  61.56447924,  48.40165292, 106.42097387,\n",
       "        117.59157848,  38.54183416,  63.81656006, 120.87824272,\n",
       "        116.87758431, 107.9043245 ,  69.04807801, 108.60259095,\n",
       "         97.25174539,  87.81632419,  79.43375668,  62.1932792 ,\n",
       "        111.0682128 ,  69.76766802, 121.93816041,  40.4728794 ,\n",
       "         97.45337219,  85.20263792,  85.70077855,  68.79203183,\n",
       "         54.45754881,  70.10484583, 107.04988305,  94.24537799,\n",
       "         99.12690533, 111.50944815,  82.66825486,  70.64091105,\n",
       "         46.01334116,  52.67502427,  96.30260166,  86.83187076,\n",
       "         81.36711689, 101.88172756, 117.29879211,  45.08053758,\n",
       "         69.59252125, 106.56562523,  59.33698259, 107.32297015,\n",
       "         52.66538529,  43.75547478,  85.02465649,  83.99142236,\n",
       "         61.12323333,  48.39319068, 139.71912168,  48.35320325,\n",
       "        120.38506562, 116.40746846,  47.89374809,  66.89612217,\n",
       "         43.25647369, 103.96318403, 116.79840858, 119.7729688 ,\n",
       "         68.93113543,  36.64957615, 111.55925757,  55.75025768,\n",
       "         53.96996919, 108.77190082, 114.65670756,  41.86926523,\n",
       "         41.46556796,  57.51878547, 122.59281583,  56.40007781,\n",
       "        121.16830189,  94.76087245,  40.79930794, 115.60676644,\n",
       "         84.44134979,  41.34080441,  77.19467395,  42.59599322,\n",
       "        121.24550815, 119.09370648, 124.13447822, 138.75911692,\n",
       "        115.02245256,  74.47809013,  91.43817226,  88.03435229,\n",
       "         59.96113889,  85.50220745,  97.93173062,  29.03916012,\n",
       "        122.19072116, 103.93425796,  85.12226847, 120.02562687,\n",
       "         43.21161572, 104.06759583,  48.69118596,  75.29801966,\n",
       "         54.91448925,  81.51178814,  67.6036701 ,  87.76820507,\n",
       "         79.69722809,  87.41210774,  69.67439868,  89.89056988,\n",
       "        116.85026479, 101.74696139,  69.91920783, 112.1180995 ,\n",
       "         83.93958259,  54.26896867, 108.09199106, 106.64722805,\n",
       "         50.20631053,  81.62132257,  56.79187439,  61.14362138,\n",
       "         45.18060717, 104.19919723, 105.03264648, 115.82409148,\n",
       "        112.47106805,  66.66921886,  52.77131471, 104.06193711,\n",
       "         77.75017256,  88.75861677, 116.4459694 , 117.15427659,\n",
       "         45.34353065,  78.66851501, 127.47249041,  87.85427664,\n",
       "         55.7854182 ,  70.63377255,  48.41175392, 118.49929286,\n",
       "        120.74392817,  71.35557478,  69.88922727, 116.29792552,\n",
       "         40.56154696,  83.12901276, 111.89505712,  73.63602583,\n",
       "         49.66386668,  85.28833793,  87.55158139,  94.33642583,\n",
       "         88.41900553,  90.31544177, 106.34354203,  39.3710866 ,\n",
       "         96.10624245,  56.01547982, 107.10365238,  57.71489646,\n",
       "         82.00503101, 118.74858818,  45.82817146, 126.35961529,\n",
       "         56.00509108,  48.6425541 ,  95.79346889,  71.6808435 ,\n",
       "         91.93281759,  54.4929782 ,  96.49353861, 118.63652697,\n",
       "        113.59968408,  69.8357228 , 119.34709131, 118.69405358,\n",
       "        115.80616856,  54.40671192,  84.56293919, 119.71149006,\n",
       "        120.05798067, 112.39785564,  96.65995341, 118.39677328,\n",
       "         57.97146817,  60.83172206,  83.55656045, 110.66288139,\n",
       "        106.66587769, 119.6631965 ,  82.46038992,  40.06623974,\n",
       "        118.62893392,  42.64233127, 108.11799049,  96.5519295 ,\n",
       "         61.10520218,  42.95553   ,  54.14146337,  77.16036317,\n",
       "         84.82737118,  49.55217365,  61.34728474,  84.7978239 ,\n",
       "         72.89291319,  95.34952333,  49.65614753,  62.11388259,\n",
       "         65.07741214,  50.01195189,  88.5565544 , 134.07873061,\n",
       "        111.88578725,  75.8472987 ,  98.76425872, 117.50577486,\n",
       "         92.57853798,  91.39029191,  52.8111964 , 113.37954236,\n",
       "        105.94977136,  88.01621569,  92.36757701, 108.36860254,\n",
       "        120.53830395,  57.28897068,  92.61806144,  70.41260107,\n",
       "         76.6281055 , 114.84291936, 102.98354243,  63.93880374,\n",
       "         71.47114579,  75.68491062,  58.50434218,  85.99663847,\n",
       "        119.72880659,  94.67304517,  61.21257302,  42.6329902 ,\n",
       "         54.62688033, 107.82482617, 118.36414991,  68.2929561 ,\n",
       "         77.18793216,  41.9618544 , 125.96778331, 115.77282459,\n",
       "         55.09432242,  58.93343672, 120.16359886,  78.76382551,\n",
       "         93.82583126, 120.62636155,  86.61224608,  94.85391654,\n",
       "         84.13296187, 111.59060473,  84.95689695,  93.29867757,\n",
       "         81.76705809,  28.25949487, 119.79950759,  59.791819  ,\n",
       "        118.25148874,  57.46332784,  93.76055249, 104.39410772,\n",
       "         62.06578291,  91.72938626,  67.57715322,  97.48159226,\n",
       "         66.23276112,  57.08313441, 121.00877481, 106.18972847,\n",
       "        110.77156842,  32.77664848,  53.01660103,  77.53659124,\n",
       "        122.38594521, 103.7138143 ,  64.74669411, 104.93739866,\n",
       "         86.24502742,  72.5523478 ,  76.78655046,  67.80003129,\n",
       "         74.03695789,  90.5992625 , 108.0351247 , 114.68902261,\n",
       "        117.39065364,  68.4545804 ,  82.82925801, 101.25050594,\n",
       "         76.68740115, 124.69245625,  76.82519177, 124.48110636,\n",
       "        116.89097479,  97.64437483,  58.2082145 , 101.11848649,\n",
       "         93.9062602 ,  51.00520634, 110.49438746,  38.92151068,\n",
       "         66.08942108,  53.52910049,  77.68074242, 125.53835109,\n",
       "        106.63458238,  87.06661843, 105.51962453,  51.7255156 ,\n",
       "        120.02518934,  91.97199124, 120.64929422,  71.20207871,\n",
       "         78.83902741,  47.98181537,  50.84931966, 112.02498509,\n",
       "         50.2193192 ,  70.64360368,  56.27480819,  85.92117241,\n",
       "         64.01675086, 109.1441856 ,  91.02737672,  68.75894537,\n",
       "        121.41162001, 107.77572958,  55.02474928,  54.30231895,\n",
       "         89.72232605,  93.03960297,  54.77440895, 114.45251966,\n",
       "        109.06024138,  70.21736076,  84.08555511,  69.39381726,\n",
       "         91.89451307,  78.34926457, 111.59619691,  82.28271041,\n",
       "        108.32179788,  73.24041158,  55.23167831]),\n",
       " array([ 37.2391,  39.0751, 144.1437,  32.1018,  66.8734, 188.6113,\n",
       "         59.1142,  39.0347, 100.8537,  66.1649,  69.9317,  76.5542,\n",
       "         64.0678,  74.1492,  58.3266, 101.607 , 137.4307,  69.9145,\n",
       "        120.6026,  80.9876, 176.056 , 109.0879,  46.3751, 197.5233,\n",
       "        127.9753,  77.9868,  48.8138,  52.1538, 126.3764, 142.0806,\n",
       "        124.0644,  42.277 ,  66.6731,  71.951 , 132.7414,  53.9379,\n",
       "         65.2413,  71.4564, 146.9852,  45.4811, 127.2012,  89.2916,\n",
       "        158.4123,  45.2775, 130.6785,  73.7258,  45.0762,  70.8821,\n",
       "        116.5164,  79.1517, 121.4034, 119.4612,  75.3034, 141.5479,\n",
       "         63.1437,  78.5476, 141.7635,  62.9114,  35.5682,  55.6086,\n",
       "        126.2862, 140.1765, 157.1594,  36.7011,  55.1268, 146.5229,\n",
       "        124.4732,  74.5573,  89.6364,  61.2824, 138.9732, 379.6529,\n",
       "         59.8215,  25.576 ,  69.8539,  84.9486,  74.9617, 124.5214,\n",
       "         57.5917,  57.7329,  37.9837, 204.6805, 167.3202,  34.0808,\n",
       "         96.4999,  78.1003,  86.7026,  51.0322,  92.337 ,  74.3942,\n",
       "         27.7761, 131.9006, 117.3156, 116.3697,  77.9996, 112.4524,\n",
       "         68.8355, 137.2867,  61.0112, 116.9037,  54.7964,  71.2217,\n",
       "        281.795 ,  86.1904, 111.3697,  17.6207,  55.0743,  86.1515,\n",
       "        136.425 ,  13.4615, 115.1809,  99.2531,  59.5547,  67.7358,\n",
       "         79.288 , 142.5101,  99.9702,  50.131 , 259.4213, 118.4163,\n",
       "        296.3141,  76.2808,  83.0243,  79.5939, 122.8496, 223.5447,\n",
       "        129.9145,  92.8162,  95.3299, 116.5829,  36.5809, 103.5046,\n",
       "        124.3204, 153.7687,  98.6155, 217.7319,  58.8966,  79.9869,\n",
       "         88.6313,  26.2272, 126.9386,  56.2015,  82.1861,  46.9341,\n",
       "         63.9893,  61.0877,  48.7795,  45.81  ,  92.9868, 147.4565,\n",
       "         90.559 ,  30.7202,  75.5758,  61.0479,  78.1297,  17.2378,\n",
       "         78.1194,  73.3845, 166.2952,  73.6635,  47.3013,  44.2584,\n",
       "        136.7072,  49.6834,  41.2015,  49.0525,  77.6046, 118.9168,\n",
       "         46.7988,  65.0172,  19.7794,  41.572 , 100.0513, 131.5044,\n",
       "         15.3781, 122.4628, 167.1198,  28.6955,  68.6318,  27.1265,\n",
       "         73.2497,  80.7859, 175.4044, 149.5454,  71.8553,  73.1704,\n",
       "         78.3866, 196.5679,  57.5206, 108.4705,  98.4562,  67.6967,\n",
       "         44.011 ,  68.2194,  86.3985, 128.1681,  92.5757,  99.6373,\n",
       "        100.8211,  50.5896,  72.2349,  56.504 ,  72.4427, 172.2519,\n",
       "        106.7235, 247.8695, 121.7403,  70.0591,  91.7645,  25.9075,\n",
       "         38.5631, 130.2656,  63.3294,  70.0187,  54.0979, 127.4091,\n",
       "         71.8921,  59.9748, 110.4762,  36.4613,  46.7239, 182.063 ,\n",
       "        125.6689, 102.4636,  93.5631,  72.3428,  86.7153, 166.8165,\n",
       "        171.3303,  30.1126,  92.5274,  70.7794,  75.5123,  40.201 ,\n",
       "        180.3899,  61.5503, 130.2746,  60.0132,  98.7737, 165.8638,\n",
       "         37.9302, 368.0307,  91.5318, 158.6862,  55.4169, 194.2068,\n",
       "        105.9724,  99.1504,  84.7947,  69.5275,  94.2377,  42.4935,\n",
       "        106.9917,  90.9519,  76.8794, 184.1487, 103.4522,  62.0975,\n",
       "         51.0365,  95.5414, 395.1069,  77.7754,  43.2946, 279.3493,\n",
       "         53.9528, 131.1128, 142.5556, 125.5295,  77.8012,  79.4207,\n",
       "         58.7331,  90.8841,  90.524 ,  55.4173, 279.7934, 170.1145,\n",
       "         46.6757,  84.1523, 125.5264, 111.8873, 132.905 , 144.9195,\n",
       "         35.0891, 134.9136,  23.2778,  83.9535,  60.1075, 103.9314,\n",
       "         63.8639,  94.5427,  81.2744, 170.9949, 137.3258,  70.0642,\n",
       "         87.4095,  64.3884,  51.0955, 125.6135,  53.5112,  82.3881,\n",
       "         53.533 ,  65.9539, 133.5351,  39.2825, 131.6817,  37.5445,\n",
       "         23.2258, 175.1825,  49.9973, 120.1918, 109.4477,  60.1323,\n",
       "        109.3157,  38.6462,  63.6716,  49.1483, 128.7346,  37.0133,\n",
       "         22.0501,  78.5809,  72.1075,  65.0589,  44.4517,  60.8593,\n",
       "         34.3539,  83.7273, 169.9014,  65.4071, 127.0213, 153.1614,\n",
       "         62.4505,  17.6831,  65.2046,  64.7051, 125.3214,  49.1155,\n",
       "         98.0723,  75.6167,  42.4688,  87.5038, 151.4598,  39.8879,\n",
       "         66.3257, 107.1975,  90.5166,  86.331 ,  60.7472,  82.9621,\n",
       "         97.5333, 104.3545,  80.8662,  71.6453,  89.2285,  61.0386,\n",
       "        186.7597,  34.3635, 116.8328,  88.1071,  91.8619,  74.5561,\n",
       "         51.7713,  74.6107,  96.7905,  76.175 ,  88.6468,  90.5085,\n",
       "         58.6285,  75.3249,  39.1033,  52.5876,  69.6837, 114.2543,\n",
       "         57.1071,  83.2349, 182.2623,  66.9387,  68.4527, 145.0239,\n",
       "         86.9275, 103.499 ,  39.9526,  39.5   ,  99.3756,  97.7986,\n",
       "         92.7258,  41.714 , 284.6901,  26.3831, 137.7666, 161.8748,\n",
       "         33.1848,  53.8255,  34.8016,  77.4788, 194.3608, 186.431 ,\n",
       "         37.737 ,  39.6315, 124.4111,  61.8576,  52.3076,  85.2094,\n",
       "        106.1749,  36.9045,  33.3536,  47.0221, 197.5752,  47.124 ,\n",
       "        168.7107,  67.4849,  27.8585, 162.1752,  91.308 ,  41.1642,\n",
       "         60.2609,  24.738 , 121.1249, 101.4379, 181.6589, 419.8863,\n",
       "        110.7051, 147.0355,  96.8521,  88.8234,  67.0186,  92.5113,\n",
       "        113.0068,   8.1709, 142.0044,  90.9775,  71.1026, 179.6389,\n",
       "         40.5397,  57.3258,  70.1966, 137.1061,  45.4368,  64.3728,\n",
       "         63.5022,  87.4918,  90.1878,  82.7293,  79.3924,  92.5405,\n",
       "        175.7438, 113.0028,  90.1587, 100.9973,  88.2313,  55.2598,\n",
       "        106.5155,  83.6372,  47.3481, 135.9197,  53.1976,  45.62  ,\n",
       "         42.9023, 143.3053, 190.3175, 218.9357, 120.7618,  94.2095,\n",
       "         18.7414, 109.748 ,  56.9708, 126.4249, 127.1076,  73.4937,\n",
       "         45.3971,  63.2643, 163.7897, 117.7839,  41.2921,  60.0091,\n",
       "         43.1053, 150.2122, 138.2016,  68.303 ,  56.2675, 147.6404,\n",
       "         40.0296,  72.0381, 120.8825,  60.9775,  46.3875,  83.7852,\n",
       "        119.2721,  79.5804,  93.1122, 108.969 ,  85.1743,  11.502 ,\n",
       "        111.9987,  43.784 , 140.9699,  46.6788,  88.3645, 132.7622,\n",
       "         40.2814, 240.1324,  49.5483,  42.9868, 120.006 ,  80.2243,\n",
       "         91.6172,  57.3286, 143.1776,  78.9787, 149.1043,  65.0011,\n",
       "        105.4431, 151.3887, 161.7337,  49.2252,  86.8631, 127.7959,\n",
       "        124.442 , 116.6748, 144.7535, 144.0514,  62.6156,  72.3784,\n",
       "         79.121 ,  95.4917,  67.2138, 107.4186,  68.3303,   9.95  ,\n",
       "         79.6445,  40.6649, 172.4185,  98.2086,  77.3344,  21.7365,\n",
       "         42.7069,  60.6458, 127.9288,  53.8869,  88.4461,  98.1826,\n",
       "        104.0289,  92.9146,  47.0535,  59.972 ,  46.109 ,  41.6376,\n",
       "        107.5726, 181.6022, 172.2796,  58.6329,  95.2137, 159.6749,\n",
       "        109.4992, 118.2634,  42.6903, 124.7026, 121.7002,  95.3472,\n",
       "         68.6815, 120.4062, 160.0675, 104.3311,  88.8381,  79.6053,\n",
       "         80.8185, 132.0861, 185.6899,  50.522 ,  66.2882,  65.6628,\n",
       "         62.5909,  84.5604, 154.5077,  75.5788,  51.3256,  31.4171,\n",
       "         58.0497, 114.7442,  70.8647,  55.9719, 102.8926,  35.9099,\n",
       "        218.2086, 176.649 ,  68.293 ,  58.7972, 166.422 , 123.4679,\n",
       "         84.9967, 148.0173,  73.3822,  67.1936,  87.5904, 154.1411,\n",
       "         88.539 , 118.9075,  79.1178,  35.1303, 117.9097,  67.807 ,\n",
       "         85.6482,  67.0055, 107.3087,  86.1495,  87.3906, 112.0822,\n",
       "         86.001 ,  54.2699,  94.4136,  58.2457, 152.0543, 137.265 ,\n",
       "         98.661 ,  24.0581,  22.2267, 101.655 , 184.7646, 159.4912,\n",
       "         92.1388,  85.2136,  83.6514,  59.3258,  94.4402,  26.9723,\n",
       "         82.0291, 161.3627,  93.9323, 133.0992, 122.0414,  47.4707,\n",
       "         57.1235, 108.785 , 111.2416, 155.981 ,  52.7665, 132.5264,\n",
       "        126.1133,  90.9017,  67.9295, 149.914 , 167.958 ,  44.7747,\n",
       "        146.9469,  20.9992,  59.9624,  56.251 ,  93.1181, 181.6179,\n",
       "         63.0621,  75.0921,  78.8906,  38.0232, 132.493 , 133.0527,\n",
       "        127.3017,  75.1671,  96.3979,  10.1569,  44.8947, 133.5508,\n",
       "         48.7377,  68.1313,  60.3694,  82.4787, 101.0224,  88.6227,\n",
       "        101.7778,  77.3153, 142.0191,  78.0307,  60.52  ,  59.0396,\n",
       "         90.3127, 107.3453,  90.4904, 203.0816, 131.8783,  53.4029,\n",
       "         75.2756,  50.2906, 111.3152,  56.0166,  96.4027,  87.9827,\n",
       "        182.9972, 107.2854,  54.9778]),\n",
       " array([ 37.00843648,  43.19155037, 141.66559365,  41.09634031,\n",
       "         68.01959848, 201.25584404,  60.99810658,  41.3991403 ,\n",
       "        100.01669348,  64.22094163,  81.30163386,  80.75585086,\n",
       "         63.63566389,  80.02170078,  55.46334943, 113.91134831,\n",
       "        145.03747219,  74.93861324, 100.7132173 ,  82.13230788,\n",
       "        191.57072107, 114.35324849,  43.05220426, 190.58652852,\n",
       "        129.68089101,  85.28547327,  56.09507046,  52.59811372,\n",
       "        136.38870249, 154.4980365 , 116.3050399 ,  38.27674737,\n",
       "         68.35313757,  73.71157183, 131.99284651,  54.81872218,\n",
       "         55.47445888,  65.1584282 , 127.9394032 ,  44.70169804,\n",
       "        124.78703707,  89.00908398, 179.4699256 ,  50.38368316,\n",
       "        130.33701001,  71.1814922 ,  44.31209051,  60.96437614,\n",
       "        111.02091058,  86.80398145,  99.45211533, 106.63677173,\n",
       "         78.57575039, 151.77399819,  56.79912097,  79.35231863,\n",
       "        148.59317567,  67.3439381 ,  34.72301087,  52.30018775,\n",
       "        125.14048963, 141.12937172, 139.84131093,  39.44709556,\n",
       "         57.87906578, 156.91396462, 132.64024345,  73.11219183,\n",
       "         86.09614356,  64.38432406, 136.90769725, 382.64265269,\n",
       "         60.70625665,  26.97807652,  61.85191512,  88.96317646,\n",
       "         79.37067989, 127.550502  ,  61.56072239,  56.99679053,\n",
       "         37.65183071, 184.03783622, 171.12394647,  44.77178055,\n",
       "         82.55255672,  78.79205338,  85.21857672,  49.87456541,\n",
       "         89.6404939 ,  78.04165176,  36.84102494, 134.5790575 ,\n",
       "        120.86562882, 106.63273265,  72.43903468, 120.70819254,\n",
       "         70.01197426, 132.3692559 ,  56.64929632, 119.14322493,\n",
       "         54.7257463 ,  67.37701297, 260.45320486,  92.84783584,\n",
       "        114.11074611,  18.34272901,  55.92280262,  84.34268773,\n",
       "        127.49631686,  14.73191616, 111.4680617 , 115.50457786,\n",
       "         61.05657409,  64.22094163,  78.37787587, 128.88698555,\n",
       "        102.93726796,  38.01816215, 278.13901585, 112.23841674,\n",
       "        278.94023215,  78.33730895,  79.01211317,  83.4203286 ,\n",
       "        123.35898304, 230.198472  , 136.71598016,  88.2202351 ,\n",
       "         92.53616825, 128.81611239,  42.37837753, 106.35802467,\n",
       "        137.63128361, 144.96975354, 106.15592889, 196.914625  ,\n",
       "         56.16352069,  83.50115476,  87.99941596,  31.44308927,\n",
       "        122.63988354,  54.99367957,  77.79448027,  59.72313699,\n",
       "         63.77229999,  55.44300695,  44.70594722,  47.31349552,\n",
       "         85.50929897, 144.1144504 ,  89.6404939 ,  28.01091288,\n",
       "         74.69721625,  68.01076044,  81.09180893,  20.04803905,\n",
       "         75.88505702,  74.9172606 , 165.4648833 ,  74.44925085,\n",
       "         50.34219941,  44.41562842, 140.39519956,  50.67322533,\n",
       "         40.17955396,  42.43292783,  83.96622216, 138.5550076 ,\n",
       "         42.38644808,  66.3621672 ,  19.83399553,  45.795471  ,\n",
       "         98.49716421, 125.78050581,  19.31488734, 126.40305408,\n",
       "        185.62368186,  33.27752771,  73.7370345 ,  27.18107848,\n",
       "         77.53217156,  86.58207977, 172.62992636, 152.54158543,\n",
       "         64.70336811,  76.65443612,  87.77059717, 184.34736013,\n",
       "         54.81262095, 110.07532094, 120.93132395,  68.06728166,\n",
       "         42.37837753,  62.84528225,  94.89691764, 136.80919985,\n",
       "         89.82781091,  92.71606329, 111.29792724,  56.85392878,\n",
       "         77.2379005 ,  52.29267539,  86.08706881, 173.17886041,\n",
       "        129.77792299, 266.8933257 , 113.57658365,  76.73037661,\n",
       "         85.9904372 ,  28.50046189,  36.92350965, 126.1708079 ,\n",
       "         69.87687162,  73.88490479,  58.93800048, 132.2105803 ,\n",
       "         75.24463777,  58.18688661, 112.04851829,  31.20883902,\n",
       "         52.70748573, 164.16373351, 116.20693363, 101.77490003,\n",
       "         93.87236628,  71.55974587,  86.41443722, 164.76580858,\n",
       "        177.38076942,  32.71364952, 104.39472178,  78.30661462,\n",
       "         79.28937172,  37.00167664, 168.80645423,  59.53317813,\n",
       "        145.66690586,  60.46224173, 100.51638193, 169.57202447,\n",
       "         37.07517534, 383.52384533,  90.01716177, 159.68416746,\n",
       "         50.76565234, 187.24404111, 104.13053298, 105.80276818,\n",
       "         86.1402288 ,  70.38382048,  95.52221894,  42.58854386,\n",
       "        107.25087759,  92.02876576,  67.77071119, 184.87742435,\n",
       "        108.29060826,  55.11425401,  45.71519696, 100.83051273,\n",
       "        402.74933743,  73.42990527,  43.80036697, 304.68228999,\n",
       "         44.53873538, 118.8900594 , 134.22738634, 122.94257168,\n",
       "         78.46154252,  85.76275921,  56.83634548,  93.27167591,\n",
       "         95.13476358,  54.76913018, 297.65433972, 167.56552372,\n",
       "         44.54987978,  90.86970997, 123.34968669, 138.84716876,\n",
       "        164.40996222, 151.3787048 ,  34.71688291, 118.92807651,\n",
       "         22.16167787,  83.50550015,  65.39665186, 109.03558418,\n",
       "         54.7520355 ,  99.20394375,  73.83726435, 183.44135232,\n",
       "        143.04579186,  72.95877469,  89.13465679,  61.92836733,\n",
       "         51.41090435, 144.20792055,  48.33622069,  82.25751293,\n",
       "         56.06249373,  61.98550384, 143.516427  ,  37.23907945,\n",
       "        126.88984285,  38.81149528,  20.13409462, 194.71539981,\n",
       "         56.93291736, 115.69506219, 112.53764425,  69.7492242 ,\n",
       "        104.58467975,  40.51498987,  57.70495517,  48.4512471 ,\n",
       "        121.63405471,  42.25745245,  20.40959487,  86.51320429,\n",
       "         76.10588754,  68.86270107,  44.91518943,  62.61014318,\n",
       "         34.76750502,  82.51105751, 176.09463886,  73.37925591,\n",
       "        122.04968355, 145.28352836,  58.97480479,  19.24943697,\n",
       "         63.72142572,  70.13504557, 134.0082519 ,  44.9160724 ,\n",
       "         95.83933124,  74.27849038,  39.15508301,  96.85613603,\n",
       "        147.01499673,  34.27379816,  80.1424114 , 104.39476147,\n",
       "         85.73446758,  84.95026122,  55.7275439 ,  87.69128245,\n",
       "        104.16937835, 105.51040787,  80.95304005,  74.49179124,\n",
       "         85.49320702,  62.27019883, 185.2997637 ,  37.16016994,\n",
       "        117.3317564 ,  83.2039531 ,  91.98416728,  74.57135901,\n",
       "         54.01714338,  72.93351591, 102.61530507,  77.74105767,\n",
       "         92.58901754, 101.24460818,  56.76466569,  74.00925856,\n",
       "         40.40730181,  50.59415691,  72.74703261, 122.26573782,\n",
       "         55.21447781,  88.1108357 , 187.30125425,  61.90325214,\n",
       "         58.80199628, 145.2358259 ,  85.83334943, 106.71173183,\n",
       "         39.11641551,  42.37837753, 100.26162584,  95.7838833 ,\n",
       "        104.13528532,  44.06479126, 306.7260276 ,  32.45524632,\n",
       "        131.21480325, 161.07083496,  33.25001897,  55.8921878 ,\n",
       "         34.7441411 ,  66.77975559, 181.36666648, 222.45491326,\n",
       "         34.00204346,  38.29442282, 126.4266277 ,  56.33677194,\n",
       "         46.53768273,  87.82508889,  99.37005701,  41.99477748,\n",
       "         34.75594649,  47.22163519, 187.24846292,  47.04400802,\n",
       "        187.92648056,  68.95051218,  28.05532342, 145.08571837,\n",
       "         98.61986284,  42.37837753,  62.36552946,  27.82669891,\n",
       "        114.58395836, 100.25188141, 180.10152212, 421.56626894,\n",
       "        117.77735996, 141.20625835,  92.79992351,  86.70649553,\n",
       "         69.91736005,  86.48354017, 136.49560841,  13.73649454,\n",
       "        145.66305983,  89.1017061 ,  75.00934848, 192.01397223,\n",
       "         44.76323646,  57.37843745,  63.48671313, 123.97220003,\n",
       "         49.06222492,  63.3038649 ,  64.81519675,  94.34904186,\n",
       "        103.29379895,  78.40321257,  81.95966039,  98.55179747,\n",
       "        156.59853779, 121.24366475,  89.07887062,  95.61805629,\n",
       "         84.34268773,  58.33495935, 102.1344472 ,  83.21665095,\n",
       "         44.53536238, 132.49956746,  46.16403997,  44.29680007,\n",
       "         44.54987978, 151.32706113, 176.4477258 , 200.2424923 ,\n",
       "        149.53176814,  97.06093379,  18.59324367, 123.00958547,\n",
       "         53.35265928, 118.8061133 , 119.8962002 ,  75.02789857,\n",
       "         50.97386615,  59.70287922, 164.94441518, 104.44604466,\n",
       "         40.03628017,  58.16535208,  42.83378313, 138.32200091,\n",
       "        132.81440898,  73.73556783,  55.37651079, 147.98922586,\n",
       "         42.64297981,  74.29841543, 129.96203309,  57.83421412,\n",
       "         46.63728089,  83.21631211, 115.52968007,  74.05316655,\n",
       "         95.08272564, 108.0111388 ,  85.66757584,  15.95514715,\n",
       "        119.8603247 ,  43.70195795, 148.25905235,  43.88783442,\n",
       "         96.6562872 , 143.64543133,  40.72651436, 238.65200197,\n",
       "         50.74833977,  50.56385332, 118.3044394 ,  84.29240049,\n",
       "         96.2688025 ,  55.8921878 , 138.77046786,  69.03494668,\n",
       "        168.22177108,  70.67274852,  99.52250508, 149.05580479,\n",
       "        177.95609423,  53.97208153,  92.546012  , 113.80117051,\n",
       "        111.56339871, 138.6914525 , 142.13082329, 147.3185066 ,\n",
       "         64.22094163,  71.37912187,  79.12894297, 100.83877424,\n",
       "         70.97877137,  99.88244072,  76.43143552,  14.43258076,\n",
       "         84.65811472,  42.37500788, 167.67059183, 102.01130216,\n",
       "         77.19876441,  25.29340452,  43.562572  ,  58.22016954,\n",
       "        112.16653144,  48.98765413,  93.0495487 , 100.7597133 ,\n",
       "        106.26455041,  98.50137635,  50.71114128,  57.54922285,\n",
       "         42.38644808,  42.38644808, 100.81062846, 173.85102755,\n",
       "        170.09833907,  56.2492672 ,  98.1126231 , 155.8993774 ,\n",
       "        102.15548866, 111.88207772,  41.13181755, 131.34358246,\n",
       "        116.79081801,  90.68045578,  75.25332447, 121.49652946,\n",
       "        159.00007833, 109.01359238,  85.10928489,  77.19876441,\n",
       "         94.29237633, 156.37177873, 177.91437309,  50.67322533,\n",
       "         58.36371317,  69.28614317,  62.71184958,  85.88476205,\n",
       "        155.62539988,  82.17435763,  53.25507942,  33.60535578,\n",
       "         57.63839616, 111.16611507,  71.54219956,  61.34472973,\n",
       "         94.9308378 ,  38.86946907, 197.31198785, 182.92271841,\n",
       "         73.71157183,  55.49050462, 183.05120451, 138.40819547,\n",
       "         90.35902203, 157.78860186,  80.456898  ,  65.53113577,\n",
       "         81.92338946, 143.85264875,  89.68207795, 121.63875494,\n",
       "         82.12974599,  28.45481413, 122.27610122,  75.23116031,\n",
       "         82.88452628,  65.23643322, 120.7046439 ,  86.56544749,\n",
       "         89.76261224, 115.26783361,  88.05471504,  59.56777316,\n",
       "         90.7848328 ,  52.26836148, 147.03237048, 144.52647025,\n",
       "        102.49621518,  26.25927095,  19.8960499 , 107.9348399 ,\n",
       "        172.72558093, 161.6451806 ,  98.03548102,  83.73042395,\n",
       "         80.15400271,  58.29625862, 103.26658751,  20.84167173,\n",
       "         79.1053595 , 148.56107457,  91.31884902, 127.17613392,\n",
       "        120.68946867,  46.09207568,  61.99667598, 107.37381954,\n",
       "        147.21593259, 159.91284791,  57.12970904, 140.59549146,\n",
       "        124.96681112,  88.88393396,  59.00706365, 159.63516438,\n",
       "        192.12690942,  49.4529884 , 160.49513384,  23.52982879,\n",
       "         65.14360701,  65.84945943,  86.52938892, 177.45749468,\n",
       "         64.55928298,  73.08303353,  79.25951245,  39.31176442,\n",
       "        144.52647025, 123.61163927, 124.07534348,  78.30232667,\n",
       "         89.18126613,  15.28667873,  49.13810064, 144.63220177,\n",
       "         45.21160224,  65.53370044,  58.37607518,  85.32819812,\n",
       "         97.05626402,  90.88508691, 102.14148592,  90.96607033,\n",
       "        139.29492671,  72.01316715,  59.36048763,  60.3294236 ,\n",
       "         95.26567733, 108.7095482 ,  84.82159622, 184.94422271,\n",
       "        121.47431455,  52.8437862 ,  79.86671613,  51.87018825,\n",
       "        120.88022672,  59.11074787,  93.36656615,  84.57195692,\n",
       "        184.45234244, 116.9651442 ,  48.81831188]))"
      ]
     },
     "execution_count": 104,
     "metadata": {},
     "output_type": "execute_result"
    }
   ],
   "source": [
    "ypred1,ypred2,ypred3,ypred4"
   ]
  },
  {
   "cell_type": "raw",
   "id": "5e784a96-4881-4cab-8674-08bd595cccfe",
   "metadata": {},
   "source": [
    "Evaluating"
   ]
  },
  {
   "cell_type": "code",
   "execution_count": 105,
   "id": "3b61e730-613b-4811-aa29-def786e329a9",
   "metadata": {},
   "outputs": [],
   "source": [
    "from sklearn.metrics import accuracy_score\n",
    "from sklearn import metrics"
   ]
  },
  {
   "cell_type": "code",
   "execution_count": 106,
   "id": "0179ff8c-4ef0-417b-8afc-69cab71334ec",
   "metadata": {},
   "outputs": [],
   "source": [
    "ev1 = metrics.r2_score(y_test,ypred1)\n",
    "ev2 = metrics.r2_score(y_test,ypred2)\n",
    "ev3 = metrics.r2_score(y_test,ypred3)\n",
    "ev4 = metrics.r2_score(y_test,ypred4)"
   ]
  },
  {
   "cell_type": "code",
   "execution_count": 107,
   "id": "f80f488f-3391-46e7-9945-5346dec42836",
   "metadata": {},
   "outputs": [
    {
     "data": {
      "text/plain": [
       "(0.8133912711207024,\n",
       " 0.35779872341826546,\n",
       " 0.7238887698532499,\n",
       " 0.7280226315475641)"
      ]
     },
     "execution_count": 107,
     "metadata": {},
     "output_type": "execute_result"
    }
   ],
   "source": [
    "ev1 , ev2 , ev3 , ev4"
   ]
  },
  {
   "cell_type": "code",
   "execution_count": 108,
   "id": "ccb19c1b-5364-427c-ae78-94b89a8b48ce",
   "metadata": {},
   "outputs": [],
   "source": [
    "evaluation = pd.DataFrame({\n",
    "    'Alogirthms':['LinearRegression','SVR','RandomForestRegressor','GradientBoostingRegressor'],\n",
    "    'Predicted Result':[ev1 , ev2 , ev3 , ev4]\n",
    "})"
   ]
  },
  {
   "cell_type": "code",
   "execution_count": 109,
   "id": "5e2d179b-183c-4084-aef3-3b28141fb46f",
   "metadata": {},
   "outputs": [
    {
     "data": {
      "text/html": [
       "<div>\n",
       "<style scoped>\n",
       "    .dataframe tbody tr th:only-of-type {\n",
       "        vertical-align: middle;\n",
       "    }\n",
       "\n",
       "    .dataframe tbody tr th {\n",
       "        vertical-align: top;\n",
       "    }\n",
       "\n",
       "    .dataframe thead th {\n",
       "        text-align: right;\n",
       "    }\n",
       "</style>\n",
       "<table border=\"1\" class=\"dataframe\">\n",
       "  <thead>\n",
       "    <tr style=\"text-align: right;\">\n",
       "      <th></th>\n",
       "      <th>Alogirthms</th>\n",
       "      <th>Predicted Result</th>\n",
       "    </tr>\n",
       "  </thead>\n",
       "  <tbody>\n",
       "    <tr>\n",
       "      <th>0</th>\n",
       "      <td>LinearRegression</td>\n",
       "      <td>0.813391</td>\n",
       "    </tr>\n",
       "    <tr>\n",
       "      <th>1</th>\n",
       "      <td>SVR</td>\n",
       "      <td>0.357799</td>\n",
       "    </tr>\n",
       "    <tr>\n",
       "      <th>2</th>\n",
       "      <td>RandomForestRegressor</td>\n",
       "      <td>0.723889</td>\n",
       "    </tr>\n",
       "    <tr>\n",
       "      <th>3</th>\n",
       "      <td>GradientBoostingRegressor</td>\n",
       "      <td>0.728023</td>\n",
       "    </tr>\n",
       "  </tbody>\n",
       "</table>\n",
       "</div>"
      ],
      "text/plain": [
       "                  Alogirthms  Predicted Result\n",
       "0           LinearRegression          0.813391\n",
       "1                        SVR          0.357799\n",
       "2      RandomForestRegressor          0.723889\n",
       "3  GradientBoostingRegressor          0.728023"
      ]
     },
     "execution_count": 109,
     "metadata": {},
     "output_type": "execute_result"
    }
   ],
   "source": [
    "evaluation"
   ]
  },
  {
   "cell_type": "code",
   "execution_count": 110,
   "id": "30f1de68-76f5-4ea8-ae14-ec33a2700cf7",
   "metadata": {},
   "outputs": [
    {
     "data": {
      "application/vnd.plotly.v1+json": {
       "config": {
        "plotlyServerURL": "https://plot.ly"
       },
       "data": [
        {
         "alignmentgroup": "True",
         "hovertemplate": "Alogirthms=%{y}<br>Predicted Result=%{x}<extra></extra>",
         "legendgroup": "LinearRegression",
         "marker": {
          "color": "#636efa",
          "pattern": {
           "shape": ""
          }
         },
         "name": "LinearRegression",
         "offsetgroup": "LinearRegression",
         "orientation": "h",
         "showlegend": true,
         "textposition": "auto",
         "texttemplate": "%{x:,.0%}",
         "type": "bar",
         "x": [
          0.8133912711207024
         ],
         "xaxis": "x",
         "y": [
          "LinearRegression"
         ],
         "yaxis": "y"
        },
        {
         "alignmentgroup": "True",
         "hovertemplate": "Alogirthms=%{y}<br>Predicted Result=%{x}<extra></extra>",
         "legendgroup": "SVR",
         "marker": {
          "color": "#EF553B",
          "pattern": {
           "shape": ""
          }
         },
         "name": "SVR",
         "offsetgroup": "SVR",
         "orientation": "h",
         "showlegend": true,
         "textposition": "auto",
         "texttemplate": "%{x:,.0%}",
         "type": "bar",
         "x": [
          0.35779872341826546
         ],
         "xaxis": "x",
         "y": [
          "SVR"
         ],
         "yaxis": "y"
        },
        {
         "alignmentgroup": "True",
         "hovertemplate": "Alogirthms=%{y}<br>Predicted Result=%{x}<extra></extra>",
         "legendgroup": "RandomForestRegressor",
         "marker": {
          "color": "#00cc96",
          "pattern": {
           "shape": ""
          }
         },
         "name": "RandomForestRegressor",
         "offsetgroup": "RandomForestRegressor",
         "orientation": "h",
         "showlegend": true,
         "textposition": "auto",
         "texttemplate": "%{x:,.0%}",
         "type": "bar",
         "x": [
          0.7238887698532499
         ],
         "xaxis": "x",
         "y": [
          "RandomForestRegressor"
         ],
         "yaxis": "y"
        },
        {
         "alignmentgroup": "True",
         "hovertemplate": "Alogirthms=%{y}<br>Predicted Result=%{x}<extra></extra>",
         "legendgroup": "GradientBoostingRegressor",
         "marker": {
          "color": "#ab63fa",
          "pattern": {
           "shape": ""
          }
         },
         "name": "GradientBoostingRegressor",
         "offsetgroup": "GradientBoostingRegressor",
         "orientation": "h",
         "showlegend": true,
         "textposition": "auto",
         "texttemplate": "%{x:,.0%}",
         "type": "bar",
         "x": [
          0.7280226315475641
         ],
         "xaxis": "x",
         "y": [
          "GradientBoostingRegressor"
         ],
         "yaxis": "y"
        }
       ],
       "layout": {
        "autosize": true,
        "barmode": "relative",
        "legend": {
         "title": {
          "text": "Alogirthms"
         },
         "tracegroupgap": 0
        },
        "margin": {
         "t": 60
        },
        "template": {
         "data": {
          "bar": [
           {
            "error_x": {
             "color": "#2a3f5f"
            },
            "error_y": {
             "color": "#2a3f5f"
            },
            "marker": {
             "line": {
              "color": "#E5ECF6",
              "width": 0.5
             },
             "pattern": {
              "fillmode": "overlay",
              "size": 10,
              "solidity": 0.2
             }
            },
            "type": "bar"
           }
          ],
          "barpolar": [
           {
            "marker": {
             "line": {
              "color": "#E5ECF6",
              "width": 0.5
             },
             "pattern": {
              "fillmode": "overlay",
              "size": 10,
              "solidity": 0.2
             }
            },
            "type": "barpolar"
           }
          ],
          "carpet": [
           {
            "aaxis": {
             "endlinecolor": "#2a3f5f",
             "gridcolor": "white",
             "linecolor": "white",
             "minorgridcolor": "white",
             "startlinecolor": "#2a3f5f"
            },
            "baxis": {
             "endlinecolor": "#2a3f5f",
             "gridcolor": "white",
             "linecolor": "white",
             "minorgridcolor": "white",
             "startlinecolor": "#2a3f5f"
            },
            "type": "carpet"
           }
          ],
          "choropleth": [
           {
            "colorbar": {
             "outlinewidth": 0,
             "ticks": ""
            },
            "type": "choropleth"
           }
          ],
          "contour": [
           {
            "colorbar": {
             "outlinewidth": 0,
             "ticks": ""
            },
            "colorscale": [
             [
              0,
              "#0d0887"
             ],
             [
              0.1111111111111111,
              "#46039f"
             ],
             [
              0.2222222222222222,
              "#7201a8"
             ],
             [
              0.3333333333333333,
              "#9c179e"
             ],
             [
              0.4444444444444444,
              "#bd3786"
             ],
             [
              0.5555555555555556,
              "#d8576b"
             ],
             [
              0.6666666666666666,
              "#ed7953"
             ],
             [
              0.7777777777777778,
              "#fb9f3a"
             ],
             [
              0.8888888888888888,
              "#fdca26"
             ],
             [
              1,
              "#f0f921"
             ]
            ],
            "type": "contour"
           }
          ],
          "contourcarpet": [
           {
            "colorbar": {
             "outlinewidth": 0,
             "ticks": ""
            },
            "type": "contourcarpet"
           }
          ],
          "heatmap": [
           {
            "colorbar": {
             "outlinewidth": 0,
             "ticks": ""
            },
            "colorscale": [
             [
              0,
              "#0d0887"
             ],
             [
              0.1111111111111111,
              "#46039f"
             ],
             [
              0.2222222222222222,
              "#7201a8"
             ],
             [
              0.3333333333333333,
              "#9c179e"
             ],
             [
              0.4444444444444444,
              "#bd3786"
             ],
             [
              0.5555555555555556,
              "#d8576b"
             ],
             [
              0.6666666666666666,
              "#ed7953"
             ],
             [
              0.7777777777777778,
              "#fb9f3a"
             ],
             [
              0.8888888888888888,
              "#fdca26"
             ],
             [
              1,
              "#f0f921"
             ]
            ],
            "type": "heatmap"
           }
          ],
          "heatmapgl": [
           {
            "colorbar": {
             "outlinewidth": 0,
             "ticks": ""
            },
            "colorscale": [
             [
              0,
              "#0d0887"
             ],
             [
              0.1111111111111111,
              "#46039f"
             ],
             [
              0.2222222222222222,
              "#7201a8"
             ],
             [
              0.3333333333333333,
              "#9c179e"
             ],
             [
              0.4444444444444444,
              "#bd3786"
             ],
             [
              0.5555555555555556,
              "#d8576b"
             ],
             [
              0.6666666666666666,
              "#ed7953"
             ],
             [
              0.7777777777777778,
              "#fb9f3a"
             ],
             [
              0.8888888888888888,
              "#fdca26"
             ],
             [
              1,
              "#f0f921"
             ]
            ],
            "type": "heatmapgl"
           }
          ],
          "histogram": [
           {
            "marker": {
             "pattern": {
              "fillmode": "overlay",
              "size": 10,
              "solidity": 0.2
             }
            },
            "type": "histogram"
           }
          ],
          "histogram2d": [
           {
            "colorbar": {
             "outlinewidth": 0,
             "ticks": ""
            },
            "colorscale": [
             [
              0,
              "#0d0887"
             ],
             [
              0.1111111111111111,
              "#46039f"
             ],
             [
              0.2222222222222222,
              "#7201a8"
             ],
             [
              0.3333333333333333,
              "#9c179e"
             ],
             [
              0.4444444444444444,
              "#bd3786"
             ],
             [
              0.5555555555555556,
              "#d8576b"
             ],
             [
              0.6666666666666666,
              "#ed7953"
             ],
             [
              0.7777777777777778,
              "#fb9f3a"
             ],
             [
              0.8888888888888888,
              "#fdca26"
             ],
             [
              1,
              "#f0f921"
             ]
            ],
            "type": "histogram2d"
           }
          ],
          "histogram2dcontour": [
           {
            "colorbar": {
             "outlinewidth": 0,
             "ticks": ""
            },
            "colorscale": [
             [
              0,
              "#0d0887"
             ],
             [
              0.1111111111111111,
              "#46039f"
             ],
             [
              0.2222222222222222,
              "#7201a8"
             ],
             [
              0.3333333333333333,
              "#9c179e"
             ],
             [
              0.4444444444444444,
              "#bd3786"
             ],
             [
              0.5555555555555556,
              "#d8576b"
             ],
             [
              0.6666666666666666,
              "#ed7953"
             ],
             [
              0.7777777777777778,
              "#fb9f3a"
             ],
             [
              0.8888888888888888,
              "#fdca26"
             ],
             [
              1,
              "#f0f921"
             ]
            ],
            "type": "histogram2dcontour"
           }
          ],
          "mesh3d": [
           {
            "colorbar": {
             "outlinewidth": 0,
             "ticks": ""
            },
            "type": "mesh3d"
           }
          ],
          "parcoords": [
           {
            "line": {
             "colorbar": {
              "outlinewidth": 0,
              "ticks": ""
             }
            },
            "type": "parcoords"
           }
          ],
          "pie": [
           {
            "automargin": true,
            "type": "pie"
           }
          ],
          "scatter": [
           {
            "fillpattern": {
             "fillmode": "overlay",
             "size": 10,
             "solidity": 0.2
            },
            "type": "scatter"
           }
          ],
          "scatter3d": [
           {
            "line": {
             "colorbar": {
              "outlinewidth": 0,
              "ticks": ""
             }
            },
            "marker": {
             "colorbar": {
              "outlinewidth": 0,
              "ticks": ""
             }
            },
            "type": "scatter3d"
           }
          ],
          "scattercarpet": [
           {
            "marker": {
             "colorbar": {
              "outlinewidth": 0,
              "ticks": ""
             }
            },
            "type": "scattercarpet"
           }
          ],
          "scattergeo": [
           {
            "marker": {
             "colorbar": {
              "outlinewidth": 0,
              "ticks": ""
             }
            },
            "type": "scattergeo"
           }
          ],
          "scattergl": [
           {
            "marker": {
             "colorbar": {
              "outlinewidth": 0,
              "ticks": ""
             }
            },
            "type": "scattergl"
           }
          ],
          "scattermapbox": [
           {
            "marker": {
             "colorbar": {
              "outlinewidth": 0,
              "ticks": ""
             }
            },
            "type": "scattermapbox"
           }
          ],
          "scatterpolar": [
           {
            "marker": {
             "colorbar": {
              "outlinewidth": 0,
              "ticks": ""
             }
            },
            "type": "scatterpolar"
           }
          ],
          "scatterpolargl": [
           {
            "marker": {
             "colorbar": {
              "outlinewidth": 0,
              "ticks": ""
             }
            },
            "type": "scatterpolargl"
           }
          ],
          "scatterternary": [
           {
            "marker": {
             "colorbar": {
              "outlinewidth": 0,
              "ticks": ""
             }
            },
            "type": "scatterternary"
           }
          ],
          "surface": [
           {
            "colorbar": {
             "outlinewidth": 0,
             "ticks": ""
            },
            "colorscale": [
             [
              0,
              "#0d0887"
             ],
             [
              0.1111111111111111,
              "#46039f"
             ],
             [
              0.2222222222222222,
              "#7201a8"
             ],
             [
              0.3333333333333333,
              "#9c179e"
             ],
             [
              0.4444444444444444,
              "#bd3786"
             ],
             [
              0.5555555555555556,
              "#d8576b"
             ],
             [
              0.6666666666666666,
              "#ed7953"
             ],
             [
              0.7777777777777778,
              "#fb9f3a"
             ],
             [
              0.8888888888888888,
              "#fdca26"
             ],
             [
              1,
              "#f0f921"
             ]
            ],
            "type": "surface"
           }
          ],
          "table": [
           {
            "cells": {
             "fill": {
              "color": "#EBF0F8"
             },
             "line": {
              "color": "white"
             }
            },
            "header": {
             "fill": {
              "color": "#C8D4E3"
             },
             "line": {
              "color": "white"
             }
            },
            "type": "table"
           }
          ]
         },
         "layout": {
          "annotationdefaults": {
           "arrowcolor": "#2a3f5f",
           "arrowhead": 0,
           "arrowwidth": 1
          },
          "autotypenumbers": "strict",
          "coloraxis": {
           "colorbar": {
            "outlinewidth": 0,
            "ticks": ""
           }
          },
          "colorscale": {
           "diverging": [
            [
             0,
             "#8e0152"
            ],
            [
             0.1,
             "#c51b7d"
            ],
            [
             0.2,
             "#de77ae"
            ],
            [
             0.3,
             "#f1b6da"
            ],
            [
             0.4,
             "#fde0ef"
            ],
            [
             0.5,
             "#f7f7f7"
            ],
            [
             0.6,
             "#e6f5d0"
            ],
            [
             0.7,
             "#b8e186"
            ],
            [
             0.8,
             "#7fbc41"
            ],
            [
             0.9,
             "#4d9221"
            ],
            [
             1,
             "#276419"
            ]
           ],
           "sequential": [
            [
             0,
             "#0d0887"
            ],
            [
             0.1111111111111111,
             "#46039f"
            ],
            [
             0.2222222222222222,
             "#7201a8"
            ],
            [
             0.3333333333333333,
             "#9c179e"
            ],
            [
             0.4444444444444444,
             "#bd3786"
            ],
            [
             0.5555555555555556,
             "#d8576b"
            ],
            [
             0.6666666666666666,
             "#ed7953"
            ],
            [
             0.7777777777777778,
             "#fb9f3a"
            ],
            [
             0.8888888888888888,
             "#fdca26"
            ],
            [
             1,
             "#f0f921"
            ]
           ],
           "sequentialminus": [
            [
             0,
             "#0d0887"
            ],
            [
             0.1111111111111111,
             "#46039f"
            ],
            [
             0.2222222222222222,
             "#7201a8"
            ],
            [
             0.3333333333333333,
             "#9c179e"
            ],
            [
             0.4444444444444444,
             "#bd3786"
            ],
            [
             0.5555555555555556,
             "#d8576b"
            ],
            [
             0.6666666666666666,
             "#ed7953"
            ],
            [
             0.7777777777777778,
             "#fb9f3a"
            ],
            [
             0.8888888888888888,
             "#fdca26"
            ],
            [
             1,
             "#f0f921"
            ]
           ]
          },
          "colorway": [
           "#636efa",
           "#EF553B",
           "#00cc96",
           "#ab63fa",
           "#FFA15A",
           "#19d3f3",
           "#FF6692",
           "#B6E880",
           "#FF97FF",
           "#FECB52"
          ],
          "font": {
           "color": "#2a3f5f"
          },
          "geo": {
           "bgcolor": "white",
           "lakecolor": "white",
           "landcolor": "#E5ECF6",
           "showlakes": true,
           "showland": true,
           "subunitcolor": "white"
          },
          "hoverlabel": {
           "align": "left"
          },
          "hovermode": "closest",
          "mapbox": {
           "style": "light"
          },
          "paper_bgcolor": "white",
          "plot_bgcolor": "#E5ECF6",
          "polar": {
           "angularaxis": {
            "gridcolor": "white",
            "linecolor": "white",
            "ticks": ""
           },
           "bgcolor": "#E5ECF6",
           "radialaxis": {
            "gridcolor": "white",
            "linecolor": "white",
            "ticks": ""
           }
          },
          "scene": {
           "xaxis": {
            "backgroundcolor": "#E5ECF6",
            "gridcolor": "white",
            "gridwidth": 2,
            "linecolor": "white",
            "showbackground": true,
            "ticks": "",
            "zerolinecolor": "white"
           },
           "yaxis": {
            "backgroundcolor": "#E5ECF6",
            "gridcolor": "white",
            "gridwidth": 2,
            "linecolor": "white",
            "showbackground": true,
            "ticks": "",
            "zerolinecolor": "white"
           },
           "zaxis": {
            "backgroundcolor": "#E5ECF6",
            "gridcolor": "white",
            "gridwidth": 2,
            "linecolor": "white",
            "showbackground": true,
            "ticks": "",
            "zerolinecolor": "white"
           }
          },
          "shapedefaults": {
           "line": {
            "color": "#2a3f5f"
           }
          },
          "ternary": {
           "aaxis": {
            "gridcolor": "white",
            "linecolor": "white",
            "ticks": ""
           },
           "baxis": {
            "gridcolor": "white",
            "linecolor": "white",
            "ticks": ""
           },
           "bgcolor": "#E5ECF6",
           "caxis": {
            "gridcolor": "white",
            "linecolor": "white",
            "ticks": ""
           }
          },
          "title": {
           "x": 0.05
          },
          "xaxis": {
           "automargin": true,
           "gridcolor": "white",
           "linecolor": "white",
           "ticks": "",
           "title": {
            "standoff": 15
           },
           "zerolinecolor": "white",
           "zerolinewidth": 2
          },
          "yaxis": {
           "automargin": true,
           "gridcolor": "white",
           "linecolor": "white",
           "ticks": "",
           "title": {
            "standoff": 15
           },
           "zerolinecolor": "white",
           "zerolinewidth": 2
          }
         }
        },
        "xaxis": {
         "anchor": "y",
         "autorange": true,
         "domain": [
          0,
          1
         ],
         "range": [
          0,
          0.856201338021792
         ],
         "title": {
          "text": "Predicted Result"
         },
         "type": "linear"
        },
        "yaxis": {
         "anchor": "x",
         "autorange": true,
         "categoryarray": [
          "GradientBoostingRegressor",
          "RandomForestRegressor",
          "SVR",
          "LinearRegression"
         ],
         "categoryorder": "array",
         "domain": [
          0,
          1
         ],
         "range": [
          -0.5,
          3.5
         ],
         "title": {
          "text": "Alogirthms"
         },
         "type": "category"
        }
       }
      },
      "text/html": [
       "<div>                            <div id=\"b123b321-b2cb-4e88-8e81-22e7f54b8860\" class=\"plotly-graph-div\" style=\"height:525px; width:100%;\"></div>            <script type=\"text/javascript\">                require([\"plotly\"], function(Plotly) {                    window.PLOTLYENV=window.PLOTLYENV || {};                                    if (document.getElementById(\"b123b321-b2cb-4e88-8e81-22e7f54b8860\")) {                    Plotly.newPlot(                        \"b123b321-b2cb-4e88-8e81-22e7f54b8860\",                        [{\"alignmentgroup\":\"True\",\"hovertemplate\":\"Alogirthms=%{y}\\u003cbr\\u003ePredicted Result=%{x}\\u003cextra\\u003e\\u003c\\u002fextra\\u003e\",\"legendgroup\":\"LinearRegression\",\"marker\":{\"color\":\"#636efa\",\"pattern\":{\"shape\":\"\"}},\"name\":\"LinearRegression\",\"offsetgroup\":\"LinearRegression\",\"orientation\":\"h\",\"showlegend\":true,\"textposition\":\"auto\",\"texttemplate\":\"%{x:,.0%}\",\"x\":[0.8133912711207024],\"xaxis\":\"x\",\"y\":[\"LinearRegression\"],\"yaxis\":\"y\",\"type\":\"bar\"},{\"alignmentgroup\":\"True\",\"hovertemplate\":\"Alogirthms=%{y}\\u003cbr\\u003ePredicted Result=%{x}\\u003cextra\\u003e\\u003c\\u002fextra\\u003e\",\"legendgroup\":\"SVR\",\"marker\":{\"color\":\"#EF553B\",\"pattern\":{\"shape\":\"\"}},\"name\":\"SVR\",\"offsetgroup\":\"SVR\",\"orientation\":\"h\",\"showlegend\":true,\"textposition\":\"auto\",\"texttemplate\":\"%{x:,.0%}\",\"x\":[0.35779872341826546],\"xaxis\":\"x\",\"y\":[\"SVR\"],\"yaxis\":\"y\",\"type\":\"bar\"},{\"alignmentgroup\":\"True\",\"hovertemplate\":\"Alogirthms=%{y}\\u003cbr\\u003ePredicted Result=%{x}\\u003cextra\\u003e\\u003c\\u002fextra\\u003e\",\"legendgroup\":\"RandomForestRegressor\",\"marker\":{\"color\":\"#00cc96\",\"pattern\":{\"shape\":\"\"}},\"name\":\"RandomForestRegressor\",\"offsetgroup\":\"RandomForestRegressor\",\"orientation\":\"h\",\"showlegend\":true,\"textposition\":\"auto\",\"texttemplate\":\"%{x:,.0%}\",\"x\":[0.7238887698532499],\"xaxis\":\"x\",\"y\":[\"RandomForestRegressor\"],\"yaxis\":\"y\",\"type\":\"bar\"},{\"alignmentgroup\":\"True\",\"hovertemplate\":\"Alogirthms=%{y}\\u003cbr\\u003ePredicted Result=%{x}\\u003cextra\\u003e\\u003c\\u002fextra\\u003e\",\"legendgroup\":\"GradientBoostingRegressor\",\"marker\":{\"color\":\"#ab63fa\",\"pattern\":{\"shape\":\"\"}},\"name\":\"GradientBoostingRegressor\",\"offsetgroup\":\"GradientBoostingRegressor\",\"orientation\":\"h\",\"showlegend\":true,\"textposition\":\"auto\",\"texttemplate\":\"%{x:,.0%}\",\"x\":[0.7280226315475641],\"xaxis\":\"x\",\"y\":[\"GradientBoostingRegressor\"],\"yaxis\":\"y\",\"type\":\"bar\"}],                        {\"template\":{\"data\":{\"histogram2dcontour\":[{\"type\":\"histogram2dcontour\",\"colorbar\":{\"outlinewidth\":0,\"ticks\":\"\"},\"colorscale\":[[0.0,\"#0d0887\"],[0.1111111111111111,\"#46039f\"],[0.2222222222222222,\"#7201a8\"],[0.3333333333333333,\"#9c179e\"],[0.4444444444444444,\"#bd3786\"],[0.5555555555555556,\"#d8576b\"],[0.6666666666666666,\"#ed7953\"],[0.7777777777777778,\"#fb9f3a\"],[0.8888888888888888,\"#fdca26\"],[1.0,\"#f0f921\"]]}],\"choropleth\":[{\"type\":\"choropleth\",\"colorbar\":{\"outlinewidth\":0,\"ticks\":\"\"}}],\"histogram2d\":[{\"type\":\"histogram2d\",\"colorbar\":{\"outlinewidth\":0,\"ticks\":\"\"},\"colorscale\":[[0.0,\"#0d0887\"],[0.1111111111111111,\"#46039f\"],[0.2222222222222222,\"#7201a8\"],[0.3333333333333333,\"#9c179e\"],[0.4444444444444444,\"#bd3786\"],[0.5555555555555556,\"#d8576b\"],[0.6666666666666666,\"#ed7953\"],[0.7777777777777778,\"#fb9f3a\"],[0.8888888888888888,\"#fdca26\"],[1.0,\"#f0f921\"]]}],\"heatmap\":[{\"type\":\"heatmap\",\"colorbar\":{\"outlinewidth\":0,\"ticks\":\"\"},\"colorscale\":[[0.0,\"#0d0887\"],[0.1111111111111111,\"#46039f\"],[0.2222222222222222,\"#7201a8\"],[0.3333333333333333,\"#9c179e\"],[0.4444444444444444,\"#bd3786\"],[0.5555555555555556,\"#d8576b\"],[0.6666666666666666,\"#ed7953\"],[0.7777777777777778,\"#fb9f3a\"],[0.8888888888888888,\"#fdca26\"],[1.0,\"#f0f921\"]]}],\"heatmapgl\":[{\"type\":\"heatmapgl\",\"colorbar\":{\"outlinewidth\":0,\"ticks\":\"\"},\"colorscale\":[[0.0,\"#0d0887\"],[0.1111111111111111,\"#46039f\"],[0.2222222222222222,\"#7201a8\"],[0.3333333333333333,\"#9c179e\"],[0.4444444444444444,\"#bd3786\"],[0.5555555555555556,\"#d8576b\"],[0.6666666666666666,\"#ed7953\"],[0.7777777777777778,\"#fb9f3a\"],[0.8888888888888888,\"#fdca26\"],[1.0,\"#f0f921\"]]}],\"contourcarpet\":[{\"type\":\"contourcarpet\",\"colorbar\":{\"outlinewidth\":0,\"ticks\":\"\"}}],\"contour\":[{\"type\":\"contour\",\"colorbar\":{\"outlinewidth\":0,\"ticks\":\"\"},\"colorscale\":[[0.0,\"#0d0887\"],[0.1111111111111111,\"#46039f\"],[0.2222222222222222,\"#7201a8\"],[0.3333333333333333,\"#9c179e\"],[0.4444444444444444,\"#bd3786\"],[0.5555555555555556,\"#d8576b\"],[0.6666666666666666,\"#ed7953\"],[0.7777777777777778,\"#fb9f3a\"],[0.8888888888888888,\"#fdca26\"],[1.0,\"#f0f921\"]]}],\"surface\":[{\"type\":\"surface\",\"colorbar\":{\"outlinewidth\":0,\"ticks\":\"\"},\"colorscale\":[[0.0,\"#0d0887\"],[0.1111111111111111,\"#46039f\"],[0.2222222222222222,\"#7201a8\"],[0.3333333333333333,\"#9c179e\"],[0.4444444444444444,\"#bd3786\"],[0.5555555555555556,\"#d8576b\"],[0.6666666666666666,\"#ed7953\"],[0.7777777777777778,\"#fb9f3a\"],[0.8888888888888888,\"#fdca26\"],[1.0,\"#f0f921\"]]}],\"mesh3d\":[{\"type\":\"mesh3d\",\"colorbar\":{\"outlinewidth\":0,\"ticks\":\"\"}}],\"scatter\":[{\"fillpattern\":{\"fillmode\":\"overlay\",\"size\":10,\"solidity\":0.2},\"type\":\"scatter\"}],\"parcoords\":[{\"type\":\"parcoords\",\"line\":{\"colorbar\":{\"outlinewidth\":0,\"ticks\":\"\"}}}],\"scatterpolargl\":[{\"type\":\"scatterpolargl\",\"marker\":{\"colorbar\":{\"outlinewidth\":0,\"ticks\":\"\"}}}],\"bar\":[{\"error_x\":{\"color\":\"#2a3f5f\"},\"error_y\":{\"color\":\"#2a3f5f\"},\"marker\":{\"line\":{\"color\":\"#E5ECF6\",\"width\":0.5},\"pattern\":{\"fillmode\":\"overlay\",\"size\":10,\"solidity\":0.2}},\"type\":\"bar\"}],\"scattergeo\":[{\"type\":\"scattergeo\",\"marker\":{\"colorbar\":{\"outlinewidth\":0,\"ticks\":\"\"}}}],\"scatterpolar\":[{\"type\":\"scatterpolar\",\"marker\":{\"colorbar\":{\"outlinewidth\":0,\"ticks\":\"\"}}}],\"histogram\":[{\"marker\":{\"pattern\":{\"fillmode\":\"overlay\",\"size\":10,\"solidity\":0.2}},\"type\":\"histogram\"}],\"scattergl\":[{\"type\":\"scattergl\",\"marker\":{\"colorbar\":{\"outlinewidth\":0,\"ticks\":\"\"}}}],\"scatter3d\":[{\"type\":\"scatter3d\",\"line\":{\"colorbar\":{\"outlinewidth\":0,\"ticks\":\"\"}},\"marker\":{\"colorbar\":{\"outlinewidth\":0,\"ticks\":\"\"}}}],\"scattermapbox\":[{\"type\":\"scattermapbox\",\"marker\":{\"colorbar\":{\"outlinewidth\":0,\"ticks\":\"\"}}}],\"scatterternary\":[{\"type\":\"scatterternary\",\"marker\":{\"colorbar\":{\"outlinewidth\":0,\"ticks\":\"\"}}}],\"scattercarpet\":[{\"type\":\"scattercarpet\",\"marker\":{\"colorbar\":{\"outlinewidth\":0,\"ticks\":\"\"}}}],\"carpet\":[{\"aaxis\":{\"endlinecolor\":\"#2a3f5f\",\"gridcolor\":\"white\",\"linecolor\":\"white\",\"minorgridcolor\":\"white\",\"startlinecolor\":\"#2a3f5f\"},\"baxis\":{\"endlinecolor\":\"#2a3f5f\",\"gridcolor\":\"white\",\"linecolor\":\"white\",\"minorgridcolor\":\"white\",\"startlinecolor\":\"#2a3f5f\"},\"type\":\"carpet\"}],\"table\":[{\"cells\":{\"fill\":{\"color\":\"#EBF0F8\"},\"line\":{\"color\":\"white\"}},\"header\":{\"fill\":{\"color\":\"#C8D4E3\"},\"line\":{\"color\":\"white\"}},\"type\":\"table\"}],\"barpolar\":[{\"marker\":{\"line\":{\"color\":\"#E5ECF6\",\"width\":0.5},\"pattern\":{\"fillmode\":\"overlay\",\"size\":10,\"solidity\":0.2}},\"type\":\"barpolar\"}],\"pie\":[{\"automargin\":true,\"type\":\"pie\"}]},\"layout\":{\"autotypenumbers\":\"strict\",\"colorway\":[\"#636efa\",\"#EF553B\",\"#00cc96\",\"#ab63fa\",\"#FFA15A\",\"#19d3f3\",\"#FF6692\",\"#B6E880\",\"#FF97FF\",\"#FECB52\"],\"font\":{\"color\":\"#2a3f5f\"},\"hovermode\":\"closest\",\"hoverlabel\":{\"align\":\"left\"},\"paper_bgcolor\":\"white\",\"plot_bgcolor\":\"#E5ECF6\",\"polar\":{\"bgcolor\":\"#E5ECF6\",\"angularaxis\":{\"gridcolor\":\"white\",\"linecolor\":\"white\",\"ticks\":\"\"},\"radialaxis\":{\"gridcolor\":\"white\",\"linecolor\":\"white\",\"ticks\":\"\"}},\"ternary\":{\"bgcolor\":\"#E5ECF6\",\"aaxis\":{\"gridcolor\":\"white\",\"linecolor\":\"white\",\"ticks\":\"\"},\"baxis\":{\"gridcolor\":\"white\",\"linecolor\":\"white\",\"ticks\":\"\"},\"caxis\":{\"gridcolor\":\"white\",\"linecolor\":\"white\",\"ticks\":\"\"}},\"coloraxis\":{\"colorbar\":{\"outlinewidth\":0,\"ticks\":\"\"}},\"colorscale\":{\"sequential\":[[0.0,\"#0d0887\"],[0.1111111111111111,\"#46039f\"],[0.2222222222222222,\"#7201a8\"],[0.3333333333333333,\"#9c179e\"],[0.4444444444444444,\"#bd3786\"],[0.5555555555555556,\"#d8576b\"],[0.6666666666666666,\"#ed7953\"],[0.7777777777777778,\"#fb9f3a\"],[0.8888888888888888,\"#fdca26\"],[1.0,\"#f0f921\"]],\"sequentialminus\":[[0.0,\"#0d0887\"],[0.1111111111111111,\"#46039f\"],[0.2222222222222222,\"#7201a8\"],[0.3333333333333333,\"#9c179e\"],[0.4444444444444444,\"#bd3786\"],[0.5555555555555556,\"#d8576b\"],[0.6666666666666666,\"#ed7953\"],[0.7777777777777778,\"#fb9f3a\"],[0.8888888888888888,\"#fdca26\"],[1.0,\"#f0f921\"]],\"diverging\":[[0,\"#8e0152\"],[0.1,\"#c51b7d\"],[0.2,\"#de77ae\"],[0.3,\"#f1b6da\"],[0.4,\"#fde0ef\"],[0.5,\"#f7f7f7\"],[0.6,\"#e6f5d0\"],[0.7,\"#b8e186\"],[0.8,\"#7fbc41\"],[0.9,\"#4d9221\"],[1,\"#276419\"]]},\"xaxis\":{\"gridcolor\":\"white\",\"linecolor\":\"white\",\"ticks\":\"\",\"title\":{\"standoff\":15},\"zerolinecolor\":\"white\",\"automargin\":true,\"zerolinewidth\":2},\"yaxis\":{\"gridcolor\":\"white\",\"linecolor\":\"white\",\"ticks\":\"\",\"title\":{\"standoff\":15},\"zerolinecolor\":\"white\",\"automargin\":true,\"zerolinewidth\":2},\"scene\":{\"xaxis\":{\"backgroundcolor\":\"#E5ECF6\",\"gridcolor\":\"white\",\"linecolor\":\"white\",\"showbackground\":true,\"ticks\":\"\",\"zerolinecolor\":\"white\",\"gridwidth\":2},\"yaxis\":{\"backgroundcolor\":\"#E5ECF6\",\"gridcolor\":\"white\",\"linecolor\":\"white\",\"showbackground\":true,\"ticks\":\"\",\"zerolinecolor\":\"white\",\"gridwidth\":2},\"zaxis\":{\"backgroundcolor\":\"#E5ECF6\",\"gridcolor\":\"white\",\"linecolor\":\"white\",\"showbackground\":true,\"ticks\":\"\",\"zerolinecolor\":\"white\",\"gridwidth\":2}},\"shapedefaults\":{\"line\":{\"color\":\"#2a3f5f\"}},\"annotationdefaults\":{\"arrowcolor\":\"#2a3f5f\",\"arrowhead\":0,\"arrowwidth\":1},\"geo\":{\"bgcolor\":\"white\",\"landcolor\":\"#E5ECF6\",\"subunitcolor\":\"white\",\"showland\":true,\"showlakes\":true,\"lakecolor\":\"white\"},\"title\":{\"x\":0.05},\"mapbox\":{\"style\":\"light\"}}},\"xaxis\":{\"anchor\":\"y\",\"domain\":[0.0,1.0],\"title\":{\"text\":\"Predicted Result\"}},\"yaxis\":{\"anchor\":\"x\",\"domain\":[0.0,1.0],\"title\":{\"text\":\"Alogirthms\"},\"categoryorder\":\"array\",\"categoryarray\":[\"GradientBoostingRegressor\",\"RandomForestRegressor\",\"SVR\",\"LinearRegression\"]},\"legend\":{\"title\":{\"text\":\"Alogirthms\"},\"tracegroupgap\":0},\"margin\":{\"t\":60},\"barmode\":\"relative\"},                        {\"responsive\": true}                    ).then(function(){\n",
       "                            \n",
       "var gd = document.getElementById('b123b321-b2cb-4e88-8e81-22e7f54b8860');\n",
       "var x = new MutationObserver(function (mutations, observer) {{\n",
       "        var display = window.getComputedStyle(gd).display;\n",
       "        if (!display || display === 'none') {{\n",
       "            console.log([gd, 'removed!']);\n",
       "            Plotly.purge(gd);\n",
       "            observer.disconnect();\n",
       "        }}\n",
       "}});\n",
       "\n",
       "// Listen for the removal of the full notebook cells\n",
       "var notebookContainer = gd.closest('#notebook-container');\n",
       "if (notebookContainer) {{\n",
       "    x.observe(notebookContainer, {childList: true});\n",
       "}}\n",
       "\n",
       "// Listen for the clearing of the current output cell\n",
       "var outputEl = gd.closest('.output');\n",
       "if (outputEl) {{\n",
       "    x.observe(outputEl, {childList: true});\n",
       "}}\n",
       "\n",
       "                        })                };                });            </script>        </div>"
      ]
     },
     "metadata": {},
     "output_type": "display_data"
    }
   ],
   "source": [
    "fig = px.bar(\n",
    "    evaluation,\n",
    "    y = 'Alogirthms',\n",
    "    x = 'Predicted Result',\n",
    "    color='Alogirthms',\n",
    "    text_auto=',.0%'\n",
    ")\n",
    "fig.show()"
   ]
  },
  {
   "cell_type": "code",
   "execution_count": 111,
   "id": "d2e5e3b1-1b98-4714-a929-0394586fddc2",
   "metadata": {},
   "outputs": [
    {
     "data": {
      "text/html": [
       "<style>#sk-container-id-4 {\n",
       "  /* Definition of color scheme common for light and dark mode */\n",
       "  --sklearn-color-text: black;\n",
       "  --sklearn-color-line: gray;\n",
       "  /* Definition of color scheme for unfitted estimators */\n",
       "  --sklearn-color-unfitted-level-0: #fff5e6;\n",
       "  --sklearn-color-unfitted-level-1: #f6e4d2;\n",
       "  --sklearn-color-unfitted-level-2: #ffe0b3;\n",
       "  --sklearn-color-unfitted-level-3: chocolate;\n",
       "  /* Definition of color scheme for fitted estimators */\n",
       "  --sklearn-color-fitted-level-0: #f0f8ff;\n",
       "  --sklearn-color-fitted-level-1: #d4ebff;\n",
       "  --sklearn-color-fitted-level-2: #b3dbfd;\n",
       "  --sklearn-color-fitted-level-3: cornflowerblue;\n",
       "\n",
       "  /* Specific color for light theme */\n",
       "  --sklearn-color-text-on-default-background: var(--sg-text-color, var(--theme-code-foreground, var(--jp-content-font-color1, black)));\n",
       "  --sklearn-color-background: var(--sg-background-color, var(--theme-background, var(--jp-layout-color0, white)));\n",
       "  --sklearn-color-border-box: var(--sg-text-color, var(--theme-code-foreground, var(--jp-content-font-color1, black)));\n",
       "  --sklearn-color-icon: #696969;\n",
       "\n",
       "  @media (prefers-color-scheme: dark) {\n",
       "    /* Redefinition of color scheme for dark theme */\n",
       "    --sklearn-color-text-on-default-background: var(--sg-text-color, var(--theme-code-foreground, var(--jp-content-font-color1, white)));\n",
       "    --sklearn-color-background: var(--sg-background-color, var(--theme-background, var(--jp-layout-color0, #111)));\n",
       "    --sklearn-color-border-box: var(--sg-text-color, var(--theme-code-foreground, var(--jp-content-font-color1, white)));\n",
       "    --sklearn-color-icon: #878787;\n",
       "  }\n",
       "}\n",
       "\n",
       "#sk-container-id-4 {\n",
       "  color: var(--sklearn-color-text);\n",
       "}\n",
       "\n",
       "#sk-container-id-4 pre {\n",
       "  padding: 0;\n",
       "}\n",
       "\n",
       "#sk-container-id-4 input.sk-hidden--visually {\n",
       "  border: 0;\n",
       "  clip: rect(1px 1px 1px 1px);\n",
       "  clip: rect(1px, 1px, 1px, 1px);\n",
       "  height: 1px;\n",
       "  margin: -1px;\n",
       "  overflow: hidden;\n",
       "  padding: 0;\n",
       "  position: absolute;\n",
       "  width: 1px;\n",
       "}\n",
       "\n",
       "#sk-container-id-4 div.sk-dashed-wrapped {\n",
       "  border: 1px dashed var(--sklearn-color-line);\n",
       "  margin: 0 0.4em 0.5em 0.4em;\n",
       "  box-sizing: border-box;\n",
       "  padding-bottom: 0.4em;\n",
       "  background-color: var(--sklearn-color-background);\n",
       "}\n",
       "\n",
       "#sk-container-id-4 div.sk-container {\n",
       "  /* jupyter's `normalize.less` sets `[hidden] { display: none; }`\n",
       "     but bootstrap.min.css set `[hidden] { display: none !important; }`\n",
       "     so we also need the `!important` here to be able to override the\n",
       "     default hidden behavior on the sphinx rendered scikit-learn.org.\n",
       "     See: https://github.com/scikit-learn/scikit-learn/issues/21755 */\n",
       "  display: inline-block !important;\n",
       "  position: relative;\n",
       "}\n",
       "\n",
       "#sk-container-id-4 div.sk-text-repr-fallback {\n",
       "  display: none;\n",
       "}\n",
       "\n",
       "div.sk-parallel-item,\n",
       "div.sk-serial,\n",
       "div.sk-item {\n",
       "  /* draw centered vertical line to link estimators */\n",
       "  background-image: linear-gradient(var(--sklearn-color-text-on-default-background), var(--sklearn-color-text-on-default-background));\n",
       "  background-size: 2px 100%;\n",
       "  background-repeat: no-repeat;\n",
       "  background-position: center center;\n",
       "}\n",
       "\n",
       "/* Parallel-specific style estimator block */\n",
       "\n",
       "#sk-container-id-4 div.sk-parallel-item::after {\n",
       "  content: \"\";\n",
       "  width: 100%;\n",
       "  border-bottom: 2px solid var(--sklearn-color-text-on-default-background);\n",
       "  flex-grow: 1;\n",
       "}\n",
       "\n",
       "#sk-container-id-4 div.sk-parallel {\n",
       "  display: flex;\n",
       "  align-items: stretch;\n",
       "  justify-content: center;\n",
       "  background-color: var(--sklearn-color-background);\n",
       "  position: relative;\n",
       "}\n",
       "\n",
       "#sk-container-id-4 div.sk-parallel-item {\n",
       "  display: flex;\n",
       "  flex-direction: column;\n",
       "}\n",
       "\n",
       "#sk-container-id-4 div.sk-parallel-item:first-child::after {\n",
       "  align-self: flex-end;\n",
       "  width: 50%;\n",
       "}\n",
       "\n",
       "#sk-container-id-4 div.sk-parallel-item:last-child::after {\n",
       "  align-self: flex-start;\n",
       "  width: 50%;\n",
       "}\n",
       "\n",
       "#sk-container-id-4 div.sk-parallel-item:only-child::after {\n",
       "  width: 0;\n",
       "}\n",
       "\n",
       "/* Serial-specific style estimator block */\n",
       "\n",
       "#sk-container-id-4 div.sk-serial {\n",
       "  display: flex;\n",
       "  flex-direction: column;\n",
       "  align-items: center;\n",
       "  background-color: var(--sklearn-color-background);\n",
       "  padding-right: 1em;\n",
       "  padding-left: 1em;\n",
       "}\n",
       "\n",
       "\n",
       "/* Toggleable style: style used for estimator/Pipeline/ColumnTransformer box that is\n",
       "clickable and can be expanded/collapsed.\n",
       "- Pipeline and ColumnTransformer use this feature and define the default style\n",
       "- Estimators will overwrite some part of the style using the `sk-estimator` class\n",
       "*/\n",
       "\n",
       "/* Pipeline and ColumnTransformer style (default) */\n",
       "\n",
       "#sk-container-id-4 div.sk-toggleable {\n",
       "  /* Default theme specific background. It is overwritten whether we have a\n",
       "  specific estimator or a Pipeline/ColumnTransformer */\n",
       "  background-color: var(--sklearn-color-background);\n",
       "}\n",
       "\n",
       "/* Toggleable label */\n",
       "#sk-container-id-4 label.sk-toggleable__label {\n",
       "  cursor: pointer;\n",
       "  display: block;\n",
       "  width: 100%;\n",
       "  margin-bottom: 0;\n",
       "  padding: 0.5em;\n",
       "  box-sizing: border-box;\n",
       "  text-align: center;\n",
       "}\n",
       "\n",
       "#sk-container-id-4 label.sk-toggleable__label-arrow:before {\n",
       "  /* Arrow on the left of the label */\n",
       "  content: \"▸\";\n",
       "  float: left;\n",
       "  margin-right: 0.25em;\n",
       "  color: var(--sklearn-color-icon);\n",
       "}\n",
       "\n",
       "#sk-container-id-4 label.sk-toggleable__label-arrow:hover:before {\n",
       "  color: var(--sklearn-color-text);\n",
       "}\n",
       "\n",
       "/* Toggleable content - dropdown */\n",
       "\n",
       "#sk-container-id-4 div.sk-toggleable__content {\n",
       "  max-height: 0;\n",
       "  max-width: 0;\n",
       "  overflow: hidden;\n",
       "  text-align: left;\n",
       "  /* unfitted */\n",
       "  background-color: var(--sklearn-color-unfitted-level-0);\n",
       "}\n",
       "\n",
       "#sk-container-id-4 div.sk-toggleable__content.fitted {\n",
       "  /* fitted */\n",
       "  background-color: var(--sklearn-color-fitted-level-0);\n",
       "}\n",
       "\n",
       "#sk-container-id-4 div.sk-toggleable__content pre {\n",
       "  margin: 0.2em;\n",
       "  border-radius: 0.25em;\n",
       "  color: var(--sklearn-color-text);\n",
       "  /* unfitted */\n",
       "  background-color: var(--sklearn-color-unfitted-level-0);\n",
       "}\n",
       "\n",
       "#sk-container-id-4 div.sk-toggleable__content.fitted pre {\n",
       "  /* unfitted */\n",
       "  background-color: var(--sklearn-color-fitted-level-0);\n",
       "}\n",
       "\n",
       "#sk-container-id-4 input.sk-toggleable__control:checked~div.sk-toggleable__content {\n",
       "  /* Expand drop-down */\n",
       "  max-height: 200px;\n",
       "  max-width: 100%;\n",
       "  overflow: auto;\n",
       "}\n",
       "\n",
       "#sk-container-id-4 input.sk-toggleable__control:checked~label.sk-toggleable__label-arrow:before {\n",
       "  content: \"▾\";\n",
       "}\n",
       "\n",
       "/* Pipeline/ColumnTransformer-specific style */\n",
       "\n",
       "#sk-container-id-4 div.sk-label input.sk-toggleable__control:checked~label.sk-toggleable__label {\n",
       "  color: var(--sklearn-color-text);\n",
       "  background-color: var(--sklearn-color-unfitted-level-2);\n",
       "}\n",
       "\n",
       "#sk-container-id-4 div.sk-label.fitted input.sk-toggleable__control:checked~label.sk-toggleable__label {\n",
       "  background-color: var(--sklearn-color-fitted-level-2);\n",
       "}\n",
       "\n",
       "/* Estimator-specific style */\n",
       "\n",
       "/* Colorize estimator box */\n",
       "#sk-container-id-4 div.sk-estimator input.sk-toggleable__control:checked~label.sk-toggleable__label {\n",
       "  /* unfitted */\n",
       "  background-color: var(--sklearn-color-unfitted-level-2);\n",
       "}\n",
       "\n",
       "#sk-container-id-4 div.sk-estimator.fitted input.sk-toggleable__control:checked~label.sk-toggleable__label {\n",
       "  /* fitted */\n",
       "  background-color: var(--sklearn-color-fitted-level-2);\n",
       "}\n",
       "\n",
       "#sk-container-id-4 div.sk-label label.sk-toggleable__label,\n",
       "#sk-container-id-4 div.sk-label label {\n",
       "  /* The background is the default theme color */\n",
       "  color: var(--sklearn-color-text-on-default-background);\n",
       "}\n",
       "\n",
       "/* On hover, darken the color of the background */\n",
       "#sk-container-id-4 div.sk-label:hover label.sk-toggleable__label {\n",
       "  color: var(--sklearn-color-text);\n",
       "  background-color: var(--sklearn-color-unfitted-level-2);\n",
       "}\n",
       "\n",
       "/* Label box, darken color on hover, fitted */\n",
       "#sk-container-id-4 div.sk-label.fitted:hover label.sk-toggleable__label.fitted {\n",
       "  color: var(--sklearn-color-text);\n",
       "  background-color: var(--sklearn-color-fitted-level-2);\n",
       "}\n",
       "\n",
       "/* Estimator label */\n",
       "\n",
       "#sk-container-id-4 div.sk-label label {\n",
       "  font-family: monospace;\n",
       "  font-weight: bold;\n",
       "  display: inline-block;\n",
       "  line-height: 1.2em;\n",
       "}\n",
       "\n",
       "#sk-container-id-4 div.sk-label-container {\n",
       "  text-align: center;\n",
       "}\n",
       "\n",
       "/* Estimator-specific */\n",
       "#sk-container-id-4 div.sk-estimator {\n",
       "  font-family: monospace;\n",
       "  border: 1px dotted var(--sklearn-color-border-box);\n",
       "  border-radius: 0.25em;\n",
       "  box-sizing: border-box;\n",
       "  margin-bottom: 0.5em;\n",
       "  /* unfitted */\n",
       "  background-color: var(--sklearn-color-unfitted-level-0);\n",
       "}\n",
       "\n",
       "#sk-container-id-4 div.sk-estimator.fitted {\n",
       "  /* fitted */\n",
       "  background-color: var(--sklearn-color-fitted-level-0);\n",
       "}\n",
       "\n",
       "/* on hover */\n",
       "#sk-container-id-4 div.sk-estimator:hover {\n",
       "  /* unfitted */\n",
       "  background-color: var(--sklearn-color-unfitted-level-2);\n",
       "}\n",
       "\n",
       "#sk-container-id-4 div.sk-estimator.fitted:hover {\n",
       "  /* fitted */\n",
       "  background-color: var(--sklearn-color-fitted-level-2);\n",
       "}\n",
       "\n",
       "/* Specification for estimator info (e.g. \"i\" and \"?\") */\n",
       "\n",
       "/* Common style for \"i\" and \"?\" */\n",
       "\n",
       ".sk-estimator-doc-link,\n",
       "a:link.sk-estimator-doc-link,\n",
       "a:visited.sk-estimator-doc-link {\n",
       "  float: right;\n",
       "  font-size: smaller;\n",
       "  line-height: 1em;\n",
       "  font-family: monospace;\n",
       "  background-color: var(--sklearn-color-background);\n",
       "  border-radius: 1em;\n",
       "  height: 1em;\n",
       "  width: 1em;\n",
       "  text-decoration: none !important;\n",
       "  margin-left: 1ex;\n",
       "  /* unfitted */\n",
       "  border: var(--sklearn-color-unfitted-level-1) 1pt solid;\n",
       "  color: var(--sklearn-color-unfitted-level-1);\n",
       "}\n",
       "\n",
       ".sk-estimator-doc-link.fitted,\n",
       "a:link.sk-estimator-doc-link.fitted,\n",
       "a:visited.sk-estimator-doc-link.fitted {\n",
       "  /* fitted */\n",
       "  border: var(--sklearn-color-fitted-level-1) 1pt solid;\n",
       "  color: var(--sklearn-color-fitted-level-1);\n",
       "}\n",
       "\n",
       "/* On hover */\n",
       "div.sk-estimator:hover .sk-estimator-doc-link:hover,\n",
       ".sk-estimator-doc-link:hover,\n",
       "div.sk-label-container:hover .sk-estimator-doc-link:hover,\n",
       ".sk-estimator-doc-link:hover {\n",
       "  /* unfitted */\n",
       "  background-color: var(--sklearn-color-unfitted-level-3);\n",
       "  color: var(--sklearn-color-background);\n",
       "  text-decoration: none;\n",
       "}\n",
       "\n",
       "div.sk-estimator.fitted:hover .sk-estimator-doc-link.fitted:hover,\n",
       ".sk-estimator-doc-link.fitted:hover,\n",
       "div.sk-label-container:hover .sk-estimator-doc-link.fitted:hover,\n",
       ".sk-estimator-doc-link.fitted:hover {\n",
       "  /* fitted */\n",
       "  background-color: var(--sklearn-color-fitted-level-3);\n",
       "  color: var(--sklearn-color-background);\n",
       "  text-decoration: none;\n",
       "}\n",
       "\n",
       "/* Span, style for the box shown on hovering the info icon */\n",
       ".sk-estimator-doc-link span {\n",
       "  display: none;\n",
       "  z-index: 9999;\n",
       "  position: relative;\n",
       "  font-weight: normal;\n",
       "  right: .2ex;\n",
       "  padding: .5ex;\n",
       "  margin: .5ex;\n",
       "  width: min-content;\n",
       "  min-width: 20ex;\n",
       "  max-width: 50ex;\n",
       "  color: var(--sklearn-color-text);\n",
       "  box-shadow: 2pt 2pt 4pt #999;\n",
       "  /* unfitted */\n",
       "  background: var(--sklearn-color-unfitted-level-0);\n",
       "  border: .5pt solid var(--sklearn-color-unfitted-level-3);\n",
       "}\n",
       "\n",
       ".sk-estimator-doc-link.fitted span {\n",
       "  /* fitted */\n",
       "  background: var(--sklearn-color-fitted-level-0);\n",
       "  border: var(--sklearn-color-fitted-level-3);\n",
       "}\n",
       "\n",
       ".sk-estimator-doc-link:hover span {\n",
       "  display: block;\n",
       "}\n",
       "\n",
       "/* \"?\"-specific style due to the `<a>` HTML tag */\n",
       "\n",
       "#sk-container-id-4 a.estimator_doc_link {\n",
       "  float: right;\n",
       "  font-size: 1rem;\n",
       "  line-height: 1em;\n",
       "  font-family: monospace;\n",
       "  background-color: var(--sklearn-color-background);\n",
       "  border-radius: 1rem;\n",
       "  height: 1rem;\n",
       "  width: 1rem;\n",
       "  text-decoration: none;\n",
       "  /* unfitted */\n",
       "  color: var(--sklearn-color-unfitted-level-1);\n",
       "  border: var(--sklearn-color-unfitted-level-1) 1pt solid;\n",
       "}\n",
       "\n",
       "#sk-container-id-4 a.estimator_doc_link.fitted {\n",
       "  /* fitted */\n",
       "  border: var(--sklearn-color-fitted-level-1) 1pt solid;\n",
       "  color: var(--sklearn-color-fitted-level-1);\n",
       "}\n",
       "\n",
       "/* On hover */\n",
       "#sk-container-id-4 a.estimator_doc_link:hover {\n",
       "  /* unfitted */\n",
       "  background-color: var(--sklearn-color-unfitted-level-3);\n",
       "  color: var(--sklearn-color-background);\n",
       "  text-decoration: none;\n",
       "}\n",
       "\n",
       "#sk-container-id-4 a.estimator_doc_link.fitted:hover {\n",
       "  /* fitted */\n",
       "  background-color: var(--sklearn-color-fitted-level-3);\n",
       "}\n",
       "</style><div id=\"sk-container-id-4\" class=\"sk-top-container\"><div class=\"sk-text-repr-fallback\"><pre>LinearRegression()</pre><b>In a Jupyter environment, please rerun this cell to show the HTML representation or trust the notebook. <br />On GitHub, the HTML representation is unable to render, please try loading this page with nbviewer.org.</b></div><div class=\"sk-container\" hidden><div class=\"sk-item\"><div class=\"sk-estimator fitted sk-toggleable\"><input class=\"sk-toggleable__control sk-hidden--visually\" id=\"sk-estimator-id-4\" type=\"checkbox\" checked><label for=\"sk-estimator-id-4\" class=\"sk-toggleable__label fitted sk-toggleable__label-arrow fitted\">&nbsp;&nbsp;LinearRegression<a class=\"sk-estimator-doc-link fitted\" rel=\"noreferrer\" target=\"_blank\" href=\"https://scikit-learn.org/1.5/modules/generated/sklearn.linear_model.LinearRegression.html\">?<span>Documentation for LinearRegression</span></a><span class=\"sk-estimator-doc-link fitted\">i<span>Fitted</span></span></label><div class=\"sk-toggleable__content fitted\"><pre>LinearRegression()</pre></div> </div></div></div></div>"
      ],
      "text/plain": [
       "LinearRegression()"
      ]
     },
     "execution_count": 111,
     "metadata": {},
     "output_type": "execute_result"
    }
   ],
   "source": [
    "lr = LinearRegression()\n",
    "lr.fit(X,y)"
   ]
  },
  {
   "cell_type": "code",
   "execution_count": 112,
   "id": "551d3077-e84a-46d7-a111-7728fd0ded7f",
   "metadata": {},
   "outputs": [],
   "source": [
    "import joblib"
   ]
  },
  {
   "cell_type": "code",
   "execution_count": 113,
   "id": "1fdd0d8d-7165-466e-88f9-b317e37135e0",
   "metadata": {},
   "outputs": [
    {
     "data": {
      "text/plain": [
       "['Used_Price_model']"
      ]
     },
     "execution_count": 113,
     "metadata": {},
     "output_type": "execute_result"
    }
   ],
   "source": [
    "#saving the model\n",
    "joblib.dump(lr,\"Used_Price_model\")"
   ]
  },
  {
   "cell_type": "code",
   "execution_count": 114,
   "id": "58d86319-0d84-4c30-9cf5-4e005c2c93fd",
   "metadata": {},
   "outputs": [
    {
     "data": {
      "text/plain": [
       "['scaler_used']"
      ]
     },
     "execution_count": 114,
     "metadata": {},
     "output_type": "execute_result"
    }
   ],
   "source": [
    "#saving the scaler\n",
    "joblib.dump(ss, \"scaler_used\")"
   ]
  },
  {
   "cell_type": "code",
   "execution_count": 115,
   "id": "6ace5aff-55f3-41b0-a50e-41a5f748fbba",
   "metadata": {},
   "outputs": [],
   "source": [
    "model = joblib.load(\"Used_Price_model\")\n",
    "scaler = joblib.load(\"scaler_used\")"
   ]
  },
  {
   "cell_type": "code",
   "execution_count": null,
   "id": "5c0b78c2-4ce1-4a54-a1e0-86f84a8e2164",
   "metadata": {},
   "outputs": [],
   "source": []
  }
 ],
 "metadata": {
  "kernelspec": {
   "display_name": "Python 3 (ipykernel)",
   "language": "python",
   "name": "python3"
  },
  "language_info": {
   "codemirror_mode": {
    "name": "ipython",
    "version": 3
   },
   "file_extension": ".py",
   "mimetype": "text/x-python",
   "name": "python",
   "nbconvert_exporter": "python",
   "pygments_lexer": "ipython3",
   "version": "3.13.0"
  }
 },
 "nbformat": 4,
 "nbformat_minor": 5
}
